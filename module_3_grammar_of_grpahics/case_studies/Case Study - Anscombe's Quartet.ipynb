{
 "cells": [
  {
   "cell_type": "markdown",
   "id": "ac812011",
   "metadata": {},
   "source": [
    "# Case Study: Anscombe's Quartet\n",
    "\n",
    "In this case study, we are going to take a look at the famous [Anscombe's quartet example](https://en.wikipedia.org/wiki/Anscombe%27s_quartet). It is constructed by English statistitian Francis Anscombe. The dataset consists of 4 data series that are nearly identical in typical statistics measures such as mean and variance. Yet, when plotted, these 4 data series are visually distinct.\n",
    "\n",
    "We will start from scratch and generate a faceted plot of Anscombe's quartet using [Altair](https://altair-viz.github.io/index.html). Let's start from loading the dataset!\n",
    "\n",
    "## Data"
   ]
  },
  {
   "cell_type": "code",
   "execution_count": 1,
   "id": "4bfe70a8",
   "metadata": {},
   "outputs": [],
   "source": [
    "from vega_datasets import data\n",
    "import altair as alt"
   ]
  },
  {
   "cell_type": "code",
   "execution_count": 2,
   "id": "a1e71056",
   "metadata": {},
   "outputs": [
    {
     "name": "stdout",
     "output_type": "stream",
     "text": [
      "<class 'pandas.core.frame.DataFrame'>\n",
      "RangeIndex: 44 entries, 0 to 43\n",
      "Data columns (total 3 columns):\n",
      " #   Column  Non-Null Count  Dtype  \n",
      "---  ------  --------------  -----  \n",
      " 0   Series  44 non-null     object \n",
      " 1   X       44 non-null     int64  \n",
      " 2   Y       44 non-null     float64\n",
      "dtypes: float64(1), int64(1), object(1)\n",
      "memory usage: 1.2+ KB\n"
     ]
    },
    {
     "data": {
      "text/html": [
       "<div>\n",
       "<style scoped>\n",
       "    .dataframe tbody tr th:only-of-type {\n",
       "        vertical-align: middle;\n",
       "    }\n",
       "\n",
       "    .dataframe tbody tr th {\n",
       "        vertical-align: top;\n",
       "    }\n",
       "\n",
       "    .dataframe thead th {\n",
       "        text-align: right;\n",
       "    }\n",
       "</style>\n",
       "<table border=\"1\" class=\"dataframe\">\n",
       "  <thead>\n",
       "    <tr style=\"text-align: right;\">\n",
       "      <th></th>\n",
       "      <th>Series</th>\n",
       "      <th>X</th>\n",
       "      <th>Y</th>\n",
       "    </tr>\n",
       "  </thead>\n",
       "  <tbody>\n",
       "    <tr>\n",
       "      <th>0</th>\n",
       "      <td>I</td>\n",
       "      <td>10</td>\n",
       "      <td>8.04</td>\n",
       "    </tr>\n",
       "    <tr>\n",
       "      <th>1</th>\n",
       "      <td>I</td>\n",
       "      <td>8</td>\n",
       "      <td>6.95</td>\n",
       "    </tr>\n",
       "    <tr>\n",
       "      <th>2</th>\n",
       "      <td>I</td>\n",
       "      <td>13</td>\n",
       "      <td>7.58</td>\n",
       "    </tr>\n",
       "    <tr>\n",
       "      <th>3</th>\n",
       "      <td>I</td>\n",
       "      <td>9</td>\n",
       "      <td>8.81</td>\n",
       "    </tr>\n",
       "    <tr>\n",
       "      <th>4</th>\n",
       "      <td>I</td>\n",
       "      <td>11</td>\n",
       "      <td>8.33</td>\n",
       "    </tr>\n",
       "  </tbody>\n",
       "</table>\n",
       "</div>"
      ],
      "text/plain": [
       "  Series   X     Y\n",
       "0      I  10  8.04\n",
       "1      I   8  6.95\n",
       "2      I  13  7.58\n",
       "3      I   9  8.81\n",
       "4      I  11  8.33"
      ]
     },
     "execution_count": 2,
     "metadata": {},
     "output_type": "execute_result"
    }
   ],
   "source": [
    "# Setup raw data for Anscombe's quartet\n",
    "anscombe = data.anscombe()\n",
    "anscombe.info()\n",
    "anscombe.head()"
   ]
  },
  {
   "cell_type": "markdown",
   "id": "a8f56a26",
   "metadata": {},
   "source": [
    "Note that the dataset consists of 3 columns: \"Series\", \"X\" and \"Y\". Each row represents a data point (aka. an observation). The \"Series\" column groups the data points into 4 series.  Let's take a closer look at each series."
   ]
  },
  {
   "cell_type": "code",
   "execution_count": 3,
   "id": "74cce5e4",
   "metadata": {},
   "outputs": [
    {
     "name": "stdout",
     "output_type": "stream",
     "text": [
      "               X         Y\n",
      "count  11.000000  11.00000\n",
      "mean    9.000000   7.50000\n",
      "std     3.316625   2.03289\n",
      "min     4.000000   4.26000\n",
      "25%     6.500000   6.31500\n",
      "50%     9.000000   7.58000\n",
      "75%    11.500000   8.57000\n",
      "max    14.000000  10.84000\n",
      "               X          Y\n",
      "count  11.000000  11.000000\n",
      "mean    9.000000   7.500909\n",
      "std     3.316625   2.031657\n",
      "min     4.000000   3.100000\n",
      "25%     6.500000   6.695000\n",
      "50%     9.000000   8.140000\n",
      "75%    11.500000   8.950000\n",
      "max    14.000000   9.260000\n"
     ]
    }
   ],
   "source": [
    "series_I = anscombe[anscombe.Series == 'I']\n",
    "series_II = anscombe[anscombe.Series == 'II']\n",
    "print(series_I.describe())\n",
    "print(series_II.describe())"
   ]
  },
  {
   "cell_type": "markdown",
   "id": "670069d6",
   "metadata": {},
   "source": [
    "By looking at the statistics for the first 2 series, the mean and standard diviation of them are indeed the same. Feel free to modify the code and check the other 2 series.\n",
    "\n",
    "## Visualization\n",
    "\n",
    "Now, let's plot the data. Since the dataset contains an \"X\" column and a \"Y\" column, as a first step, we can plot them as dots (i.e. scatter plot) and see how they look. In the language of grammar of graphics, that means we will select circle as the \"mark\", and encode the \"X\" and \"Y\" columns as the x and y coordinates.\n",
    "\n",
    "### First try"
   ]
  },
  {
   "cell_type": "code",
   "execution_count": 4,
   "id": "c910e2ea",
   "metadata": {
    "scrolled": true
   },
   "outputs": [
    {
     "data": {
      "text/html": [
       "\n",
       "<div id=\"altair-viz-b25f450c9a944c2da12298fc18d4fe44\"></div>\n",
       "<script type=\"text/javascript\">\n",
       "  var VEGA_DEBUG = (typeof VEGA_DEBUG == \"undefined\") ? {} : VEGA_DEBUG;\n",
       "  (function(spec, embedOpt){\n",
       "    let outputDiv = document.currentScript.previousElementSibling;\n",
       "    if (outputDiv.id !== \"altair-viz-b25f450c9a944c2da12298fc18d4fe44\") {\n",
       "      outputDiv = document.getElementById(\"altair-viz-b25f450c9a944c2da12298fc18d4fe44\");\n",
       "    }\n",
       "    const paths = {\n",
       "      \"vega\": \"https://cdn.jsdelivr.net/npm//vega@5?noext\",\n",
       "      \"vega-lib\": \"https://cdn.jsdelivr.net/npm//vega-lib?noext\",\n",
       "      \"vega-lite\": \"https://cdn.jsdelivr.net/npm//vega-lite@4.17.0?noext\",\n",
       "      \"vega-embed\": \"https://cdn.jsdelivr.net/npm//vega-embed@6?noext\",\n",
       "    };\n",
       "\n",
       "    function maybeLoadScript(lib, version) {\n",
       "      var key = `${lib.replace(\"-\", \"\")}_version`;\n",
       "      return (VEGA_DEBUG[key] == version) ?\n",
       "        Promise.resolve(paths[lib]) :\n",
       "        new Promise(function(resolve, reject) {\n",
       "          var s = document.createElement('script');\n",
       "          document.getElementsByTagName(\"head\")[0].appendChild(s);\n",
       "          s.async = true;\n",
       "          s.onload = () => {\n",
       "            VEGA_DEBUG[key] = version;\n",
       "            return resolve(paths[lib]);\n",
       "          };\n",
       "          s.onerror = () => reject(`Error loading script: ${paths[lib]}`);\n",
       "          s.src = paths[lib];\n",
       "        });\n",
       "    }\n",
       "\n",
       "    function showError(err) {\n",
       "      outputDiv.innerHTML = `<div class=\"error\" style=\"color:red;\">${err}</div>`;\n",
       "      throw err;\n",
       "    }\n",
       "\n",
       "    function displayChart(vegaEmbed) {\n",
       "      vegaEmbed(outputDiv, spec, embedOpt)\n",
       "        .catch(err => showError(`Javascript Error: ${err.message}<br>This usually means there's a typo in your chart specification. See the javascript console for the full traceback.`));\n",
       "    }\n",
       "\n",
       "    if(typeof define === \"function\" && define.amd) {\n",
       "      requirejs.config({paths});\n",
       "      require([\"vega-embed\"], displayChart, err => showError(`Error loading script: ${err.message}`));\n",
       "    } else {\n",
       "      maybeLoadScript(\"vega\", \"5\")\n",
       "        .then(() => maybeLoadScript(\"vega-lite\", \"4.17.0\"))\n",
       "        .then(() => maybeLoadScript(\"vega-embed\", \"6\"))\n",
       "        .catch(showError)\n",
       "        .then(() => displayChart(vegaEmbed));\n",
       "    }\n",
       "  })({\"config\": {\"view\": {\"continuousWidth\": 400, \"continuousHeight\": 300}}, \"data\": {\"name\": \"data-3d23a3381c61efd5a9c7a8abc82c6d65\"}, \"mark\": {\"type\": \"circle\", \"size\": 50}, \"encoding\": {\"x\": {\"field\": \"X\", \"type\": \"quantitative\"}, \"y\": {\"field\": \"Y\", \"type\": \"quantitative\"}}, \"$schema\": \"https://vega.github.io/schema/vega-lite/v4.17.0.json\", \"datasets\": {\"data-3d23a3381c61efd5a9c7a8abc82c6d65\": [{\"Series\": \"I\", \"X\": 10, \"Y\": 8.04}, {\"Series\": \"I\", \"X\": 8, \"Y\": 6.95}, {\"Series\": \"I\", \"X\": 13, \"Y\": 7.58}, {\"Series\": \"I\", \"X\": 9, \"Y\": 8.81}, {\"Series\": \"I\", \"X\": 11, \"Y\": 8.33}, {\"Series\": \"I\", \"X\": 14, \"Y\": 9.96}, {\"Series\": \"I\", \"X\": 6, \"Y\": 7.24}, {\"Series\": \"I\", \"X\": 4, \"Y\": 4.26}, {\"Series\": \"I\", \"X\": 12, \"Y\": 10.84}, {\"Series\": \"I\", \"X\": 7, \"Y\": 4.8100000000000005}, {\"Series\": \"I\", \"X\": 5, \"Y\": 5.68}, {\"Series\": \"II\", \"X\": 10, \"Y\": 9.14}, {\"Series\": \"II\", \"X\": 8, \"Y\": 8.14}, {\"Series\": \"II\", \"X\": 13, \"Y\": 8.74}, {\"Series\": \"II\", \"X\": 9, \"Y\": 8.77}, {\"Series\": \"II\", \"X\": 11, \"Y\": 9.26}, {\"Series\": \"II\", \"X\": 14, \"Y\": 8.1}, {\"Series\": \"II\", \"X\": 6, \"Y\": 6.13}, {\"Series\": \"II\", \"X\": 4, \"Y\": 3.1}, {\"Series\": \"II\", \"X\": 12, \"Y\": 9.13}, {\"Series\": \"II\", \"X\": 7, \"Y\": 7.26}, {\"Series\": \"II\", \"X\": 5, \"Y\": 4.74}, {\"Series\": \"III\", \"X\": 10, \"Y\": 7.46}, {\"Series\": \"III\", \"X\": 8, \"Y\": 6.77}, {\"Series\": \"III\", \"X\": 13, \"Y\": 12.74}, {\"Series\": \"III\", \"X\": 9, \"Y\": 7.11}, {\"Series\": \"III\", \"X\": 11, \"Y\": 7.8100000000000005}, {\"Series\": \"III\", \"X\": 14, \"Y\": 8.84}, {\"Series\": \"III\", \"X\": 6, \"Y\": 6.08}, {\"Series\": \"III\", \"X\": 4, \"Y\": 5.39}, {\"Series\": \"III\", \"X\": 12, \"Y\": 8.15}, {\"Series\": \"III\", \"X\": 7, \"Y\": 6.42}, {\"Series\": \"III\", \"X\": 5, \"Y\": 5.73}, {\"Series\": \"IV\", \"X\": 8, \"Y\": 6.58}, {\"Series\": \"IV\", \"X\": 8, \"Y\": 5.76}, {\"Series\": \"IV\", \"X\": 8, \"Y\": 7.71}, {\"Series\": \"IV\", \"X\": 8, \"Y\": 8.84}, {\"Series\": \"IV\", \"X\": 8, \"Y\": 8.47}, {\"Series\": \"IV\", \"X\": 8, \"Y\": 7.04}, {\"Series\": \"IV\", \"X\": 8, \"Y\": 5.25}, {\"Series\": \"IV\", \"X\": 19, \"Y\": 12.5}, {\"Series\": \"IV\", \"X\": 8, \"Y\": 5.5600000000000005}, {\"Series\": \"IV\", \"X\": 8, \"Y\": 7.91}, {\"Series\": \"IV\", \"X\": 8, \"Y\": 6.89}]}}, {\"mode\": \"vega-lite\"});\n",
       "</script>"
      ],
      "text/plain": [
       "alt.Chart(...)"
      ]
     },
     "execution_count": 4,
     "metadata": {},
     "output_type": "execute_result"
    }
   ],
   "source": [
    "chart = alt.Chart(anscombe)\n",
    "chart = chart.mark_circle(size=50)\n",
    "chart = chart.encode(x='X', y='Y')\n",
    "chart"
   ]
  },
  {
   "cell_type": "markdown",
   "id": "e2172c8d",
   "metadata": {},
   "source": [
    "Here we have the scatter plot!  Noticed that I passed a `size=50` argument to `mark_circle` method to adjust the size properties of the circles.  You can find out more about other mark-related properties we can set [here](https://altair-viz.github.io/user_guide/marks.html#mark-properties).  Feel free to play around!\n",
    "\n",
    "While this plot is good, it contains no information about the series! Let's fix that by encoding series information as color:"
   ]
  },
  {
   "cell_type": "code",
   "execution_count": 5,
   "id": "a3026f32",
   "metadata": {},
   "outputs": [
    {
     "data": {
      "text/html": [
       "\n",
       "<div id=\"altair-viz-f236e8ecf765456e91d74e2e47c79491\"></div>\n",
       "<script type=\"text/javascript\">\n",
       "  var VEGA_DEBUG = (typeof VEGA_DEBUG == \"undefined\") ? {} : VEGA_DEBUG;\n",
       "  (function(spec, embedOpt){\n",
       "    let outputDiv = document.currentScript.previousElementSibling;\n",
       "    if (outputDiv.id !== \"altair-viz-f236e8ecf765456e91d74e2e47c79491\") {\n",
       "      outputDiv = document.getElementById(\"altair-viz-f236e8ecf765456e91d74e2e47c79491\");\n",
       "    }\n",
       "    const paths = {\n",
       "      \"vega\": \"https://cdn.jsdelivr.net/npm//vega@5?noext\",\n",
       "      \"vega-lib\": \"https://cdn.jsdelivr.net/npm//vega-lib?noext\",\n",
       "      \"vega-lite\": \"https://cdn.jsdelivr.net/npm//vega-lite@4.17.0?noext\",\n",
       "      \"vega-embed\": \"https://cdn.jsdelivr.net/npm//vega-embed@6?noext\",\n",
       "    };\n",
       "\n",
       "    function maybeLoadScript(lib, version) {\n",
       "      var key = `${lib.replace(\"-\", \"\")}_version`;\n",
       "      return (VEGA_DEBUG[key] == version) ?\n",
       "        Promise.resolve(paths[lib]) :\n",
       "        new Promise(function(resolve, reject) {\n",
       "          var s = document.createElement('script');\n",
       "          document.getElementsByTagName(\"head\")[0].appendChild(s);\n",
       "          s.async = true;\n",
       "          s.onload = () => {\n",
       "            VEGA_DEBUG[key] = version;\n",
       "            return resolve(paths[lib]);\n",
       "          };\n",
       "          s.onerror = () => reject(`Error loading script: ${paths[lib]}`);\n",
       "          s.src = paths[lib];\n",
       "        });\n",
       "    }\n",
       "\n",
       "    function showError(err) {\n",
       "      outputDiv.innerHTML = `<div class=\"error\" style=\"color:red;\">${err}</div>`;\n",
       "      throw err;\n",
       "    }\n",
       "\n",
       "    function displayChart(vegaEmbed) {\n",
       "      vegaEmbed(outputDiv, spec, embedOpt)\n",
       "        .catch(err => showError(`Javascript Error: ${err.message}<br>This usually means there's a typo in your chart specification. See the javascript console for the full traceback.`));\n",
       "    }\n",
       "\n",
       "    if(typeof define === \"function\" && define.amd) {\n",
       "      requirejs.config({paths});\n",
       "      require([\"vega-embed\"], displayChart, err => showError(`Error loading script: ${err.message}`));\n",
       "    } else {\n",
       "      maybeLoadScript(\"vega\", \"5\")\n",
       "        .then(() => maybeLoadScript(\"vega-lite\", \"4.17.0\"))\n",
       "        .then(() => maybeLoadScript(\"vega-embed\", \"6\"))\n",
       "        .catch(showError)\n",
       "        .then(() => displayChart(vegaEmbed));\n",
       "    }\n",
       "  })({\"config\": {\"view\": {\"continuousWidth\": 400, \"continuousHeight\": 300}}, \"data\": {\"name\": \"data-3d23a3381c61efd5a9c7a8abc82c6d65\"}, \"mark\": {\"type\": \"circle\", \"size\": 50}, \"encoding\": {\"color\": {\"field\": \"Series\", \"type\": \"nominal\"}, \"x\": {\"field\": \"X\", \"type\": \"quantitative\"}, \"y\": {\"field\": \"Y\", \"type\": \"quantitative\"}}, \"$schema\": \"https://vega.github.io/schema/vega-lite/v4.17.0.json\", \"datasets\": {\"data-3d23a3381c61efd5a9c7a8abc82c6d65\": [{\"Series\": \"I\", \"X\": 10, \"Y\": 8.04}, {\"Series\": \"I\", \"X\": 8, \"Y\": 6.95}, {\"Series\": \"I\", \"X\": 13, \"Y\": 7.58}, {\"Series\": \"I\", \"X\": 9, \"Y\": 8.81}, {\"Series\": \"I\", \"X\": 11, \"Y\": 8.33}, {\"Series\": \"I\", \"X\": 14, \"Y\": 9.96}, {\"Series\": \"I\", \"X\": 6, \"Y\": 7.24}, {\"Series\": \"I\", \"X\": 4, \"Y\": 4.26}, {\"Series\": \"I\", \"X\": 12, \"Y\": 10.84}, {\"Series\": \"I\", \"X\": 7, \"Y\": 4.8100000000000005}, {\"Series\": \"I\", \"X\": 5, \"Y\": 5.68}, {\"Series\": \"II\", \"X\": 10, \"Y\": 9.14}, {\"Series\": \"II\", \"X\": 8, \"Y\": 8.14}, {\"Series\": \"II\", \"X\": 13, \"Y\": 8.74}, {\"Series\": \"II\", \"X\": 9, \"Y\": 8.77}, {\"Series\": \"II\", \"X\": 11, \"Y\": 9.26}, {\"Series\": \"II\", \"X\": 14, \"Y\": 8.1}, {\"Series\": \"II\", \"X\": 6, \"Y\": 6.13}, {\"Series\": \"II\", \"X\": 4, \"Y\": 3.1}, {\"Series\": \"II\", \"X\": 12, \"Y\": 9.13}, {\"Series\": \"II\", \"X\": 7, \"Y\": 7.26}, {\"Series\": \"II\", \"X\": 5, \"Y\": 4.74}, {\"Series\": \"III\", \"X\": 10, \"Y\": 7.46}, {\"Series\": \"III\", \"X\": 8, \"Y\": 6.77}, {\"Series\": \"III\", \"X\": 13, \"Y\": 12.74}, {\"Series\": \"III\", \"X\": 9, \"Y\": 7.11}, {\"Series\": \"III\", \"X\": 11, \"Y\": 7.8100000000000005}, {\"Series\": \"III\", \"X\": 14, \"Y\": 8.84}, {\"Series\": \"III\", \"X\": 6, \"Y\": 6.08}, {\"Series\": \"III\", \"X\": 4, \"Y\": 5.39}, {\"Series\": \"III\", \"X\": 12, \"Y\": 8.15}, {\"Series\": \"III\", \"X\": 7, \"Y\": 6.42}, {\"Series\": \"III\", \"X\": 5, \"Y\": 5.73}, {\"Series\": \"IV\", \"X\": 8, \"Y\": 6.58}, {\"Series\": \"IV\", \"X\": 8, \"Y\": 5.76}, {\"Series\": \"IV\", \"X\": 8, \"Y\": 7.71}, {\"Series\": \"IV\", \"X\": 8, \"Y\": 8.84}, {\"Series\": \"IV\", \"X\": 8, \"Y\": 8.47}, {\"Series\": \"IV\", \"X\": 8, \"Y\": 7.04}, {\"Series\": \"IV\", \"X\": 8, \"Y\": 5.25}, {\"Series\": \"IV\", \"X\": 19, \"Y\": 12.5}, {\"Series\": \"IV\", \"X\": 8, \"Y\": 5.5600000000000005}, {\"Series\": \"IV\", \"X\": 8, \"Y\": 7.91}, {\"Series\": \"IV\", \"X\": 8, \"Y\": 6.89}]}}, {\"mode\": \"vega-lite\"});\n",
       "</script>"
      ],
      "text/plain": [
       "alt.Chart(...)"
      ]
     },
     "execution_count": 5,
     "metadata": {},
     "output_type": "execute_result"
    }
   ],
   "source": [
    "chart = chart.encode(color='Series:N')\n",
    "chart"
   ]
  },
  {
   "cell_type": "markdown",
   "id": "46b2dd55",
   "metadata": {},
   "source": [
    "### Faceted chart\n",
    "\n",
    "So far so good! However, Anscombe's quartet are often visualized as 4 subplots sharing the same scale in x and y. This is an example of a common visualization technique called [small multiple](https://en.wikipedia.org/wiki/Small_multiple) that we will be using very often in this course. Altair can achieve this using [faceted chart](https://altair-viz.github.io/user_guide/compound_charts.html#facet-chart):"
   ]
  },
  {
   "cell_type": "code",
   "execution_count": 6,
   "id": "e72f4819",
   "metadata": {
    "scrolled": true
   },
   "outputs": [
    {
     "data": {
      "text/html": [
       "\n",
       "<div id=\"altair-viz-9c81f92dae764da6b811edabecdc7d4f\"></div>\n",
       "<script type=\"text/javascript\">\n",
       "  var VEGA_DEBUG = (typeof VEGA_DEBUG == \"undefined\") ? {} : VEGA_DEBUG;\n",
       "  (function(spec, embedOpt){\n",
       "    let outputDiv = document.currentScript.previousElementSibling;\n",
       "    if (outputDiv.id !== \"altair-viz-9c81f92dae764da6b811edabecdc7d4f\") {\n",
       "      outputDiv = document.getElementById(\"altair-viz-9c81f92dae764da6b811edabecdc7d4f\");\n",
       "    }\n",
       "    const paths = {\n",
       "      \"vega\": \"https://cdn.jsdelivr.net/npm//vega@5?noext\",\n",
       "      \"vega-lib\": \"https://cdn.jsdelivr.net/npm//vega-lib?noext\",\n",
       "      \"vega-lite\": \"https://cdn.jsdelivr.net/npm//vega-lite@4.17.0?noext\",\n",
       "      \"vega-embed\": \"https://cdn.jsdelivr.net/npm//vega-embed@6?noext\",\n",
       "    };\n",
       "\n",
       "    function maybeLoadScript(lib, version) {\n",
       "      var key = `${lib.replace(\"-\", \"\")}_version`;\n",
       "      return (VEGA_DEBUG[key] == version) ?\n",
       "        Promise.resolve(paths[lib]) :\n",
       "        new Promise(function(resolve, reject) {\n",
       "          var s = document.createElement('script');\n",
       "          document.getElementsByTagName(\"head\")[0].appendChild(s);\n",
       "          s.async = true;\n",
       "          s.onload = () => {\n",
       "            VEGA_DEBUG[key] = version;\n",
       "            return resolve(paths[lib]);\n",
       "          };\n",
       "          s.onerror = () => reject(`Error loading script: ${paths[lib]}`);\n",
       "          s.src = paths[lib];\n",
       "        });\n",
       "    }\n",
       "\n",
       "    function showError(err) {\n",
       "      outputDiv.innerHTML = `<div class=\"error\" style=\"color:red;\">${err}</div>`;\n",
       "      throw err;\n",
       "    }\n",
       "\n",
       "    function displayChart(vegaEmbed) {\n",
       "      vegaEmbed(outputDiv, spec, embedOpt)\n",
       "        .catch(err => showError(`Javascript Error: ${err.message}<br>This usually means there's a typo in your chart specification. See the javascript console for the full traceback.`));\n",
       "    }\n",
       "\n",
       "    if(typeof define === \"function\" && define.amd) {\n",
       "      requirejs.config({paths});\n",
       "      require([\"vega-embed\"], displayChart, err => showError(`Error loading script: ${err.message}`));\n",
       "    } else {\n",
       "      maybeLoadScript(\"vega\", \"5\")\n",
       "        .then(() => maybeLoadScript(\"vega-lite\", \"4.17.0\"))\n",
       "        .then(() => maybeLoadScript(\"vega-embed\", \"6\"))\n",
       "        .catch(showError)\n",
       "        .then(() => displayChart(vegaEmbed));\n",
       "    }\n",
       "  })({\"config\": {\"view\": {\"continuousWidth\": 400, \"continuousHeight\": 300}}, \"data\": {\"name\": \"data-3d23a3381c61efd5a9c7a8abc82c6d65\"}, \"facet\": {\"field\": \"Series\", \"type\": \"nominal\"}, \"spec\": {\"mark\": {\"type\": \"circle\", \"size\": 50}, \"encoding\": {\"color\": {\"field\": \"Series\", \"type\": \"nominal\"}, \"x\": {\"field\": \"X\", \"type\": \"quantitative\"}, \"y\": {\"field\": \"Y\", \"type\": \"quantitative\"}}, \"height\": 200, \"width\": 200}, \"columns\": 2, \"$schema\": \"https://vega.github.io/schema/vega-lite/v4.17.0.json\", \"datasets\": {\"data-3d23a3381c61efd5a9c7a8abc82c6d65\": [{\"Series\": \"I\", \"X\": 10, \"Y\": 8.04}, {\"Series\": \"I\", \"X\": 8, \"Y\": 6.95}, {\"Series\": \"I\", \"X\": 13, \"Y\": 7.58}, {\"Series\": \"I\", \"X\": 9, \"Y\": 8.81}, {\"Series\": \"I\", \"X\": 11, \"Y\": 8.33}, {\"Series\": \"I\", \"X\": 14, \"Y\": 9.96}, {\"Series\": \"I\", \"X\": 6, \"Y\": 7.24}, {\"Series\": \"I\", \"X\": 4, \"Y\": 4.26}, {\"Series\": \"I\", \"X\": 12, \"Y\": 10.84}, {\"Series\": \"I\", \"X\": 7, \"Y\": 4.8100000000000005}, {\"Series\": \"I\", \"X\": 5, \"Y\": 5.68}, {\"Series\": \"II\", \"X\": 10, \"Y\": 9.14}, {\"Series\": \"II\", \"X\": 8, \"Y\": 8.14}, {\"Series\": \"II\", \"X\": 13, \"Y\": 8.74}, {\"Series\": \"II\", \"X\": 9, \"Y\": 8.77}, {\"Series\": \"II\", \"X\": 11, \"Y\": 9.26}, {\"Series\": \"II\", \"X\": 14, \"Y\": 8.1}, {\"Series\": \"II\", \"X\": 6, \"Y\": 6.13}, {\"Series\": \"II\", \"X\": 4, \"Y\": 3.1}, {\"Series\": \"II\", \"X\": 12, \"Y\": 9.13}, {\"Series\": \"II\", \"X\": 7, \"Y\": 7.26}, {\"Series\": \"II\", \"X\": 5, \"Y\": 4.74}, {\"Series\": \"III\", \"X\": 10, \"Y\": 7.46}, {\"Series\": \"III\", \"X\": 8, \"Y\": 6.77}, {\"Series\": \"III\", \"X\": 13, \"Y\": 12.74}, {\"Series\": \"III\", \"X\": 9, \"Y\": 7.11}, {\"Series\": \"III\", \"X\": 11, \"Y\": 7.8100000000000005}, {\"Series\": \"III\", \"X\": 14, \"Y\": 8.84}, {\"Series\": \"III\", \"X\": 6, \"Y\": 6.08}, {\"Series\": \"III\", \"X\": 4, \"Y\": 5.39}, {\"Series\": \"III\", \"X\": 12, \"Y\": 8.15}, {\"Series\": \"III\", \"X\": 7, \"Y\": 6.42}, {\"Series\": \"III\", \"X\": 5, \"Y\": 5.73}, {\"Series\": \"IV\", \"X\": 8, \"Y\": 6.58}, {\"Series\": \"IV\", \"X\": 8, \"Y\": 5.76}, {\"Series\": \"IV\", \"X\": 8, \"Y\": 7.71}, {\"Series\": \"IV\", \"X\": 8, \"Y\": 8.84}, {\"Series\": \"IV\", \"X\": 8, \"Y\": 8.47}, {\"Series\": \"IV\", \"X\": 8, \"Y\": 7.04}, {\"Series\": \"IV\", \"X\": 8, \"Y\": 5.25}, {\"Series\": \"IV\", \"X\": 19, \"Y\": 12.5}, {\"Series\": \"IV\", \"X\": 8, \"Y\": 5.5600000000000005}, {\"Series\": \"IV\", \"X\": 8, \"Y\": 7.91}, {\"Series\": \"IV\", \"X\": 8, \"Y\": 6.89}]}}, {\"mode\": \"vega-lite\"});\n",
       "</script>"
      ],
      "text/plain": [
       "alt.FacetChart(...)"
      ]
     },
     "execution_count": 6,
     "metadata": {},
     "output_type": "execute_result"
    }
   ],
   "source": [
    "# Create facets chart.\n",
    "# Note: property must be set before faceting.\n",
    "chart_faceted = chart.properties(width=200, height=200)\n",
    "chart_faceted = chart_faceted.facet(columns=2, facet=alt.Facet('Series'))\n",
    "chart_faceted"
   ]
  },
  {
   "cell_type": "markdown",
   "id": "85c83a28",
   "metadata": {},
   "source": [
    "With faceted chart, each data series has its own quartet.  All quartets shared same scale in x and y, making it easy to compare across subplots.  Altair also provide a label for each quartet based on the value of the \"Series\" column in our dataset.\n",
    "\n",
    "### With regression\n",
    "\n",
    "To really illustrates the statistical properties of Anscombe's quartet dataset, let's fit a line to each of the data series. Altair support this with the [regression transform](https://altair-viz.github.io/user_guide/transform/regression.html#user-guide-regression-transform). Let's start by adding regression to the simple scatter plot we have before."
   ]
  },
  {
   "cell_type": "code",
   "execution_count": 7,
   "id": "33a42d8a",
   "metadata": {},
   "outputs": [
    {
     "data": {
      "text/html": [
       "\n",
       "<div id=\"altair-viz-a943737e874644d4bcbc2bab79c164b7\"></div>\n",
       "<script type=\"text/javascript\">\n",
       "  var VEGA_DEBUG = (typeof VEGA_DEBUG == \"undefined\") ? {} : VEGA_DEBUG;\n",
       "  (function(spec, embedOpt){\n",
       "    let outputDiv = document.currentScript.previousElementSibling;\n",
       "    if (outputDiv.id !== \"altair-viz-a943737e874644d4bcbc2bab79c164b7\") {\n",
       "      outputDiv = document.getElementById(\"altair-viz-a943737e874644d4bcbc2bab79c164b7\");\n",
       "    }\n",
       "    const paths = {\n",
       "      \"vega\": \"https://cdn.jsdelivr.net/npm//vega@5?noext\",\n",
       "      \"vega-lib\": \"https://cdn.jsdelivr.net/npm//vega-lib?noext\",\n",
       "      \"vega-lite\": \"https://cdn.jsdelivr.net/npm//vega-lite@4.17.0?noext\",\n",
       "      \"vega-embed\": \"https://cdn.jsdelivr.net/npm//vega-embed@6?noext\",\n",
       "    };\n",
       "\n",
       "    function maybeLoadScript(lib, version) {\n",
       "      var key = `${lib.replace(\"-\", \"\")}_version`;\n",
       "      return (VEGA_DEBUG[key] == version) ?\n",
       "        Promise.resolve(paths[lib]) :\n",
       "        new Promise(function(resolve, reject) {\n",
       "          var s = document.createElement('script');\n",
       "          document.getElementsByTagName(\"head\")[0].appendChild(s);\n",
       "          s.async = true;\n",
       "          s.onload = () => {\n",
       "            VEGA_DEBUG[key] = version;\n",
       "            return resolve(paths[lib]);\n",
       "          };\n",
       "          s.onerror = () => reject(`Error loading script: ${paths[lib]}`);\n",
       "          s.src = paths[lib];\n",
       "        });\n",
       "    }\n",
       "\n",
       "    function showError(err) {\n",
       "      outputDiv.innerHTML = `<div class=\"error\" style=\"color:red;\">${err}</div>`;\n",
       "      throw err;\n",
       "    }\n",
       "\n",
       "    function displayChart(vegaEmbed) {\n",
       "      vegaEmbed(outputDiv, spec, embedOpt)\n",
       "        .catch(err => showError(`Javascript Error: ${err.message}<br>This usually means there's a typo in your chart specification. See the javascript console for the full traceback.`));\n",
       "    }\n",
       "\n",
       "    if(typeof define === \"function\" && define.amd) {\n",
       "      requirejs.config({paths});\n",
       "      require([\"vega-embed\"], displayChart, err => showError(`Error loading script: ${err.message}`));\n",
       "    } else {\n",
       "      maybeLoadScript(\"vega\", \"5\")\n",
       "        .then(() => maybeLoadScript(\"vega-lite\", \"4.17.0\"))\n",
       "        .then(() => maybeLoadScript(\"vega-embed\", \"6\"))\n",
       "        .catch(showError)\n",
       "        .then(() => displayChart(vegaEmbed));\n",
       "    }\n",
       "  })({\"config\": {\"view\": {\"continuousWidth\": 400, \"continuousHeight\": 300}}, \"layer\": [{\"mark\": {\"type\": \"circle\", \"size\": 50}, \"encoding\": {\"color\": {\"field\": \"Series\", \"type\": \"nominal\"}, \"x\": {\"field\": \"X\", \"type\": \"quantitative\"}, \"y\": {\"field\": \"Y\", \"type\": \"quantitative\"}}}, {\"mark\": \"line\", \"encoding\": {\"color\": {\"field\": \"Series\", \"type\": \"nominal\"}, \"x\": {\"field\": \"X\", \"type\": \"quantitative\"}, \"y\": {\"field\": \"Y\", \"type\": \"quantitative\"}}, \"transform\": [{\"on\": \"X\", \"regression\": \"Y\", \"extent\": [0, 20], \"groupby\": [\"Series\"], \"method\": \"linear\"}]}], \"data\": {\"name\": \"data-3d23a3381c61efd5a9c7a8abc82c6d65\"}, \"$schema\": \"https://vega.github.io/schema/vega-lite/v4.17.0.json\", \"datasets\": {\"data-3d23a3381c61efd5a9c7a8abc82c6d65\": [{\"Series\": \"I\", \"X\": 10, \"Y\": 8.04}, {\"Series\": \"I\", \"X\": 8, \"Y\": 6.95}, {\"Series\": \"I\", \"X\": 13, \"Y\": 7.58}, {\"Series\": \"I\", \"X\": 9, \"Y\": 8.81}, {\"Series\": \"I\", \"X\": 11, \"Y\": 8.33}, {\"Series\": \"I\", \"X\": 14, \"Y\": 9.96}, {\"Series\": \"I\", \"X\": 6, \"Y\": 7.24}, {\"Series\": \"I\", \"X\": 4, \"Y\": 4.26}, {\"Series\": \"I\", \"X\": 12, \"Y\": 10.84}, {\"Series\": \"I\", \"X\": 7, \"Y\": 4.8100000000000005}, {\"Series\": \"I\", \"X\": 5, \"Y\": 5.68}, {\"Series\": \"II\", \"X\": 10, \"Y\": 9.14}, {\"Series\": \"II\", \"X\": 8, \"Y\": 8.14}, {\"Series\": \"II\", \"X\": 13, \"Y\": 8.74}, {\"Series\": \"II\", \"X\": 9, \"Y\": 8.77}, {\"Series\": \"II\", \"X\": 11, \"Y\": 9.26}, {\"Series\": \"II\", \"X\": 14, \"Y\": 8.1}, {\"Series\": \"II\", \"X\": 6, \"Y\": 6.13}, {\"Series\": \"II\", \"X\": 4, \"Y\": 3.1}, {\"Series\": \"II\", \"X\": 12, \"Y\": 9.13}, {\"Series\": \"II\", \"X\": 7, \"Y\": 7.26}, {\"Series\": \"II\", \"X\": 5, \"Y\": 4.74}, {\"Series\": \"III\", \"X\": 10, \"Y\": 7.46}, {\"Series\": \"III\", \"X\": 8, \"Y\": 6.77}, {\"Series\": \"III\", \"X\": 13, \"Y\": 12.74}, {\"Series\": \"III\", \"X\": 9, \"Y\": 7.11}, {\"Series\": \"III\", \"X\": 11, \"Y\": 7.8100000000000005}, {\"Series\": \"III\", \"X\": 14, \"Y\": 8.84}, {\"Series\": \"III\", \"X\": 6, \"Y\": 6.08}, {\"Series\": \"III\", \"X\": 4, \"Y\": 5.39}, {\"Series\": \"III\", \"X\": 12, \"Y\": 8.15}, {\"Series\": \"III\", \"X\": 7, \"Y\": 6.42}, {\"Series\": \"III\", \"X\": 5, \"Y\": 5.73}, {\"Series\": \"IV\", \"X\": 8, \"Y\": 6.58}, {\"Series\": \"IV\", \"X\": 8, \"Y\": 5.76}, {\"Series\": \"IV\", \"X\": 8, \"Y\": 7.71}, {\"Series\": \"IV\", \"X\": 8, \"Y\": 8.84}, {\"Series\": \"IV\", \"X\": 8, \"Y\": 8.47}, {\"Series\": \"IV\", \"X\": 8, \"Y\": 7.04}, {\"Series\": \"IV\", \"X\": 8, \"Y\": 5.25}, {\"Series\": \"IV\", \"X\": 19, \"Y\": 12.5}, {\"Series\": \"IV\", \"X\": 8, \"Y\": 5.5600000000000005}, {\"Series\": \"IV\", \"X\": 8, \"Y\": 7.91}, {\"Series\": \"IV\", \"X\": 8, \"Y\": 6.89}]}}, {\"mode\": \"vega-lite\"});\n",
       "</script>"
      ],
      "text/plain": [
       "alt.LayerChart(...)"
      ]
     },
     "execution_count": 7,
     "metadata": {},
     "output_type": "execute_result"
    }
   ],
   "source": [
    "chart_regression = chart\n",
    "chart_regression = chart_regression.transform_regression('X', 'Y', \n",
    "                                                         method='linear', \n",
    "                                                         extent=[0,20], \n",
    "                                                         groupby=['Series'])\n",
    "chart_regression = chart_regression.mark_line()\n",
    "chart + chart_regression"
   ]
  },
  {
   "cell_type": "markdown",
   "id": "c902aed8",
   "metadata": {},
   "source": [
    "In the code above, `chart` is still the good old scatter plot.  `chart_regression` is the line plot generated by fitting a line to each data series. It really consists of 4 lines. Because each data series has nearly identical statistical properties, all 4 lines looks the same.  Note that Altair allows us to overlay the line plot (`chart_regression`) on top of the scatter plot (`chart`) by \"addition\" (i.e. `chart + chart_regression`)!  This is called [layered chart](https://altair-viz.github.io/user_guide/compound_charts.html#layer-chart). Now, let's add facets to this layered chart."
   ]
  },
  {
   "cell_type": "code",
   "execution_count": 8,
   "id": "a90c18e5",
   "metadata": {},
   "outputs": [
    {
     "data": {
      "text/html": [
       "\n",
       "<div id=\"altair-viz-2d1a40ca42c44e0ca62808ef03e45602\"></div>\n",
       "<script type=\"text/javascript\">\n",
       "  var VEGA_DEBUG = (typeof VEGA_DEBUG == \"undefined\") ? {} : VEGA_DEBUG;\n",
       "  (function(spec, embedOpt){\n",
       "    let outputDiv = document.currentScript.previousElementSibling;\n",
       "    if (outputDiv.id !== \"altair-viz-2d1a40ca42c44e0ca62808ef03e45602\") {\n",
       "      outputDiv = document.getElementById(\"altair-viz-2d1a40ca42c44e0ca62808ef03e45602\");\n",
       "    }\n",
       "    const paths = {\n",
       "      \"vega\": \"https://cdn.jsdelivr.net/npm//vega@5?noext\",\n",
       "      \"vega-lib\": \"https://cdn.jsdelivr.net/npm//vega-lib?noext\",\n",
       "      \"vega-lite\": \"https://cdn.jsdelivr.net/npm//vega-lite@4.17.0?noext\",\n",
       "      \"vega-embed\": \"https://cdn.jsdelivr.net/npm//vega-embed@6?noext\",\n",
       "    };\n",
       "\n",
       "    function maybeLoadScript(lib, version) {\n",
       "      var key = `${lib.replace(\"-\", \"\")}_version`;\n",
       "      return (VEGA_DEBUG[key] == version) ?\n",
       "        Promise.resolve(paths[lib]) :\n",
       "        new Promise(function(resolve, reject) {\n",
       "          var s = document.createElement('script');\n",
       "          document.getElementsByTagName(\"head\")[0].appendChild(s);\n",
       "          s.async = true;\n",
       "          s.onload = () => {\n",
       "            VEGA_DEBUG[key] = version;\n",
       "            return resolve(paths[lib]);\n",
       "          };\n",
       "          s.onerror = () => reject(`Error loading script: ${paths[lib]}`);\n",
       "          s.src = paths[lib];\n",
       "        });\n",
       "    }\n",
       "\n",
       "    function showError(err) {\n",
       "      outputDiv.innerHTML = `<div class=\"error\" style=\"color:red;\">${err}</div>`;\n",
       "      throw err;\n",
       "    }\n",
       "\n",
       "    function displayChart(vegaEmbed) {\n",
       "      vegaEmbed(outputDiv, spec, embedOpt)\n",
       "        .catch(err => showError(`Javascript Error: ${err.message}<br>This usually means there's a typo in your chart specification. See the javascript console for the full traceback.`));\n",
       "    }\n",
       "\n",
       "    if(typeof define === \"function\" && define.amd) {\n",
       "      requirejs.config({paths});\n",
       "      require([\"vega-embed\"], displayChart, err => showError(`Error loading script: ${err.message}`));\n",
       "    } else {\n",
       "      maybeLoadScript(\"vega\", \"5\")\n",
       "        .then(() => maybeLoadScript(\"vega-lite\", \"4.17.0\"))\n",
       "        .then(() => maybeLoadScript(\"vega-embed\", \"6\"))\n",
       "        .catch(showError)\n",
       "        .then(() => displayChart(vegaEmbed));\n",
       "    }\n",
       "  })({\"config\": {\"view\": {\"continuousWidth\": 400, \"continuousHeight\": 300}}, \"data\": {\"name\": \"data-3d23a3381c61efd5a9c7a8abc82c6d65\"}, \"facet\": {\"field\": \"Series\", \"type\": \"nominal\"}, \"spec\": {\"layer\": [{\"mark\": {\"type\": \"circle\", \"size\": 50}, \"encoding\": {\"color\": {\"field\": \"Series\", \"type\": \"nominal\"}, \"x\": {\"field\": \"X\", \"type\": \"quantitative\"}, \"y\": {\"field\": \"Y\", \"type\": \"quantitative\"}}}, {\"mark\": \"line\", \"encoding\": {\"color\": {\"field\": \"Series\", \"type\": \"nominal\"}, \"x\": {\"field\": \"X\", \"type\": \"quantitative\"}, \"y\": {\"field\": \"Y\", \"type\": \"quantitative\"}}, \"transform\": [{\"on\": \"X\", \"regression\": \"Y\", \"extent\": [0, 20], \"groupby\": [\"Series\"], \"method\": \"linear\"}]}], \"height\": 200, \"width\": 200}, \"columns\": 2, \"$schema\": \"https://vega.github.io/schema/vega-lite/v4.17.0.json\", \"datasets\": {\"data-3d23a3381c61efd5a9c7a8abc82c6d65\": [{\"Series\": \"I\", \"X\": 10, \"Y\": 8.04}, {\"Series\": \"I\", \"X\": 8, \"Y\": 6.95}, {\"Series\": \"I\", \"X\": 13, \"Y\": 7.58}, {\"Series\": \"I\", \"X\": 9, \"Y\": 8.81}, {\"Series\": \"I\", \"X\": 11, \"Y\": 8.33}, {\"Series\": \"I\", \"X\": 14, \"Y\": 9.96}, {\"Series\": \"I\", \"X\": 6, \"Y\": 7.24}, {\"Series\": \"I\", \"X\": 4, \"Y\": 4.26}, {\"Series\": \"I\", \"X\": 12, \"Y\": 10.84}, {\"Series\": \"I\", \"X\": 7, \"Y\": 4.8100000000000005}, {\"Series\": \"I\", \"X\": 5, \"Y\": 5.68}, {\"Series\": \"II\", \"X\": 10, \"Y\": 9.14}, {\"Series\": \"II\", \"X\": 8, \"Y\": 8.14}, {\"Series\": \"II\", \"X\": 13, \"Y\": 8.74}, {\"Series\": \"II\", \"X\": 9, \"Y\": 8.77}, {\"Series\": \"II\", \"X\": 11, \"Y\": 9.26}, {\"Series\": \"II\", \"X\": 14, \"Y\": 8.1}, {\"Series\": \"II\", \"X\": 6, \"Y\": 6.13}, {\"Series\": \"II\", \"X\": 4, \"Y\": 3.1}, {\"Series\": \"II\", \"X\": 12, \"Y\": 9.13}, {\"Series\": \"II\", \"X\": 7, \"Y\": 7.26}, {\"Series\": \"II\", \"X\": 5, \"Y\": 4.74}, {\"Series\": \"III\", \"X\": 10, \"Y\": 7.46}, {\"Series\": \"III\", \"X\": 8, \"Y\": 6.77}, {\"Series\": \"III\", \"X\": 13, \"Y\": 12.74}, {\"Series\": \"III\", \"X\": 9, \"Y\": 7.11}, {\"Series\": \"III\", \"X\": 11, \"Y\": 7.8100000000000005}, {\"Series\": \"III\", \"X\": 14, \"Y\": 8.84}, {\"Series\": \"III\", \"X\": 6, \"Y\": 6.08}, {\"Series\": \"III\", \"X\": 4, \"Y\": 5.39}, {\"Series\": \"III\", \"X\": 12, \"Y\": 8.15}, {\"Series\": \"III\", \"X\": 7, \"Y\": 6.42}, {\"Series\": \"III\", \"X\": 5, \"Y\": 5.73}, {\"Series\": \"IV\", \"X\": 8, \"Y\": 6.58}, {\"Series\": \"IV\", \"X\": 8, \"Y\": 5.76}, {\"Series\": \"IV\", \"X\": 8, \"Y\": 7.71}, {\"Series\": \"IV\", \"X\": 8, \"Y\": 8.84}, {\"Series\": \"IV\", \"X\": 8, \"Y\": 8.47}, {\"Series\": \"IV\", \"X\": 8, \"Y\": 7.04}, {\"Series\": \"IV\", \"X\": 8, \"Y\": 5.25}, {\"Series\": \"IV\", \"X\": 19, \"Y\": 12.5}, {\"Series\": \"IV\", \"X\": 8, \"Y\": 5.5600000000000005}, {\"Series\": \"IV\", \"X\": 8, \"Y\": 7.91}, {\"Series\": \"IV\", \"X\": 8, \"Y\": 6.89}]}}, {\"mode\": \"vega-lite\"});\n",
       "</script>"
      ],
      "text/plain": [
       "alt.FacetChart(...)"
      ]
     },
     "execution_count": 8,
     "metadata": {},
     "output_type": "execute_result"
    }
   ],
   "source": [
    "layered_chart = chart + chart_regression\n",
    "layered_chart = layered_chart.properties(width=200, height=200) # Adjust size before faceting.\n",
    "layered_chart = layered_chart.facet(columns=2, facet=alt.Facet('Series'))\n",
    "layered_chart"
   ]
  },
  {
   "cell_type": "markdown",
   "id": "88856b32",
   "metadata": {},
   "source": [
    "## Summary\n",
    "\n",
    "Bravo! We have completed this case study. Here is a quick summary of key points we touched:\n",
    "* [Anscombe's quartet](https://en.wikipedia.org/wiki/Anscombe%27s_quartet) is an interesting dataset. The statistical properties of each data series are the same, yet they look very different when plotted.\n",
    "* [Altair](https://altair-viz.github.io/index.html) (and the grammar of graphics in general) is very flexible and allows one to build up chart incrementally.\n",
    "* Altair's [faceted chart](https://altair-viz.github.io/user_guide/compound_charts.html#faceted-charts) can be used to create small multiple visualizations.\n",
    "* Altair's [layered chart](https://altair-viz.github.io/user_guide/compound_charts.html#layered-charts) allow one to layer one chart on top of another."
   ]
  },
  {
   "cell_type": "code",
   "execution_count": null,
   "id": "b3c8b83e",
   "metadata": {},
   "outputs": [],
   "source": []
  }
 ],
 "metadata": {
  "kernelspec": {
   "display_name": "Python 3 (ipykernel)",
   "language": "python",
   "name": "python3"
  },
  "language_info": {
   "codemirror_mode": {
    "name": "ipython",
    "version": 3
   },
   "file_extension": ".py",
   "mimetype": "text/x-python",
   "name": "python",
   "nbconvert_exporter": "python",
   "pygments_lexer": "ipython3",
   "version": "3.10.9"
  }
 },
 "nbformat": 4,
 "nbformat_minor": 5
}
