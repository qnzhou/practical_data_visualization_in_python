{
 "cells": [
  {
   "cell_type": "markdown",
   "id": "5006e91c",
   "metadata": {},
   "source": [
    "# Case Study: Donut Chart\n",
    "\n",
    "In this case study, we will work with a very simple synthetic dataset and generate a reasonble looking donut chart. Along the way, we will take a closer look at several handy Altair functionalities.  Let's get started!\n",
    "\n",
    "## Data"
   ]
  },
  {
   "cell_type": "code",
   "execution_count": 1,
   "id": "b3b3b692",
   "metadata": {},
   "outputs": [
    {
     "data": {
      "text/html": [
       "<div>\n",
       "<style scoped>\n",
       "    .dataframe tbody tr th:only-of-type {\n",
       "        vertical-align: middle;\n",
       "    }\n",
       "\n",
       "    .dataframe tbody tr th {\n",
       "        vertical-align: top;\n",
       "    }\n",
       "\n",
       "    .dataframe thead th {\n",
       "        text-align: right;\n",
       "    }\n",
       "</style>\n",
       "<table border=\"1\" class=\"dataframe\">\n",
       "  <thead>\n",
       "    <tr style=\"text-align: right;\">\n",
       "      <th></th>\n",
       "      <th>category</th>\n",
       "      <th>value</th>\n",
       "    </tr>\n",
       "  </thead>\n",
       "  <tbody>\n",
       "    <tr>\n",
       "      <th>count</th>\n",
       "      <td>6.000000</td>\n",
       "      <td>6.000000</td>\n",
       "    </tr>\n",
       "    <tr>\n",
       "      <th>mean</th>\n",
       "      <td>3.500000</td>\n",
       "      <td>6.333333</td>\n",
       "    </tr>\n",
       "    <tr>\n",
       "      <th>std</th>\n",
       "      <td>1.870829</td>\n",
       "      <td>2.581989</td>\n",
       "    </tr>\n",
       "    <tr>\n",
       "      <th>min</th>\n",
       "      <td>1.000000</td>\n",
       "      <td>3.000000</td>\n",
       "    </tr>\n",
       "    <tr>\n",
       "      <th>25%</th>\n",
       "      <td>2.250000</td>\n",
       "      <td>4.500000</td>\n",
       "    </tr>\n",
       "    <tr>\n",
       "      <th>50%</th>\n",
       "      <td>3.500000</td>\n",
       "      <td>6.500000</td>\n",
       "    </tr>\n",
       "    <tr>\n",
       "      <th>75%</th>\n",
       "      <td>4.750000</td>\n",
       "      <td>7.750000</td>\n",
       "    </tr>\n",
       "    <tr>\n",
       "      <th>max</th>\n",
       "      <td>6.000000</td>\n",
       "      <td>10.000000</td>\n",
       "    </tr>\n",
       "  </tbody>\n",
       "</table>\n",
       "</div>"
      ],
      "text/plain": [
       "       category      value\n",
       "count  6.000000   6.000000\n",
       "mean   3.500000   6.333333\n",
       "std    1.870829   2.581989\n",
       "min    1.000000   3.000000\n",
       "25%    2.250000   4.500000\n",
       "50%    3.500000   6.500000\n",
       "75%    4.750000   7.750000\n",
       "max    6.000000  10.000000"
      ]
     },
     "execution_count": 1,
     "metadata": {},
     "output_type": "execute_result"
    }
   ],
   "source": [
    "import pandas as pd\n",
    "import altair as alt\n",
    "import numpy as np\n",
    "\n",
    "# Generate a very simple data frame.\n",
    "source = pd.DataFrame({\"category\": [1, 2, 3, 4, 5, 6], \"value\": [4, 6, 10, 3, 7, 8]})\n",
    "source.describe()"
   ]
  },
  {
   "cell_type": "markdown",
   "id": "236e3a22",
   "metadata": {},
   "source": [
    "This is a very simple dataset with 2 columns. The \"category\" column provides the category index, and the \"value\" column provides the quantity associated with each category.\n",
    "\n",
    "## Visualization\n",
    "\n",
    "Let's first plot this data as a simple scatter plot."
   ]
  },
  {
   "cell_type": "code",
   "execution_count": 2,
   "id": "90d8c24a",
   "metadata": {},
   "outputs": [
    {
     "data": {
      "text/html": [
       "\n",
       "<div id=\"altair-viz-8907b7b6263340a6807505f049d8028d\"></div>\n",
       "<script type=\"text/javascript\">\n",
       "  var VEGA_DEBUG = (typeof VEGA_DEBUG == \"undefined\") ? {} : VEGA_DEBUG;\n",
       "  (function(spec, embedOpt){\n",
       "    let outputDiv = document.currentScript.previousElementSibling;\n",
       "    if (outputDiv.id !== \"altair-viz-8907b7b6263340a6807505f049d8028d\") {\n",
       "      outputDiv = document.getElementById(\"altair-viz-8907b7b6263340a6807505f049d8028d\");\n",
       "    }\n",
       "    const paths = {\n",
       "      \"vega\": \"https://cdn.jsdelivr.net/npm//vega@5?noext\",\n",
       "      \"vega-lib\": \"https://cdn.jsdelivr.net/npm//vega-lib?noext\",\n",
       "      \"vega-lite\": \"https://cdn.jsdelivr.net/npm//vega-lite@4.17.0?noext\",\n",
       "      \"vega-embed\": \"https://cdn.jsdelivr.net/npm//vega-embed@6?noext\",\n",
       "    };\n",
       "\n",
       "    function maybeLoadScript(lib, version) {\n",
       "      var key = `${lib.replace(\"-\", \"\")}_version`;\n",
       "      return (VEGA_DEBUG[key] == version) ?\n",
       "        Promise.resolve(paths[lib]) :\n",
       "        new Promise(function(resolve, reject) {\n",
       "          var s = document.createElement('script');\n",
       "          document.getElementsByTagName(\"head\")[0].appendChild(s);\n",
       "          s.async = true;\n",
       "          s.onload = () => {\n",
       "            VEGA_DEBUG[key] = version;\n",
       "            return resolve(paths[lib]);\n",
       "          };\n",
       "          s.onerror = () => reject(`Error loading script: ${paths[lib]}`);\n",
       "          s.src = paths[lib];\n",
       "        });\n",
       "    }\n",
       "\n",
       "    function showError(err) {\n",
       "      outputDiv.innerHTML = `<div class=\"error\" style=\"color:red;\">${err}</div>`;\n",
       "      throw err;\n",
       "    }\n",
       "\n",
       "    function displayChart(vegaEmbed) {\n",
       "      vegaEmbed(outputDiv, spec, embedOpt)\n",
       "        .catch(err => showError(`Javascript Error: ${err.message}<br>This usually means there's a typo in your chart specification. See the javascript console for the full traceback.`));\n",
       "    }\n",
       "\n",
       "    if(typeof define === \"function\" && define.amd) {\n",
       "      requirejs.config({paths});\n",
       "      require([\"vega-embed\"], displayChart, err => showError(`Error loading script: ${err.message}`));\n",
       "    } else {\n",
       "      maybeLoadScript(\"vega\", \"5\")\n",
       "        .then(() => maybeLoadScript(\"vega-lite\", \"4.17.0\"))\n",
       "        .then(() => maybeLoadScript(\"vega-embed\", \"6\"))\n",
       "        .catch(showError)\n",
       "        .then(() => displayChart(vegaEmbed));\n",
       "    }\n",
       "  })({\"config\": {\"view\": {\"continuousWidth\": 400, \"continuousHeight\": 300}}, \"data\": {\"name\": \"data-c9896de6322bcd9cf0fe9396e0b72d16\"}, \"mark\": \"circle\", \"encoding\": {\"x\": {\"field\": \"category\", \"type\": \"ordinal\"}, \"y\": {\"field\": \"value\", \"type\": \"quantitative\"}}, \"$schema\": \"https://vega.github.io/schema/vega-lite/v4.17.0.json\", \"datasets\": {\"data-c9896de6322bcd9cf0fe9396e0b72d16\": [{\"category\": 1, \"value\": 4}, {\"category\": 2, \"value\": 6}, {\"category\": 3, \"value\": 10}, {\"category\": 4, \"value\": 3}, {\"category\": 5, \"value\": 7}, {\"category\": 6, \"value\": 8}]}}, {\"mode\": \"vega-lite\"});\n",
       "</script>"
      ],
      "text/plain": [
       "alt.Chart(...)"
      ]
     },
     "execution_count": 2,
     "metadata": {},
     "output_type": "execute_result"
    }
   ],
   "source": [
    "base = alt.Chart(source)\n",
    "scatter_plot = base.mark_circle()\\\n",
    "                   .encode(x=\"category:O\", y=\"value:Q\")\n",
    "scatter_plot"
   ]
  },
  {
   "cell_type": "markdown",
   "id": "cf7189b9",
   "metadata": {},
   "source": [
    "In the code above, we are using circle as the mark. We also use \"category\" as the x coordinate and \"value\" as the y coordinate.  Notice that the suffix `:O` and `:Q` after the column names. `:O` indicates the column encodes ordered categorical data. `:Q` indicates the column encode quantitative data. Altair automatically chooses the appropriate scale for each axis based on the type of the data. Other types of data include nominal, temporal and geojson data.  You can read more about them [here](https://altair-viz.github.io/user_guide/encoding.html#encoding-data-types).\n",
    "\n",
    "Now, let's change this chart to a bar chart by replacing `mark_circle` with `mark_bar`."
   ]
  },
  {
   "cell_type": "code",
   "execution_count": 3,
   "id": "ed9de263",
   "metadata": {},
   "outputs": [
    {
     "data": {
      "text/html": [
       "\n",
       "<div id=\"altair-viz-685f1f3510ab4b2ca2def90aade6717e\"></div>\n",
       "<script type=\"text/javascript\">\n",
       "  var VEGA_DEBUG = (typeof VEGA_DEBUG == \"undefined\") ? {} : VEGA_DEBUG;\n",
       "  (function(spec, embedOpt){\n",
       "    let outputDiv = document.currentScript.previousElementSibling;\n",
       "    if (outputDiv.id !== \"altair-viz-685f1f3510ab4b2ca2def90aade6717e\") {\n",
       "      outputDiv = document.getElementById(\"altair-viz-685f1f3510ab4b2ca2def90aade6717e\");\n",
       "    }\n",
       "    const paths = {\n",
       "      \"vega\": \"https://cdn.jsdelivr.net/npm//vega@5?noext\",\n",
       "      \"vega-lib\": \"https://cdn.jsdelivr.net/npm//vega-lib?noext\",\n",
       "      \"vega-lite\": \"https://cdn.jsdelivr.net/npm//vega-lite@4.17.0?noext\",\n",
       "      \"vega-embed\": \"https://cdn.jsdelivr.net/npm//vega-embed@6?noext\",\n",
       "    };\n",
       "\n",
       "    function maybeLoadScript(lib, version) {\n",
       "      var key = `${lib.replace(\"-\", \"\")}_version`;\n",
       "      return (VEGA_DEBUG[key] == version) ?\n",
       "        Promise.resolve(paths[lib]) :\n",
       "        new Promise(function(resolve, reject) {\n",
       "          var s = document.createElement('script');\n",
       "          document.getElementsByTagName(\"head\")[0].appendChild(s);\n",
       "          s.async = true;\n",
       "          s.onload = () => {\n",
       "            VEGA_DEBUG[key] = version;\n",
       "            return resolve(paths[lib]);\n",
       "          };\n",
       "          s.onerror = () => reject(`Error loading script: ${paths[lib]}`);\n",
       "          s.src = paths[lib];\n",
       "        });\n",
       "    }\n",
       "\n",
       "    function showError(err) {\n",
       "      outputDiv.innerHTML = `<div class=\"error\" style=\"color:red;\">${err}</div>`;\n",
       "      throw err;\n",
       "    }\n",
       "\n",
       "    function displayChart(vegaEmbed) {\n",
       "      vegaEmbed(outputDiv, spec, embedOpt)\n",
       "        .catch(err => showError(`Javascript Error: ${err.message}<br>This usually means there's a typo in your chart specification. See the javascript console for the full traceback.`));\n",
       "    }\n",
       "\n",
       "    if(typeof define === \"function\" && define.amd) {\n",
       "      requirejs.config({paths});\n",
       "      require([\"vega-embed\"], displayChart, err => showError(`Error loading script: ${err.message}`));\n",
       "    } else {\n",
       "      maybeLoadScript(\"vega\", \"5\")\n",
       "        .then(() => maybeLoadScript(\"vega-lite\", \"4.17.0\"))\n",
       "        .then(() => maybeLoadScript(\"vega-embed\", \"6\"))\n",
       "        .catch(showError)\n",
       "        .then(() => displayChart(vegaEmbed));\n",
       "    }\n",
       "  })({\"config\": {\"view\": {\"continuousWidth\": 400, \"continuousHeight\": 300}}, \"data\": {\"name\": \"data-c9896de6322bcd9cf0fe9396e0b72d16\"}, \"mark\": \"bar\", \"encoding\": {\"color\": {\"field\": \"category\", \"type\": \"nominal\"}, \"x\": {\"field\": \"category\", \"type\": \"ordinal\"}, \"y\": {\"field\": \"value\", \"type\": \"quantitative\"}}, \"$schema\": \"https://vega.github.io/schema/vega-lite/v4.17.0.json\", \"datasets\": {\"data-c9896de6322bcd9cf0fe9396e0b72d16\": [{\"category\": 1, \"value\": 4}, {\"category\": 2, \"value\": 6}, {\"category\": 3, \"value\": 10}, {\"category\": 4, \"value\": 3}, {\"category\": 5, \"value\": 7}, {\"category\": 6, \"value\": 8}]}}, {\"mode\": \"vega-lite\"});\n",
       "</script>"
      ],
      "text/plain": [
       "alt.Chart(...)"
      ]
     },
     "execution_count": 3,
     "metadata": {},
     "output_type": "execute_result"
    }
   ],
   "source": [
    "bar_chart = base.mark_bar()\\\n",
    "                .encode(x=\"category:O\", y=\"value:Q\", color=\"category:N\")\n",
    "bar_chart"
   ]
  },
  {
   "cell_type": "markdown",
   "id": "95858c61",
   "metadata": {},
   "source": [
    "As simple as that!  Note that we also added a color to each bar by encoding the \"category\" column as color. When setting this encoding, we used the `:N` suffix to indicate that \"category\" column should be viewed as unordered data.  This allows Altair to use discrete color palette.  Try changing the suffix to `:O` and see the different color palette choicese for nominal and ordinal data. Read more about data type and color scale [here](https://altair-viz.github.io/user_guide/encoding.html#effect-of-data-type-on-color-scales).\n",
    "\n",
    "As a fun experiment, let's try stack the bars into a single column."
   ]
  },
  {
   "cell_type": "code",
   "execution_count": 4,
   "id": "e8c60a6b",
   "metadata": {
    "scrolled": true
   },
   "outputs": [
    {
     "data": {
      "text/html": [
       "\n",
       "<div id=\"altair-viz-d882d94b7af44171b95ec3140d5b2917\"></div>\n",
       "<script type=\"text/javascript\">\n",
       "  var VEGA_DEBUG = (typeof VEGA_DEBUG == \"undefined\") ? {} : VEGA_DEBUG;\n",
       "  (function(spec, embedOpt){\n",
       "    let outputDiv = document.currentScript.previousElementSibling;\n",
       "    if (outputDiv.id !== \"altair-viz-d882d94b7af44171b95ec3140d5b2917\") {\n",
       "      outputDiv = document.getElementById(\"altair-viz-d882d94b7af44171b95ec3140d5b2917\");\n",
       "    }\n",
       "    const paths = {\n",
       "      \"vega\": \"https://cdn.jsdelivr.net/npm//vega@5?noext\",\n",
       "      \"vega-lib\": \"https://cdn.jsdelivr.net/npm//vega-lib?noext\",\n",
       "      \"vega-lite\": \"https://cdn.jsdelivr.net/npm//vega-lite@4.17.0?noext\",\n",
       "      \"vega-embed\": \"https://cdn.jsdelivr.net/npm//vega-embed@6?noext\",\n",
       "    };\n",
       "\n",
       "    function maybeLoadScript(lib, version) {\n",
       "      var key = `${lib.replace(\"-\", \"\")}_version`;\n",
       "      return (VEGA_DEBUG[key] == version) ?\n",
       "        Promise.resolve(paths[lib]) :\n",
       "        new Promise(function(resolve, reject) {\n",
       "          var s = document.createElement('script');\n",
       "          document.getElementsByTagName(\"head\")[0].appendChild(s);\n",
       "          s.async = true;\n",
       "          s.onload = () => {\n",
       "            VEGA_DEBUG[key] = version;\n",
       "            return resolve(paths[lib]);\n",
       "          };\n",
       "          s.onerror = () => reject(`Error loading script: ${paths[lib]}`);\n",
       "          s.src = paths[lib];\n",
       "        });\n",
       "    }\n",
       "\n",
       "    function showError(err) {\n",
       "      outputDiv.innerHTML = `<div class=\"error\" style=\"color:red;\">${err}</div>`;\n",
       "      throw err;\n",
       "    }\n",
       "\n",
       "    function displayChart(vegaEmbed) {\n",
       "      vegaEmbed(outputDiv, spec, embedOpt)\n",
       "        .catch(err => showError(`Javascript Error: ${err.message}<br>This usually means there's a typo in your chart specification. See the javascript console for the full traceback.`));\n",
       "    }\n",
       "\n",
       "    if(typeof define === \"function\" && define.amd) {\n",
       "      requirejs.config({paths});\n",
       "      require([\"vega-embed\"], displayChart, err => showError(`Error loading script: ${err.message}`));\n",
       "    } else {\n",
       "      maybeLoadScript(\"vega\", \"5\")\n",
       "        .then(() => maybeLoadScript(\"vega-lite\", \"4.17.0\"))\n",
       "        .then(() => maybeLoadScript(\"vega-embed\", \"6\"))\n",
       "        .catch(showError)\n",
       "        .then(() => displayChart(vegaEmbed));\n",
       "    }\n",
       "  })({\"config\": {\"view\": {\"continuousWidth\": 400, \"continuousHeight\": 300}}, \"data\": {\"name\": \"data-b2cfa2dd68d6dd58acc11cee098fb8d9\"}, \"mark\": \"bar\", \"encoding\": {\"color\": {\"field\": \"category\", \"type\": \"nominal\"}, \"x\": {\"field\": \"value\", \"type\": \"quantitative\"}, \"y\": {\"field\": \"name\", \"type\": \"nominal\"}}, \"$schema\": \"https://vega.github.io/schema/vega-lite/v4.17.0.json\", \"datasets\": {\"data-b2cfa2dd68d6dd58acc11cee098fb8d9\": [{\"category\": 1, \"value\": 4, \"name\": \"category\"}, {\"category\": 2, \"value\": 6, \"name\": \"category\"}, {\"category\": 3, \"value\": 10, \"name\": \"category\"}, {\"category\": 4, \"value\": 3, \"name\": \"category\"}, {\"category\": 5, \"value\": 7, \"name\": \"category\"}, {\"category\": 6, \"value\": 8, \"name\": \"category\"}]}}, {\"mode\": \"vega-lite\"});\n",
       "</script>"
      ],
      "text/plain": [
       "alt.Chart(...)"
      ]
     },
     "execution_count": 4,
     "metadata": {},
     "output_type": "execute_result"
    }
   ],
   "source": [
    "source['name'] = [\"category\"] * len(source)\n",
    "bar_chart = alt.Chart(source).mark_bar()\n",
    "bar_chart = bar_chart.encode(x=\"value:Q\", y=\"name:N\", color=\"category:N\")\n",
    "bar_chart"
   ]
  },
  {
   "cell_type": "markdown",
   "id": "c80bb40f",
   "metadata": {},
   "source": [
    "In order to stack the bars, we to change the encoding such that all bars are corresponding to the same x value. To do this, we add a new column named \"name\" in our data frame. We set its values to the string \"category\" for all observations. This time, we use the column \"value\" as the x coordinate and the column \"name\" as the y coordinate in our bar chart so that bars are stacked horizontally. Altair automatically stacks the bars on top of one another when multiple observations correspond to the same categorical data.\n",
    "\n",
    "The horizontal stacked bars are very useful because it uses the space more effecitvely than vertically stacked bar charts. Now, let get back to the main goal of this case study: generate a donut chart!"
   ]
  },
  {
   "cell_type": "code",
   "execution_count": 5,
   "id": "5eb303da",
   "metadata": {},
   "outputs": [
    {
     "data": {
      "text/html": [
       "\n",
       "<div id=\"altair-viz-d8b201568d264837be0037d39940bc27\"></div>\n",
       "<script type=\"text/javascript\">\n",
       "  var VEGA_DEBUG = (typeof VEGA_DEBUG == \"undefined\") ? {} : VEGA_DEBUG;\n",
       "  (function(spec, embedOpt){\n",
       "    let outputDiv = document.currentScript.previousElementSibling;\n",
       "    if (outputDiv.id !== \"altair-viz-d8b201568d264837be0037d39940bc27\") {\n",
       "      outputDiv = document.getElementById(\"altair-viz-d8b201568d264837be0037d39940bc27\");\n",
       "    }\n",
       "    const paths = {\n",
       "      \"vega\": \"https://cdn.jsdelivr.net/npm//vega@5?noext\",\n",
       "      \"vega-lib\": \"https://cdn.jsdelivr.net/npm//vega-lib?noext\",\n",
       "      \"vega-lite\": \"https://cdn.jsdelivr.net/npm//vega-lite@4.17.0?noext\",\n",
       "      \"vega-embed\": \"https://cdn.jsdelivr.net/npm//vega-embed@6?noext\",\n",
       "    };\n",
       "\n",
       "    function maybeLoadScript(lib, version) {\n",
       "      var key = `${lib.replace(\"-\", \"\")}_version`;\n",
       "      return (VEGA_DEBUG[key] == version) ?\n",
       "        Promise.resolve(paths[lib]) :\n",
       "        new Promise(function(resolve, reject) {\n",
       "          var s = document.createElement('script');\n",
       "          document.getElementsByTagName(\"head\")[0].appendChild(s);\n",
       "          s.async = true;\n",
       "          s.onload = () => {\n",
       "            VEGA_DEBUG[key] = version;\n",
       "            return resolve(paths[lib]);\n",
       "          };\n",
       "          s.onerror = () => reject(`Error loading script: ${paths[lib]}`);\n",
       "          s.src = paths[lib];\n",
       "        });\n",
       "    }\n",
       "\n",
       "    function showError(err) {\n",
       "      outputDiv.innerHTML = `<div class=\"error\" style=\"color:red;\">${err}</div>`;\n",
       "      throw err;\n",
       "    }\n",
       "\n",
       "    function displayChart(vegaEmbed) {\n",
       "      vegaEmbed(outputDiv, spec, embedOpt)\n",
       "        .catch(err => showError(`Javascript Error: ${err.message}<br>This usually means there's a typo in your chart specification. See the javascript console for the full traceback.`));\n",
       "    }\n",
       "\n",
       "    if(typeof define === \"function\" && define.amd) {\n",
       "      requirejs.config({paths});\n",
       "      require([\"vega-embed\"], displayChart, err => showError(`Error loading script: ${err.message}`));\n",
       "    } else {\n",
       "      maybeLoadScript(\"vega\", \"5\")\n",
       "        .then(() => maybeLoadScript(\"vega-lite\", \"4.17.0\"))\n",
       "        .then(() => maybeLoadScript(\"vega-embed\", \"6\"))\n",
       "        .catch(showError)\n",
       "        .then(() => displayChart(vegaEmbed));\n",
       "    }\n",
       "  })({\"config\": {\"view\": {\"continuousWidth\": 400, \"continuousHeight\": 300}}, \"data\": {\"name\": \"data-b2cfa2dd68d6dd58acc11cee098fb8d9\"}, \"mark\": {\"type\": \"arc\", \"innerRadius\": 100, \"outerRadius\": 150}, \"encoding\": {\"color\": {\"field\": \"category\", \"type\": \"nominal\"}, \"theta\": {\"field\": \"value\", \"type\": \"quantitative\"}}, \"$schema\": \"https://vega.github.io/schema/vega-lite/v4.17.0.json\", \"datasets\": {\"data-b2cfa2dd68d6dd58acc11cee098fb8d9\": [{\"category\": 1, \"value\": 4, \"name\": \"category\"}, {\"category\": 2, \"value\": 6, \"name\": \"category\"}, {\"category\": 3, \"value\": 10, \"name\": \"category\"}, {\"category\": 4, \"value\": 3, \"name\": \"category\"}, {\"category\": 5, \"value\": 7, \"name\": \"category\"}, {\"category\": 6, \"value\": 8, \"name\": \"category\"}]}}, {\"mode\": \"vega-lite\"});\n",
       "</script>"
      ],
      "text/plain": [
       "alt.Chart(...)"
      ]
     },
     "execution_count": 5,
     "metadata": {},
     "output_type": "execute_result"
    }
   ],
   "source": [
    "base2 = base.encode(theta=\"value:Q\", color=\"category:N\")\n",
    "donut_chart = base2.mark_arc(innerRadius=100, outerRadius=150)\n",
    "donut_chart"
   ]
  },
  {
   "cell_type": "markdown",
   "id": "b110fea6",
   "metadata": {},
   "source": [
    "Here, we replaced `mark_bar` with `mark_arc`.  The arc mark is useful for generate pie chart, donut chart and other visualization with radial layout. Note that we set the `innerRadius` property to 100 pixels to create a donut chart. We can also set it to 0 to obtain a pie chart. Feel free to give it a try.\n",
    "\n",
    "With arcs, we no longer need the `x` and `y` encodings.  Instead, we use the `theta` and `radius` encoding.  Here, we encode the \"value\" column as `theta` (the radial angle of each arc) and skip the `radius` encoding so it uses the defaul radius setting.\n",
    "\n",
    "This is nice! Let's add some minor adjustment to make the chart better."
   ]
  },
  {
   "cell_type": "code",
   "execution_count": 6,
   "id": "ad0be121",
   "metadata": {},
   "outputs": [
    {
     "data": {
      "text/html": [
       "\n",
       "<div id=\"altair-viz-7b60f10d71374ea2b34954e17d6d9695\"></div>\n",
       "<script type=\"text/javascript\">\n",
       "  var VEGA_DEBUG = (typeof VEGA_DEBUG == \"undefined\") ? {} : VEGA_DEBUG;\n",
       "  (function(spec, embedOpt){\n",
       "    let outputDiv = document.currentScript.previousElementSibling;\n",
       "    if (outputDiv.id !== \"altair-viz-7b60f10d71374ea2b34954e17d6d9695\") {\n",
       "      outputDiv = document.getElementById(\"altair-viz-7b60f10d71374ea2b34954e17d6d9695\");\n",
       "    }\n",
       "    const paths = {\n",
       "      \"vega\": \"https://cdn.jsdelivr.net/npm//vega@5?noext\",\n",
       "      \"vega-lib\": \"https://cdn.jsdelivr.net/npm//vega-lib?noext\",\n",
       "      \"vega-lite\": \"https://cdn.jsdelivr.net/npm//vega-lite@4.17.0?noext\",\n",
       "      \"vega-embed\": \"https://cdn.jsdelivr.net/npm//vega-embed@6?noext\",\n",
       "    };\n",
       "\n",
       "    function maybeLoadScript(lib, version) {\n",
       "      var key = `${lib.replace(\"-\", \"\")}_version`;\n",
       "      return (VEGA_DEBUG[key] == version) ?\n",
       "        Promise.resolve(paths[lib]) :\n",
       "        new Promise(function(resolve, reject) {\n",
       "          var s = document.createElement('script');\n",
       "          document.getElementsByTagName(\"head\")[0].appendChild(s);\n",
       "          s.async = true;\n",
       "          s.onload = () => {\n",
       "            VEGA_DEBUG[key] = version;\n",
       "            return resolve(paths[lib]);\n",
       "          };\n",
       "          s.onerror = () => reject(`Error loading script: ${paths[lib]}`);\n",
       "          s.src = paths[lib];\n",
       "        });\n",
       "    }\n",
       "\n",
       "    function showError(err) {\n",
       "      outputDiv.innerHTML = `<div class=\"error\" style=\"color:red;\">${err}</div>`;\n",
       "      throw err;\n",
       "    }\n",
       "\n",
       "    function displayChart(vegaEmbed) {\n",
       "      vegaEmbed(outputDiv, spec, embedOpt)\n",
       "        .catch(err => showError(`Javascript Error: ${err.message}<br>This usually means there's a typo in your chart specification. See the javascript console for the full traceback.`));\n",
       "    }\n",
       "\n",
       "    if(typeof define === \"function\" && define.amd) {\n",
       "      requirejs.config({paths});\n",
       "      require([\"vega-embed\"], displayChart, err => showError(`Error loading script: ${err.message}`));\n",
       "    } else {\n",
       "      maybeLoadScript(\"vega\", \"5\")\n",
       "        .then(() => maybeLoadScript(\"vega-lite\", \"4.17.0\"))\n",
       "        .then(() => maybeLoadScript(\"vega-embed\", \"6\"))\n",
       "        .catch(showError)\n",
       "        .then(() => displayChart(vegaEmbed));\n",
       "    }\n",
       "  })({\"config\": {\"view\": {\"continuousWidth\": 400, \"continuousHeight\": 300}, \"arc\": {\"stroke\": \"black\", \"strokeWidth\": 1.5}, \"text\": {\"fontSize\": 20}}, \"layer\": [{\"mark\": {\"type\": \"arc\", \"innerRadius\": 100, \"outerRadius\": 150}, \"encoding\": {\"color\": {\"field\": \"category\", \"type\": \"nominal\"}, \"theta\": {\"field\": \"value\", \"type\": \"quantitative\"}}}, {\"mark\": {\"type\": \"text\", \"radius\": 100, \"radiusOffset\": 25}, \"encoding\": {\"color\": {\"value\": \"white\"}, \"text\": {\"field\": \"category\", \"type\": \"nominal\"}, \"theta\": {\"field\": \"value\", \"stack\": true, \"type\": \"quantitative\"}}}], \"data\": {\"name\": \"data-b2cfa2dd68d6dd58acc11cee098fb8d9\"}, \"$schema\": \"https://vega.github.io/schema/vega-lite/v4.17.0.json\", \"datasets\": {\"data-b2cfa2dd68d6dd58acc11cee098fb8d9\": [{\"category\": 1, \"value\": 4, \"name\": \"category\"}, {\"category\": 2, \"value\": 6, \"name\": \"category\"}, {\"category\": 3, \"value\": 10, \"name\": \"category\"}, {\"category\": 4, \"value\": 3, \"name\": \"category\"}, {\"category\": 5, \"value\": 7, \"name\": \"category\"}, {\"category\": 6, \"value\": 8, \"name\": \"category\"}]}}, {\"mode\": \"vega-lite\"});\n",
       "</script>"
      ],
      "text/plain": [
       "alt.LayerChart(...)"
      ]
     },
     "execution_count": 6,
     "metadata": {},
     "output_type": "execute_result"
    }
   ],
   "source": [
    "text_chart = base2.mark_text(radius=100, radiusOffset=25)\\\n",
    "                  .encode(theta=alt.Theta(\"value:Q\", stack=True), \n",
    "                          text=\"category:N\", \n",
    "                          color=alt.value('white'))\n",
    "(donut_chart + text_chart).configure_text(fontSize=20).configure_arc(stroke='black', strokeWidth=1.5)"
   ]
  },
  {
   "cell_type": "markdown",
   "id": "2058aaae",
   "metadata": {},
   "source": [
    "We made 2 adjustment above: added a text layer and added black strocks\n",
    "\n",
    "The text layer uses the text mark and has nearly the same encoding as the donut chart layer. Becasue we are using a different mark now (text instead of arc), altair no long automatically stack the `theta` encoding, we need to explicitly tell it to do so with `stack=True`.  We manually set the color of our text to white.\n",
    "\n",
    "We also used \"addition\" (`donut_chart + text_chart`) to combine the text layer with donut chart layer. This created a [layered chart](https://altair-viz.github.io/user_guide/compound_charts.html#layer-chart) with `text_chart` drawn on top of the `donut_chart`. One can change the layer order by switching the operands of the addition.  Feel free to give it a try!\n",
    "\n",
    "Lastly, we also adjust the global configurations.  We use `configure_text` to change the font size, and `configure_arc` to change the stroke settings. See [here](https://altair-viz.github.io/user_guide/customization.html) to learn more about these configurations.\n",
    "\n",
    "## Summary\n",
    "\n",
    "Great! We have completed this case study.  Here is a summary of the key points:\n",
    "* We have seen 4 different [marks](https://altair-viz.github.io/user_guide/marks.html) used: circle, bar, arc and text.\n",
    "* We also touched on the concept of [data type](https://altair-viz.github.io/user_guide/encoding.html#encoding-data-types): quatitative, ordernal, nominal, etc.\n",
    "* We saw simple example of [layered chart](https://altair-viz.github.io/user_guide/compound_charts.html#layer-chart).\n",
    "* We have adjusted chart [configuration](https://altair-viz.github.io/user_guide/customization.html) to make it looks better."
   ]
  },
  {
   "cell_type": "code",
   "execution_count": null,
   "id": "2899baec",
   "metadata": {},
   "outputs": [],
   "source": []
  }
 ],
 "metadata": {
  "kernelspec": {
   "display_name": "Python 3 (ipykernel)",
   "language": "python",
   "name": "python3"
  },
  "language_info": {
   "codemirror_mode": {
    "name": "ipython",
    "version": 3
   },
   "file_extension": ".py",
   "mimetype": "text/x-python",
   "name": "python",
   "nbconvert_exporter": "python",
   "pygments_lexer": "ipython3",
   "version": "3.10.9"
  }
 },
 "nbformat": 4,
 "nbformat_minor": 5
}
