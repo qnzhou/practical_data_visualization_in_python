{
 "cells": [
  {
   "cell_type": "markdown",
   "id": "47b0a9da",
   "metadata": {},
   "source": [
    "# Altair Intro: Encoding\n",
    "\n",
    "In the grammar of graphics, encoding defines the mapping between data and various properties of marks. The most common encodings are the x and y encoding that maps data to position on a chart. In this session, we will play with the various encoding types supported by Altair.\n",
    "\n",
    "Let's start with a toy dataset."
   ]
  },
  {
   "cell_type": "code",
   "execution_count": 1,
   "id": "e26969ee",
   "metadata": {},
   "outputs": [
    {
     "data": {
      "text/html": [
       "<div>\n",
       "<style scoped>\n",
       "    .dataframe tbody tr th:only-of-type {\n",
       "        vertical-align: middle;\n",
       "    }\n",
       "\n",
       "    .dataframe tbody tr th {\n",
       "        vertical-align: top;\n",
       "    }\n",
       "\n",
       "    .dataframe thead th {\n",
       "        text-align: right;\n",
       "    }\n",
       "</style>\n",
       "<table border=\"1\" class=\"dataframe\">\n",
       "  <thead>\n",
       "    <tr style=\"text-align: right;\">\n",
       "      <th></th>\n",
       "      <th>category</th>\n",
       "      <th>value</th>\n",
       "      <th>quality</th>\n",
       "    </tr>\n",
       "  </thead>\n",
       "  <tbody>\n",
       "    <tr>\n",
       "      <th>0</th>\n",
       "      <td>1</td>\n",
       "      <td>4</td>\n",
       "      <td>standard</td>\n",
       "    </tr>\n",
       "    <tr>\n",
       "      <th>1</th>\n",
       "      <td>2</td>\n",
       "      <td>6</td>\n",
       "      <td>good</td>\n",
       "    </tr>\n",
       "    <tr>\n",
       "      <th>2</th>\n",
       "      <td>3</td>\n",
       "      <td>10</td>\n",
       "      <td>excellent</td>\n",
       "    </tr>\n",
       "    <tr>\n",
       "      <th>3</th>\n",
       "      <td>4</td>\n",
       "      <td>3</td>\n",
       "      <td>standard</td>\n",
       "    </tr>\n",
       "    <tr>\n",
       "      <th>4</th>\n",
       "      <td>5</td>\n",
       "      <td>7</td>\n",
       "      <td>good</td>\n",
       "    </tr>\n",
       "    <tr>\n",
       "      <th>5</th>\n",
       "      <td>6</td>\n",
       "      <td>8</td>\n",
       "      <td>excellent</td>\n",
       "    </tr>\n",
       "  </tbody>\n",
       "</table>\n",
       "</div>"
      ],
      "text/plain": [
       "   category  value    quality\n",
       "0         1      4   standard\n",
       "1         2      6       good\n",
       "2         3     10  excellent\n",
       "3         4      3   standard\n",
       "4         5      7       good\n",
       "5         6      8  excellent"
      ]
     },
     "execution_count": 1,
     "metadata": {},
     "output_type": "execute_result"
    }
   ],
   "source": [
    "import altair as alt\n",
    "import pandas as pd\n",
    "\n",
    "source = pd.DataFrame({\"category\": [1, 2, 3, 4, 5, 6], \"value\": [4, 6, 10, 3, 7, 8],\n",
    "                       \"quality\": [\"standard\", \"good\", \"excellent\", \"standard\", \"good\", \"excellent\"]})\n",
    "source"
   ]
  },
  {
   "cell_type": "markdown",
   "id": "52f19b9f",
   "metadata": {},
   "source": [
    "In this toy dataset, we have three columns: category, value and quality.\n",
    "\n",
    "## X and Y encoding\n",
    "\n",
    "In our first attempt, let's just set the x and y encoding to see what the plot looks like."
   ]
  },
  {
   "cell_type": "code",
   "execution_count": 2,
   "id": "a569ebc7",
   "metadata": {},
   "outputs": [
    {
     "data": {
      "text/html": [
       "\n",
       "<div id=\"altair-viz-683dcf997a3f49dd9c3c9994c9ed99f5\"></div>\n",
       "<script type=\"text/javascript\">\n",
       "  var VEGA_DEBUG = (typeof VEGA_DEBUG == \"undefined\") ? {} : VEGA_DEBUG;\n",
       "  (function(spec, embedOpt){\n",
       "    let outputDiv = document.currentScript.previousElementSibling;\n",
       "    if (outputDiv.id !== \"altair-viz-683dcf997a3f49dd9c3c9994c9ed99f5\") {\n",
       "      outputDiv = document.getElementById(\"altair-viz-683dcf997a3f49dd9c3c9994c9ed99f5\");\n",
       "    }\n",
       "    const paths = {\n",
       "      \"vega\": \"https://cdn.jsdelivr.net/npm//vega@5?noext\",\n",
       "      \"vega-lib\": \"https://cdn.jsdelivr.net/npm//vega-lib?noext\",\n",
       "      \"vega-lite\": \"https://cdn.jsdelivr.net/npm//vega-lite@4.17.0?noext\",\n",
       "      \"vega-embed\": \"https://cdn.jsdelivr.net/npm//vega-embed@6?noext\",\n",
       "    };\n",
       "\n",
       "    function maybeLoadScript(lib, version) {\n",
       "      var key = `${lib.replace(\"-\", \"\")}_version`;\n",
       "      return (VEGA_DEBUG[key] == version) ?\n",
       "        Promise.resolve(paths[lib]) :\n",
       "        new Promise(function(resolve, reject) {\n",
       "          var s = document.createElement('script');\n",
       "          document.getElementsByTagName(\"head\")[0].appendChild(s);\n",
       "          s.async = true;\n",
       "          s.onload = () => {\n",
       "            VEGA_DEBUG[key] = version;\n",
       "            return resolve(paths[lib]);\n",
       "          };\n",
       "          s.onerror = () => reject(`Error loading script: ${paths[lib]}`);\n",
       "          s.src = paths[lib];\n",
       "        });\n",
       "    }\n",
       "\n",
       "    function showError(err) {\n",
       "      outputDiv.innerHTML = `<div class=\"error\" style=\"color:red;\">${err}</div>`;\n",
       "      throw err;\n",
       "    }\n",
       "\n",
       "    function displayChart(vegaEmbed) {\n",
       "      vegaEmbed(outputDiv, spec, embedOpt)\n",
       "        .catch(err => showError(`Javascript Error: ${err.message}<br>This usually means there's a typo in your chart specification. See the javascript console for the full traceback.`));\n",
       "    }\n",
       "\n",
       "    if(typeof define === \"function\" && define.amd) {\n",
       "      requirejs.config({paths});\n",
       "      require([\"vega-embed\"], displayChart, err => showError(`Error loading script: ${err.message}`));\n",
       "    } else {\n",
       "      maybeLoadScript(\"vega\", \"5\")\n",
       "        .then(() => maybeLoadScript(\"vega-lite\", \"4.17.0\"))\n",
       "        .then(() => maybeLoadScript(\"vega-embed\", \"6\"))\n",
       "        .catch(showError)\n",
       "        .then(() => displayChart(vegaEmbed));\n",
       "    }\n",
       "  })({\"config\": {\"view\": {\"continuousWidth\": 400, \"continuousHeight\": 300}}, \"data\": {\"name\": \"data-7c36766bdbdd929d88ac2881c2000dcf\"}, \"mark\": {\"type\": \"point\", \"filled\": true, \"size\": 200}, \"encoding\": {\"x\": {\"field\": \"category\", \"type\": \"quantitative\"}, \"y\": {\"field\": \"value\", \"type\": \"quantitative\"}}, \"$schema\": \"https://vega.github.io/schema/vega-lite/v4.17.0.json\", \"datasets\": {\"data-7c36766bdbdd929d88ac2881c2000dcf\": [{\"category\": 1, \"value\": 4, \"quality\": \"standard\"}, {\"category\": 2, \"value\": 6, \"quality\": \"good\"}, {\"category\": 3, \"value\": 10, \"quality\": \"excellent\"}, {\"category\": 4, \"value\": 3, \"quality\": \"standard\"}, {\"category\": 5, \"value\": 7, \"quality\": \"good\"}, {\"category\": 6, \"value\": 8, \"quality\": \"excellent\"}]}}, {\"mode\": \"vega-lite\"});\n",
       "</script>"
      ],
      "text/plain": [
       "alt.Chart(...)"
      ]
     },
     "execution_count": 2,
     "metadata": {},
     "output_type": "execute_result"
    }
   ],
   "source": [
    "base = alt.Chart(source).mark_point(size=200, filled=True).encode(x=\"category\", y=\"value\")\n",
    "base"
   ]
  },
  {
   "cell_type": "markdown",
   "id": "e33afc75",
   "metadata": {},
   "source": [
    "This is a reasonable scatter plot.  Let's now explore other encoding types that will allow us to visualize the \"quality\" column as well.\n",
    "\n",
    "## Color encoding"
   ]
  },
  {
   "cell_type": "code",
   "execution_count": 3,
   "id": "d366fc4c",
   "metadata": {},
   "outputs": [
    {
     "data": {
      "text/html": [
       "\n",
       "<div id=\"altair-viz-fe34c8d482f4435e80fd944f579ebec7\"></div>\n",
       "<script type=\"text/javascript\">\n",
       "  var VEGA_DEBUG = (typeof VEGA_DEBUG == \"undefined\") ? {} : VEGA_DEBUG;\n",
       "  (function(spec, embedOpt){\n",
       "    let outputDiv = document.currentScript.previousElementSibling;\n",
       "    if (outputDiv.id !== \"altair-viz-fe34c8d482f4435e80fd944f579ebec7\") {\n",
       "      outputDiv = document.getElementById(\"altair-viz-fe34c8d482f4435e80fd944f579ebec7\");\n",
       "    }\n",
       "    const paths = {\n",
       "      \"vega\": \"https://cdn.jsdelivr.net/npm//vega@5?noext\",\n",
       "      \"vega-lib\": \"https://cdn.jsdelivr.net/npm//vega-lib?noext\",\n",
       "      \"vega-lite\": \"https://cdn.jsdelivr.net/npm//vega-lite@4.17.0?noext\",\n",
       "      \"vega-embed\": \"https://cdn.jsdelivr.net/npm//vega-embed@6?noext\",\n",
       "    };\n",
       "\n",
       "    function maybeLoadScript(lib, version) {\n",
       "      var key = `${lib.replace(\"-\", \"\")}_version`;\n",
       "      return (VEGA_DEBUG[key] == version) ?\n",
       "        Promise.resolve(paths[lib]) :\n",
       "        new Promise(function(resolve, reject) {\n",
       "          var s = document.createElement('script');\n",
       "          document.getElementsByTagName(\"head\")[0].appendChild(s);\n",
       "          s.async = true;\n",
       "          s.onload = () => {\n",
       "            VEGA_DEBUG[key] = version;\n",
       "            return resolve(paths[lib]);\n",
       "          };\n",
       "          s.onerror = () => reject(`Error loading script: ${paths[lib]}`);\n",
       "          s.src = paths[lib];\n",
       "        });\n",
       "    }\n",
       "\n",
       "    function showError(err) {\n",
       "      outputDiv.innerHTML = `<div class=\"error\" style=\"color:red;\">${err}</div>`;\n",
       "      throw err;\n",
       "    }\n",
       "\n",
       "    function displayChart(vegaEmbed) {\n",
       "      vegaEmbed(outputDiv, spec, embedOpt)\n",
       "        .catch(err => showError(`Javascript Error: ${err.message}<br>This usually means there's a typo in your chart specification. See the javascript console for the full traceback.`));\n",
       "    }\n",
       "\n",
       "    if(typeof define === \"function\" && define.amd) {\n",
       "      requirejs.config({paths});\n",
       "      require([\"vega-embed\"], displayChart, err => showError(`Error loading script: ${err.message}`));\n",
       "    } else {\n",
       "      maybeLoadScript(\"vega\", \"5\")\n",
       "        .then(() => maybeLoadScript(\"vega-lite\", \"4.17.0\"))\n",
       "        .then(() => maybeLoadScript(\"vega-embed\", \"6\"))\n",
       "        .catch(showError)\n",
       "        .then(() => displayChart(vegaEmbed));\n",
       "    }\n",
       "  })({\"config\": {\"view\": {\"continuousWidth\": 400, \"continuousHeight\": 300}}, \"data\": {\"name\": \"data-7c36766bdbdd929d88ac2881c2000dcf\"}, \"mark\": {\"type\": \"point\", \"filled\": true, \"size\": 200}, \"encoding\": {\"color\": {\"field\": \"quality\", \"type\": \"nominal\"}, \"x\": {\"field\": \"category\", \"type\": \"quantitative\"}, \"y\": {\"field\": \"value\", \"type\": \"quantitative\"}}, \"$schema\": \"https://vega.github.io/schema/vega-lite/v4.17.0.json\", \"datasets\": {\"data-7c36766bdbdd929d88ac2881c2000dcf\": [{\"category\": 1, \"value\": 4, \"quality\": \"standard\"}, {\"category\": 2, \"value\": 6, \"quality\": \"good\"}, {\"category\": 3, \"value\": 10, \"quality\": \"excellent\"}, {\"category\": 4, \"value\": 3, \"quality\": \"standard\"}, {\"category\": 5, \"value\": 7, \"quality\": \"good\"}, {\"category\": 6, \"value\": 8, \"quality\": \"excellent\"}]}}, {\"mode\": \"vega-lite\"});\n",
       "</script>"
      ],
      "text/plain": [
       "alt.Chart(...)"
      ]
     },
     "execution_count": 3,
     "metadata": {},
     "output_type": "execute_result"
    }
   ],
   "source": [
    "scatter_plot = base.encode(color=\"quality\")\n",
    "scatter_plot"
   ]
  },
  {
   "cell_type": "markdown",
   "id": "90e03518",
   "metadata": {},
   "source": [
    "By simply setting color to a column name (\"quality\" in this case), we mapped the quality column as the color of the points in our plot.  Note that Altair chose a very reasonable default colormap in this case.  If you would like to change this default, you need to modify the \"scale\" of the color encoding.  Please see the tutorial on scale for more details.  We will leave the colormap as it is for now.\n",
    "\n",
    "## Shape encoding"
   ]
  },
  {
   "cell_type": "code",
   "execution_count": 4,
   "id": "b256efcb",
   "metadata": {},
   "outputs": [
    {
     "data": {
      "text/html": [
       "\n",
       "<div id=\"altair-viz-389bd7a8fbc94a33b8c2a29b3db9e9b3\"></div>\n",
       "<script type=\"text/javascript\">\n",
       "  var VEGA_DEBUG = (typeof VEGA_DEBUG == \"undefined\") ? {} : VEGA_DEBUG;\n",
       "  (function(spec, embedOpt){\n",
       "    let outputDiv = document.currentScript.previousElementSibling;\n",
       "    if (outputDiv.id !== \"altair-viz-389bd7a8fbc94a33b8c2a29b3db9e9b3\") {\n",
       "      outputDiv = document.getElementById(\"altair-viz-389bd7a8fbc94a33b8c2a29b3db9e9b3\");\n",
       "    }\n",
       "    const paths = {\n",
       "      \"vega\": \"https://cdn.jsdelivr.net/npm//vega@5?noext\",\n",
       "      \"vega-lib\": \"https://cdn.jsdelivr.net/npm//vega-lib?noext\",\n",
       "      \"vega-lite\": \"https://cdn.jsdelivr.net/npm//vega-lite@4.17.0?noext\",\n",
       "      \"vega-embed\": \"https://cdn.jsdelivr.net/npm//vega-embed@6?noext\",\n",
       "    };\n",
       "\n",
       "    function maybeLoadScript(lib, version) {\n",
       "      var key = `${lib.replace(\"-\", \"\")}_version`;\n",
       "      return (VEGA_DEBUG[key] == version) ?\n",
       "        Promise.resolve(paths[lib]) :\n",
       "        new Promise(function(resolve, reject) {\n",
       "          var s = document.createElement('script');\n",
       "          document.getElementsByTagName(\"head\")[0].appendChild(s);\n",
       "          s.async = true;\n",
       "          s.onload = () => {\n",
       "            VEGA_DEBUG[key] = version;\n",
       "            return resolve(paths[lib]);\n",
       "          };\n",
       "          s.onerror = () => reject(`Error loading script: ${paths[lib]}`);\n",
       "          s.src = paths[lib];\n",
       "        });\n",
       "    }\n",
       "\n",
       "    function showError(err) {\n",
       "      outputDiv.innerHTML = `<div class=\"error\" style=\"color:red;\">${err}</div>`;\n",
       "      throw err;\n",
       "    }\n",
       "\n",
       "    function displayChart(vegaEmbed) {\n",
       "      vegaEmbed(outputDiv, spec, embedOpt)\n",
       "        .catch(err => showError(`Javascript Error: ${err.message}<br>This usually means there's a typo in your chart specification. See the javascript console for the full traceback.`));\n",
       "    }\n",
       "\n",
       "    if(typeof define === \"function\" && define.amd) {\n",
       "      requirejs.config({paths});\n",
       "      require([\"vega-embed\"], displayChart, err => showError(`Error loading script: ${err.message}`));\n",
       "    } else {\n",
       "      maybeLoadScript(\"vega\", \"5\")\n",
       "        .then(() => maybeLoadScript(\"vega-lite\", \"4.17.0\"))\n",
       "        .then(() => maybeLoadScript(\"vega-embed\", \"6\"))\n",
       "        .catch(showError)\n",
       "        .then(() => displayChart(vegaEmbed));\n",
       "    }\n",
       "  })({\"config\": {\"view\": {\"continuousWidth\": 400, \"continuousHeight\": 300}}, \"data\": {\"name\": \"data-7c36766bdbdd929d88ac2881c2000dcf\"}, \"mark\": {\"type\": \"point\", \"filled\": true, \"size\": 200}, \"encoding\": {\"shape\": {\"field\": \"quality\", \"type\": \"nominal\"}, \"x\": {\"field\": \"category\", \"type\": \"quantitative\"}, \"y\": {\"field\": \"value\", \"type\": \"quantitative\"}}, \"$schema\": \"https://vega.github.io/schema/vega-lite/v4.17.0.json\", \"datasets\": {\"data-7c36766bdbdd929d88ac2881c2000dcf\": [{\"category\": 1, \"value\": 4, \"quality\": \"standard\"}, {\"category\": 2, \"value\": 6, \"quality\": \"good\"}, {\"category\": 3, \"value\": 10, \"quality\": \"excellent\"}, {\"category\": 4, \"value\": 3, \"quality\": \"standard\"}, {\"category\": 5, \"value\": 7, \"quality\": \"good\"}, {\"category\": 6, \"value\": 8, \"quality\": \"excellent\"}]}}, {\"mode\": \"vega-lite\"});\n",
       "</script>"
      ],
      "text/plain": [
       "alt.Chart(...)"
      ]
     },
     "execution_count": 4,
     "metadata": {},
     "output_type": "execute_result"
    }
   ],
   "source": [
    "scatter_plot = base.encode(shape=\"quality\")\n",
    "scatter_plot"
   ]
  },
  {
   "cell_type": "markdown",
   "id": "95e6eaca",
   "metadata": {},
   "source": [
    "Instead of color, one can also use shape to encode data. See that different qualities are encoded as different shapes in the scatter plot.  Using shape encoding is a great choice when the number of distinct values are small (e.g. less than 6).  Shape, unfortunately, starts to become ineffective when you have a lot of distinct values.\n",
    "\n",
    "In Altair, we can also use multiple encoding together.  For example, in the chart below we encode quality both as color and shape."
   ]
  },
  {
   "cell_type": "code",
   "execution_count": 5,
   "id": "2e320779",
   "metadata": {},
   "outputs": [
    {
     "data": {
      "text/html": [
       "\n",
       "<div id=\"altair-viz-5985a2ceb180412eb14d4931766fa1c6\"></div>\n",
       "<script type=\"text/javascript\">\n",
       "  var VEGA_DEBUG = (typeof VEGA_DEBUG == \"undefined\") ? {} : VEGA_DEBUG;\n",
       "  (function(spec, embedOpt){\n",
       "    let outputDiv = document.currentScript.previousElementSibling;\n",
       "    if (outputDiv.id !== \"altair-viz-5985a2ceb180412eb14d4931766fa1c6\") {\n",
       "      outputDiv = document.getElementById(\"altair-viz-5985a2ceb180412eb14d4931766fa1c6\");\n",
       "    }\n",
       "    const paths = {\n",
       "      \"vega\": \"https://cdn.jsdelivr.net/npm//vega@5?noext\",\n",
       "      \"vega-lib\": \"https://cdn.jsdelivr.net/npm//vega-lib?noext\",\n",
       "      \"vega-lite\": \"https://cdn.jsdelivr.net/npm//vega-lite@4.17.0?noext\",\n",
       "      \"vega-embed\": \"https://cdn.jsdelivr.net/npm//vega-embed@6?noext\",\n",
       "    };\n",
       "\n",
       "    function maybeLoadScript(lib, version) {\n",
       "      var key = `${lib.replace(\"-\", \"\")}_version`;\n",
       "      return (VEGA_DEBUG[key] == version) ?\n",
       "        Promise.resolve(paths[lib]) :\n",
       "        new Promise(function(resolve, reject) {\n",
       "          var s = document.createElement('script');\n",
       "          document.getElementsByTagName(\"head\")[0].appendChild(s);\n",
       "          s.async = true;\n",
       "          s.onload = () => {\n",
       "            VEGA_DEBUG[key] = version;\n",
       "            return resolve(paths[lib]);\n",
       "          };\n",
       "          s.onerror = () => reject(`Error loading script: ${paths[lib]}`);\n",
       "          s.src = paths[lib];\n",
       "        });\n",
       "    }\n",
       "\n",
       "    function showError(err) {\n",
       "      outputDiv.innerHTML = `<div class=\"error\" style=\"color:red;\">${err}</div>`;\n",
       "      throw err;\n",
       "    }\n",
       "\n",
       "    function displayChart(vegaEmbed) {\n",
       "      vegaEmbed(outputDiv, spec, embedOpt)\n",
       "        .catch(err => showError(`Javascript Error: ${err.message}<br>This usually means there's a typo in your chart specification. See the javascript console for the full traceback.`));\n",
       "    }\n",
       "\n",
       "    if(typeof define === \"function\" && define.amd) {\n",
       "      requirejs.config({paths});\n",
       "      require([\"vega-embed\"], displayChart, err => showError(`Error loading script: ${err.message}`));\n",
       "    } else {\n",
       "      maybeLoadScript(\"vega\", \"5\")\n",
       "        .then(() => maybeLoadScript(\"vega-lite\", \"4.17.0\"))\n",
       "        .then(() => maybeLoadScript(\"vega-embed\", \"6\"))\n",
       "        .catch(showError)\n",
       "        .then(() => displayChart(vegaEmbed));\n",
       "    }\n",
       "  })({\"config\": {\"view\": {\"continuousWidth\": 400, \"continuousHeight\": 300}}, \"data\": {\"name\": \"data-7c36766bdbdd929d88ac2881c2000dcf\"}, \"mark\": {\"type\": \"point\", \"filled\": true, \"size\": 200}, \"encoding\": {\"color\": {\"field\": \"quality\", \"type\": \"nominal\"}, \"shape\": {\"field\": \"quality\", \"type\": \"nominal\"}, \"x\": {\"field\": \"category\", \"type\": \"quantitative\"}, \"y\": {\"field\": \"value\", \"type\": \"quantitative\"}}, \"$schema\": \"https://vega.github.io/schema/vega-lite/v4.17.0.json\", \"datasets\": {\"data-7c36766bdbdd929d88ac2881c2000dcf\": [{\"category\": 1, \"value\": 4, \"quality\": \"standard\"}, {\"category\": 2, \"value\": 6, \"quality\": \"good\"}, {\"category\": 3, \"value\": 10, \"quality\": \"excellent\"}, {\"category\": 4, \"value\": 3, \"quality\": \"standard\"}, {\"category\": 5, \"value\": 7, \"quality\": \"good\"}, {\"category\": 6, \"value\": 8, \"quality\": \"excellent\"}]}}, {\"mode\": \"vega-lite\"});\n",
       "</script>"
      ],
      "text/plain": [
       "alt.Chart(...)"
      ]
     },
     "execution_count": 5,
     "metadata": {},
     "output_type": "execute_result"
    }
   ],
   "source": [
    "scatter_plot = base.encode(color=\"quality\", \n",
    "                           shape=\"quality\")\n",
    "scatter_plot"
   ]
  },
  {
   "cell_type": "markdown",
   "id": "9329013f",
   "metadata": {},
   "source": [
    "## Size encoding\n",
    "\n",
    "We can also use the size of the mark to encode data."
   ]
  },
  {
   "cell_type": "code",
   "execution_count": 6,
   "id": "dc27a37a",
   "metadata": {},
   "outputs": [
    {
     "data": {
      "text/html": [
       "\n",
       "<div id=\"altair-viz-3e0ff98d9df3462cb412fd6d1af64a06\"></div>\n",
       "<script type=\"text/javascript\">\n",
       "  var VEGA_DEBUG = (typeof VEGA_DEBUG == \"undefined\") ? {} : VEGA_DEBUG;\n",
       "  (function(spec, embedOpt){\n",
       "    let outputDiv = document.currentScript.previousElementSibling;\n",
       "    if (outputDiv.id !== \"altair-viz-3e0ff98d9df3462cb412fd6d1af64a06\") {\n",
       "      outputDiv = document.getElementById(\"altair-viz-3e0ff98d9df3462cb412fd6d1af64a06\");\n",
       "    }\n",
       "    const paths = {\n",
       "      \"vega\": \"https://cdn.jsdelivr.net/npm//vega@5?noext\",\n",
       "      \"vega-lib\": \"https://cdn.jsdelivr.net/npm//vega-lib?noext\",\n",
       "      \"vega-lite\": \"https://cdn.jsdelivr.net/npm//vega-lite@4.17.0?noext\",\n",
       "      \"vega-embed\": \"https://cdn.jsdelivr.net/npm//vega-embed@6?noext\",\n",
       "    };\n",
       "\n",
       "    function maybeLoadScript(lib, version) {\n",
       "      var key = `${lib.replace(\"-\", \"\")}_version`;\n",
       "      return (VEGA_DEBUG[key] == version) ?\n",
       "        Promise.resolve(paths[lib]) :\n",
       "        new Promise(function(resolve, reject) {\n",
       "          var s = document.createElement('script');\n",
       "          document.getElementsByTagName(\"head\")[0].appendChild(s);\n",
       "          s.async = true;\n",
       "          s.onload = () => {\n",
       "            VEGA_DEBUG[key] = version;\n",
       "            return resolve(paths[lib]);\n",
       "          };\n",
       "          s.onerror = () => reject(`Error loading script: ${paths[lib]}`);\n",
       "          s.src = paths[lib];\n",
       "        });\n",
       "    }\n",
       "\n",
       "    function showError(err) {\n",
       "      outputDiv.innerHTML = `<div class=\"error\" style=\"color:red;\">${err}</div>`;\n",
       "      throw err;\n",
       "    }\n",
       "\n",
       "    function displayChart(vegaEmbed) {\n",
       "      vegaEmbed(outputDiv, spec, embedOpt)\n",
       "        .catch(err => showError(`Javascript Error: ${err.message}<br>This usually means there's a typo in your chart specification. See the javascript console for the full traceback.`));\n",
       "    }\n",
       "\n",
       "    if(typeof define === \"function\" && define.amd) {\n",
       "      requirejs.config({paths});\n",
       "      require([\"vega-embed\"], displayChart, err => showError(`Error loading script: ${err.message}`));\n",
       "    } else {\n",
       "      maybeLoadScript(\"vega\", \"5\")\n",
       "        .then(() => maybeLoadScript(\"vega-lite\", \"4.17.0\"))\n",
       "        .then(() => maybeLoadScript(\"vega-embed\", \"6\"))\n",
       "        .catch(showError)\n",
       "        .then(() => displayChart(vegaEmbed));\n",
       "    }\n",
       "  })({\"config\": {\"view\": {\"continuousWidth\": 400, \"continuousHeight\": 300}}, \"data\": {\"name\": \"data-7c36766bdbdd929d88ac2881c2000dcf\"}, \"mark\": {\"type\": \"point\", \"filled\": true, \"size\": 200}, \"encoding\": {\"size\": {\"field\": \"value\", \"type\": \"quantitative\"}, \"x\": {\"field\": \"category\", \"type\": \"quantitative\"}, \"y\": {\"field\": \"value\", \"type\": \"quantitative\"}}, \"$schema\": \"https://vega.github.io/schema/vega-lite/v4.17.0.json\", \"datasets\": {\"data-7c36766bdbdd929d88ac2881c2000dcf\": [{\"category\": 1, \"value\": 4, \"quality\": \"standard\"}, {\"category\": 2, \"value\": 6, \"quality\": \"good\"}, {\"category\": 3, \"value\": 10, \"quality\": \"excellent\"}, {\"category\": 4, \"value\": 3, \"quality\": \"standard\"}, {\"category\": 5, \"value\": 7, \"quality\": \"good\"}, {\"category\": 6, \"value\": 8, \"quality\": \"excellent\"}]}}, {\"mode\": \"vega-lite\"});\n",
       "</script>"
      ],
      "text/plain": [
       "alt.Chart(...)"
      ]
     },
     "execution_count": 6,
     "metadata": {},
     "output_type": "execute_result"
    }
   ],
   "source": [
    "scatter_plot = base.encode(size=\"value\")\n",
    "scatter_plot"
   ]
  },
  {
   "cell_type": "markdown",
   "id": "ed1830f0",
   "metadata": {},
   "source": [
    "Note that large values mapped to large circles in the chart above.  If we want to map large values to small circles, we can reverse the order of values in the corresponding scale. We will come back to it when we talk about scale."
   ]
  },
  {
   "cell_type": "markdown",
   "id": "808fa31a",
   "metadata": {},
   "source": [
    "## Opacity encoding\n",
    "\n",
    "Another commonly used encoding is the opacity of the mark. This is especially important when we have multiple overlapping data points in the plot. In the example below, we encode the \"value\" column as the opacity."
   ]
  },
  {
   "cell_type": "code",
   "execution_count": 7,
   "id": "a854a211",
   "metadata": {},
   "outputs": [
    {
     "data": {
      "text/html": [
       "\n",
       "<div id=\"altair-viz-9275b0e1d6504b14b1f6b026973a414c\"></div>\n",
       "<script type=\"text/javascript\">\n",
       "  var VEGA_DEBUG = (typeof VEGA_DEBUG == \"undefined\") ? {} : VEGA_DEBUG;\n",
       "  (function(spec, embedOpt){\n",
       "    let outputDiv = document.currentScript.previousElementSibling;\n",
       "    if (outputDiv.id !== \"altair-viz-9275b0e1d6504b14b1f6b026973a414c\") {\n",
       "      outputDiv = document.getElementById(\"altair-viz-9275b0e1d6504b14b1f6b026973a414c\");\n",
       "    }\n",
       "    const paths = {\n",
       "      \"vega\": \"https://cdn.jsdelivr.net/npm//vega@5?noext\",\n",
       "      \"vega-lib\": \"https://cdn.jsdelivr.net/npm//vega-lib?noext\",\n",
       "      \"vega-lite\": \"https://cdn.jsdelivr.net/npm//vega-lite@4.17.0?noext\",\n",
       "      \"vega-embed\": \"https://cdn.jsdelivr.net/npm//vega-embed@6?noext\",\n",
       "    };\n",
       "\n",
       "    function maybeLoadScript(lib, version) {\n",
       "      var key = `${lib.replace(\"-\", \"\")}_version`;\n",
       "      return (VEGA_DEBUG[key] == version) ?\n",
       "        Promise.resolve(paths[lib]) :\n",
       "        new Promise(function(resolve, reject) {\n",
       "          var s = document.createElement('script');\n",
       "          document.getElementsByTagName(\"head\")[0].appendChild(s);\n",
       "          s.async = true;\n",
       "          s.onload = () => {\n",
       "            VEGA_DEBUG[key] = version;\n",
       "            return resolve(paths[lib]);\n",
       "          };\n",
       "          s.onerror = () => reject(`Error loading script: ${paths[lib]}`);\n",
       "          s.src = paths[lib];\n",
       "        });\n",
       "    }\n",
       "\n",
       "    function showError(err) {\n",
       "      outputDiv.innerHTML = `<div class=\"error\" style=\"color:red;\">${err}</div>`;\n",
       "      throw err;\n",
       "    }\n",
       "\n",
       "    function displayChart(vegaEmbed) {\n",
       "      vegaEmbed(outputDiv, spec, embedOpt)\n",
       "        .catch(err => showError(`Javascript Error: ${err.message}<br>This usually means there's a typo in your chart specification. See the javascript console for the full traceback.`));\n",
       "    }\n",
       "\n",
       "    if(typeof define === \"function\" && define.amd) {\n",
       "      requirejs.config({paths});\n",
       "      require([\"vega-embed\"], displayChart, err => showError(`Error loading script: ${err.message}`));\n",
       "    } else {\n",
       "      maybeLoadScript(\"vega\", \"5\")\n",
       "        .then(() => maybeLoadScript(\"vega-lite\", \"4.17.0\"))\n",
       "        .then(() => maybeLoadScript(\"vega-embed\", \"6\"))\n",
       "        .catch(showError)\n",
       "        .then(() => displayChart(vegaEmbed));\n",
       "    }\n",
       "  })({\"config\": {\"view\": {\"continuousWidth\": 400, \"continuousHeight\": 300}}, \"data\": {\"name\": \"data-7c36766bdbdd929d88ac2881c2000dcf\"}, \"mark\": {\"type\": \"point\", \"filled\": true, \"size\": 200}, \"encoding\": {\"color\": {\"field\": \"quality\", \"type\": \"nominal\"}, \"opacity\": {\"field\": \"value\", \"type\": \"quantitative\"}, \"size\": {\"field\": \"value\", \"type\": \"quantitative\"}, \"x\": {\"field\": \"category\", \"type\": \"quantitative\"}, \"y\": {\"field\": \"value\", \"type\": \"quantitative\"}}, \"$schema\": \"https://vega.github.io/schema/vega-lite/v4.17.0.json\", \"datasets\": {\"data-7c36766bdbdd929d88ac2881c2000dcf\": [{\"category\": 1, \"value\": 4, \"quality\": \"standard\"}, {\"category\": 2, \"value\": 6, \"quality\": \"good\"}, {\"category\": 3, \"value\": 10, \"quality\": \"excellent\"}, {\"category\": 4, \"value\": 3, \"quality\": \"standard\"}, {\"category\": 5, \"value\": 7, \"quality\": \"good\"}, {\"category\": 6, \"value\": 8, \"quality\": \"excellent\"}]}}, {\"mode\": \"vega-lite\"});\n",
       "</script>"
      ],
      "text/plain": [
       "alt.Chart(...)"
      ]
     },
     "execution_count": 7,
     "metadata": {},
     "output_type": "execute_result"
    }
   ],
   "source": [
    "scatter_plot = base.encode(color=\"quality\", \n",
    "                           size=\"value\", \n",
    "                           opacity=\"value\")\n",
    "scatter_plot"
   ]
  },
  {
   "cell_type": "markdown",
   "id": "89f3f168",
   "metadata": {},
   "source": [
    "## Using constant for encoding\n",
    "\n",
    "Lastly, sometimes we just want to encode a channel with constant value.  This can be done by setting the corresponding mark properties when we specify the mark. It can also be done by using the `alt.value` object. For example, to add a constant stroke color, we can set the stroke encoding to `alt.value(\"color_name\")`."
   ]
  },
  {
   "cell_type": "code",
   "execution_count": 8,
   "id": "89a642bb",
   "metadata": {},
   "outputs": [
    {
     "data": {
      "text/html": [
       "\n",
       "<div id=\"altair-viz-398536fc710a41e6899ca9a4b345b6e5\"></div>\n",
       "<script type=\"text/javascript\">\n",
       "  var VEGA_DEBUG = (typeof VEGA_DEBUG == \"undefined\") ? {} : VEGA_DEBUG;\n",
       "  (function(spec, embedOpt){\n",
       "    let outputDiv = document.currentScript.previousElementSibling;\n",
       "    if (outputDiv.id !== \"altair-viz-398536fc710a41e6899ca9a4b345b6e5\") {\n",
       "      outputDiv = document.getElementById(\"altair-viz-398536fc710a41e6899ca9a4b345b6e5\");\n",
       "    }\n",
       "    const paths = {\n",
       "      \"vega\": \"https://cdn.jsdelivr.net/npm//vega@5?noext\",\n",
       "      \"vega-lib\": \"https://cdn.jsdelivr.net/npm//vega-lib?noext\",\n",
       "      \"vega-lite\": \"https://cdn.jsdelivr.net/npm//vega-lite@4.17.0?noext\",\n",
       "      \"vega-embed\": \"https://cdn.jsdelivr.net/npm//vega-embed@6?noext\",\n",
       "    };\n",
       "\n",
       "    function maybeLoadScript(lib, version) {\n",
       "      var key = `${lib.replace(\"-\", \"\")}_version`;\n",
       "      return (VEGA_DEBUG[key] == version) ?\n",
       "        Promise.resolve(paths[lib]) :\n",
       "        new Promise(function(resolve, reject) {\n",
       "          var s = document.createElement('script');\n",
       "          document.getElementsByTagName(\"head\")[0].appendChild(s);\n",
       "          s.async = true;\n",
       "          s.onload = () => {\n",
       "            VEGA_DEBUG[key] = version;\n",
       "            return resolve(paths[lib]);\n",
       "          };\n",
       "          s.onerror = () => reject(`Error loading script: ${paths[lib]}`);\n",
       "          s.src = paths[lib];\n",
       "        });\n",
       "    }\n",
       "\n",
       "    function showError(err) {\n",
       "      outputDiv.innerHTML = `<div class=\"error\" style=\"color:red;\">${err}</div>`;\n",
       "      throw err;\n",
       "    }\n",
       "\n",
       "    function displayChart(vegaEmbed) {\n",
       "      vegaEmbed(outputDiv, spec, embedOpt)\n",
       "        .catch(err => showError(`Javascript Error: ${err.message}<br>This usually means there's a typo in your chart specification. See the javascript console for the full traceback.`));\n",
       "    }\n",
       "\n",
       "    if(typeof define === \"function\" && define.amd) {\n",
       "      requirejs.config({paths});\n",
       "      require([\"vega-embed\"], displayChart, err => showError(`Error loading script: ${err.message}`));\n",
       "    } else {\n",
       "      maybeLoadScript(\"vega\", \"5\")\n",
       "        .then(() => maybeLoadScript(\"vega-lite\", \"4.17.0\"))\n",
       "        .then(() => maybeLoadScript(\"vega-embed\", \"6\"))\n",
       "        .catch(showError)\n",
       "        .then(() => displayChart(vegaEmbed));\n",
       "    }\n",
       "  })({\"config\": {\"view\": {\"continuousWidth\": 400, \"continuousHeight\": 300}}, \"data\": {\"name\": \"data-7c36766bdbdd929d88ac2881c2000dcf\"}, \"mark\": {\"type\": \"point\", \"filled\": true, \"size\": 200}, \"encoding\": {\"color\": {\"field\": \"quality\", \"type\": \"nominal\"}, \"opacity\": {\"field\": \"value\", \"type\": \"quantitative\"}, \"size\": {\"field\": \"value\", \"type\": \"quantitative\"}, \"stroke\": {\"value\": \"black\"}, \"x\": {\"field\": \"category\", \"type\": \"quantitative\"}, \"y\": {\"field\": \"value\", \"type\": \"quantitative\"}}, \"$schema\": \"https://vega.github.io/schema/vega-lite/v4.17.0.json\", \"datasets\": {\"data-7c36766bdbdd929d88ac2881c2000dcf\": [{\"category\": 1, \"value\": 4, \"quality\": \"standard\"}, {\"category\": 2, \"value\": 6, \"quality\": \"good\"}, {\"category\": 3, \"value\": 10, \"quality\": \"excellent\"}, {\"category\": 4, \"value\": 3, \"quality\": \"standard\"}, {\"category\": 5, \"value\": 7, \"quality\": \"good\"}, {\"category\": 6, \"value\": 8, \"quality\": \"excellent\"}]}}, {\"mode\": \"vega-lite\"});\n",
       "</script>"
      ],
      "text/plain": [
       "alt.Chart(...)"
      ]
     },
     "execution_count": 8,
     "metadata": {},
     "output_type": "execute_result"
    }
   ],
   "source": [
    "scatter_plot = base.encode(color=\"quality\", \n",
    "                           size=\"value\", \n",
    "                           opacity=\"value\",\n",
    "                           stroke=alt.value(\"black\"))\n",
    "scatter_plot"
   ]
  },
  {
   "cell_type": "markdown",
   "id": "0bcb6c2a",
   "metadata": {},
   "source": [
    "## Summary\n",
    "\n",
    "In this tutorial, we explored a few of the common encoding types: X, Y, color, shape, size, opacity and stroke.  To learn more, [Altair's doc](https://altair-viz.github.io/user_guide/encoding.html) provides a complete list of encoding types."
   ]
  },
  {
   "cell_type": "code",
   "execution_count": null,
   "id": "c9ff4879",
   "metadata": {},
   "outputs": [],
   "source": []
  }
 ],
 "metadata": {
  "kernelspec": {
   "display_name": "Python 3 (ipykernel)",
   "language": "python",
   "name": "python3"
  },
  "language_info": {
   "codemirror_mode": {
    "name": "ipython",
    "version": 3
   },
   "file_extension": ".py",
   "mimetype": "text/x-python",
   "name": "python",
   "nbconvert_exporter": "python",
   "pygments_lexer": "ipython3",
   "version": "3.10.9"
  }
 },
 "nbformat": 4,
 "nbformat_minor": 5
}
