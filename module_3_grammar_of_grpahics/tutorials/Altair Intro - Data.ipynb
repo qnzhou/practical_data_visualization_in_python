{
 "cells": [
  {
   "cell_type": "markdown",
   "id": "ca1676dd",
   "metadata": {},
   "source": [
    "# Altair Intro: Data\n",
    "\n",
    "In this session, we will take a closer look at the ways of specifying data in Altair. Data is often passed as the first argument to the constructor of `alt.Chart` object.  Altair is smart enough to work with many different types of data. We will look at examples of 3 most common data types: Pandas dataframe, `alt.Data` object and url pointing to data in either json or csv format.\n",
    "\n",
    "## Pandas DataFrame\n",
    "\n",
    "Pandas is a very powerful data processing package. Its `DataFrame` class has become the de facto data structure for representing data. It is also the recommended way of storing data. Let's look at a simple example."
   ]
  },
  {
   "cell_type": "code",
   "execution_count": 1,
   "id": "f3e5aac3",
   "metadata": {},
   "outputs": [
    {
     "data": {
      "text/html": [
       "<div>\n",
       "<style scoped>\n",
       "    .dataframe tbody tr th:only-of-type {\n",
       "        vertical-align: middle;\n",
       "    }\n",
       "\n",
       "    .dataframe tbody tr th {\n",
       "        vertical-align: top;\n",
       "    }\n",
       "\n",
       "    .dataframe thead th {\n",
       "        text-align: right;\n",
       "    }\n",
       "</style>\n",
       "<table border=\"1\" class=\"dataframe\">\n",
       "  <thead>\n",
       "    <tr style=\"text-align: right;\">\n",
       "      <th></th>\n",
       "      <th>category</th>\n",
       "      <th>value</th>\n",
       "      <th>quality</th>\n",
       "    </tr>\n",
       "  </thead>\n",
       "  <tbody>\n",
       "    <tr>\n",
       "      <th>0</th>\n",
       "      <td>1</td>\n",
       "      <td>4</td>\n",
       "      <td>standard</td>\n",
       "    </tr>\n",
       "    <tr>\n",
       "      <th>1</th>\n",
       "      <td>2</td>\n",
       "      <td>6</td>\n",
       "      <td>good</td>\n",
       "    </tr>\n",
       "    <tr>\n",
       "      <th>2</th>\n",
       "      <td>3</td>\n",
       "      <td>10</td>\n",
       "      <td>excellent</td>\n",
       "    </tr>\n",
       "    <tr>\n",
       "      <th>3</th>\n",
       "      <td>4</td>\n",
       "      <td>3</td>\n",
       "      <td>standard</td>\n",
       "    </tr>\n",
       "    <tr>\n",
       "      <th>4</th>\n",
       "      <td>5</td>\n",
       "      <td>7</td>\n",
       "      <td>good</td>\n",
       "    </tr>\n",
       "    <tr>\n",
       "      <th>5</th>\n",
       "      <td>6</td>\n",
       "      <td>8</td>\n",
       "      <td>excellent</td>\n",
       "    </tr>\n",
       "  </tbody>\n",
       "</table>\n",
       "</div>"
      ],
      "text/plain": [
       "   category  value    quality\n",
       "0         1      4   standard\n",
       "1         2      6       good\n",
       "2         3     10  excellent\n",
       "3         4      3   standard\n",
       "4         5      7       good\n",
       "5         6      8  excellent"
      ]
     },
     "execution_count": 1,
     "metadata": {},
     "output_type": "execute_result"
    }
   ],
   "source": [
    "import altair as alt\n",
    "import pandas as pd\n",
    "\n",
    "source = pd.DataFrame({\"category\": [1, 2, 3, 4, 5, 6], \"value\": [4, 6, 10, 3, 7, 8],\n",
    "                       \"quality\": [\"standard\", \"good\", \"excellent\", \"standard\", \"good\", \"excellent\"]})\n",
    "source"
   ]
  },
  {
   "cell_type": "markdown",
   "id": "59e66b7a",
   "metadata": {},
   "source": [
    "In this example, we have created a very simple dataframe directly from a dictionary. Each entry of the dictionary corresponds to a column in our table. This is our toy dataset that will be used over and over again. In practice, it is more likely that data is loaded from files using `pd.read_csv` for example."
   ]
  },
  {
   "cell_type": "code",
   "execution_count": 27,
   "id": "88bbf85e",
   "metadata": {},
   "outputs": [
    {
     "data": {
      "text/html": [
       "\n",
       "<div id=\"altair-viz-025d183b40f147a6a567900df5636332\"></div>\n",
       "<script type=\"text/javascript\">\n",
       "  var VEGA_DEBUG = (typeof VEGA_DEBUG == \"undefined\") ? {} : VEGA_DEBUG;\n",
       "  (function(spec, embedOpt){\n",
       "    let outputDiv = document.currentScript.previousElementSibling;\n",
       "    if (outputDiv.id !== \"altair-viz-025d183b40f147a6a567900df5636332\") {\n",
       "      outputDiv = document.getElementById(\"altair-viz-025d183b40f147a6a567900df5636332\");\n",
       "    }\n",
       "    const paths = {\n",
       "      \"vega\": \"https://cdn.jsdelivr.net/npm//vega@5?noext\",\n",
       "      \"vega-lib\": \"https://cdn.jsdelivr.net/npm//vega-lib?noext\",\n",
       "      \"vega-lite\": \"https://cdn.jsdelivr.net/npm//vega-lite@4.17.0?noext\",\n",
       "      \"vega-embed\": \"https://cdn.jsdelivr.net/npm//vega-embed@6?noext\",\n",
       "    };\n",
       "\n",
       "    function maybeLoadScript(lib, version) {\n",
       "      var key = `${lib.replace(\"-\", \"\")}_version`;\n",
       "      return (VEGA_DEBUG[key] == version) ?\n",
       "        Promise.resolve(paths[lib]) :\n",
       "        new Promise(function(resolve, reject) {\n",
       "          var s = document.createElement('script');\n",
       "          document.getElementsByTagName(\"head\")[0].appendChild(s);\n",
       "          s.async = true;\n",
       "          s.onload = () => {\n",
       "            VEGA_DEBUG[key] = version;\n",
       "            return resolve(paths[lib]);\n",
       "          };\n",
       "          s.onerror = () => reject(`Error loading script: ${paths[lib]}`);\n",
       "          s.src = paths[lib];\n",
       "        });\n",
       "    }\n",
       "\n",
       "    function showError(err) {\n",
       "      outputDiv.innerHTML = `<div class=\"error\" style=\"color:red;\">${err}</div>`;\n",
       "      throw err;\n",
       "    }\n",
       "\n",
       "    function displayChart(vegaEmbed) {\n",
       "      vegaEmbed(outputDiv, spec, embedOpt)\n",
       "        .catch(err => showError(`Javascript Error: ${err.message}<br>This usually means there's a typo in your chart specification. See the javascript console for the full traceback.`));\n",
       "    }\n",
       "\n",
       "    if(typeof define === \"function\" && define.amd) {\n",
       "      requirejs.config({paths});\n",
       "      require([\"vega-embed\"], displayChart, err => showError(`Error loading script: ${err.message}`));\n",
       "    } else {\n",
       "      maybeLoadScript(\"vega\", \"5\")\n",
       "        .then(() => maybeLoadScript(\"vega-lite\", \"4.17.0\"))\n",
       "        .then(() => maybeLoadScript(\"vega-embed\", \"6\"))\n",
       "        .catch(showError)\n",
       "        .then(() => displayChart(vegaEmbed));\n",
       "    }\n",
       "  })({\"config\": {\"view\": {\"continuousWidth\": 400, \"continuousHeight\": 300}}, \"data\": {\"name\": \"data-7c36766bdbdd929d88ac2881c2000dcf\"}, \"mark\": \"point\", \"encoding\": {\"x\": {\"field\": \"category\", \"type\": \"quantitative\"}, \"y\": {\"field\": \"value\", \"type\": \"quantitative\"}}, \"$schema\": \"https://vega.github.io/schema/vega-lite/v4.17.0.json\", \"datasets\": {\"data-7c36766bdbdd929d88ac2881c2000dcf\": [{\"category\": 1, \"value\": 4, \"quality\": \"standard\"}, {\"category\": 2, \"value\": 6, \"quality\": \"good\"}, {\"category\": 3, \"value\": 10, \"quality\": \"excellent\"}, {\"category\": 4, \"value\": 3, \"quality\": \"standard\"}, {\"category\": 5, \"value\": 7, \"quality\": \"good\"}, {\"category\": 6, \"value\": 8, \"quality\": \"excellent\"}]}}, {\"mode\": \"vega-lite\"});\n",
       "</script>"
      ],
      "text/plain": [
       "alt.Chart(...)"
      ]
     },
     "execution_count": 27,
     "metadata": {},
     "output_type": "execute_result"
    }
   ],
   "source": [
    "chart = alt.Chart(source)\n",
    "chart.mark_point().encode(x=\"category\", y=\"value\")"
   ]
  },
  {
   "cell_type": "markdown",
   "id": "58803f0d",
   "metadata": {},
   "source": [
    "Once that data is ready, we can simply create an Altair chart object by `alt.Chart(data)`. Demonstrate that data is loaded correctly, we visualized part of the data using a scatter plot. We will talk about mark and encoding in another session.  For now, we will claim victory since the plot above is as expected.\n",
    "\n",
    "## Altair Data\n",
    "\n",
    "Alternatively, we can construct an Altair `Data` object."
   ]
  },
  {
   "cell_type": "code",
   "execution_count": 30,
   "id": "aa77213a",
   "metadata": {},
   "outputs": [
    {
     "data": {
      "text/html": [
       "\n",
       "<div id=\"altair-viz-3bf2336aa38844fd8ff12b109012587c\"></div>\n",
       "<script type=\"text/javascript\">\n",
       "  var VEGA_DEBUG = (typeof VEGA_DEBUG == \"undefined\") ? {} : VEGA_DEBUG;\n",
       "  (function(spec, embedOpt){\n",
       "    let outputDiv = document.currentScript.previousElementSibling;\n",
       "    if (outputDiv.id !== \"altair-viz-3bf2336aa38844fd8ff12b109012587c\") {\n",
       "      outputDiv = document.getElementById(\"altair-viz-3bf2336aa38844fd8ff12b109012587c\");\n",
       "    }\n",
       "    const paths = {\n",
       "      \"vega\": \"https://cdn.jsdelivr.net/npm//vega@5?noext\",\n",
       "      \"vega-lib\": \"https://cdn.jsdelivr.net/npm//vega-lib?noext\",\n",
       "      \"vega-lite\": \"https://cdn.jsdelivr.net/npm//vega-lite@4.17.0?noext\",\n",
       "      \"vega-embed\": \"https://cdn.jsdelivr.net/npm//vega-embed@6?noext\",\n",
       "    };\n",
       "\n",
       "    function maybeLoadScript(lib, version) {\n",
       "      var key = `${lib.replace(\"-\", \"\")}_version`;\n",
       "      return (VEGA_DEBUG[key] == version) ?\n",
       "        Promise.resolve(paths[lib]) :\n",
       "        new Promise(function(resolve, reject) {\n",
       "          var s = document.createElement('script');\n",
       "          document.getElementsByTagName(\"head\")[0].appendChild(s);\n",
       "          s.async = true;\n",
       "          s.onload = () => {\n",
       "            VEGA_DEBUG[key] = version;\n",
       "            return resolve(paths[lib]);\n",
       "          };\n",
       "          s.onerror = () => reject(`Error loading script: ${paths[lib]}`);\n",
       "          s.src = paths[lib];\n",
       "        });\n",
       "    }\n",
       "\n",
       "    function showError(err) {\n",
       "      outputDiv.innerHTML = `<div class=\"error\" style=\"color:red;\">${err}</div>`;\n",
       "      throw err;\n",
       "    }\n",
       "\n",
       "    function displayChart(vegaEmbed) {\n",
       "      vegaEmbed(outputDiv, spec, embedOpt)\n",
       "        .catch(err => showError(`Javascript Error: ${err.message}<br>This usually means there's a typo in your chart specification. See the javascript console for the full traceback.`));\n",
       "    }\n",
       "\n",
       "    if(typeof define === \"function\" && define.amd) {\n",
       "      requirejs.config({paths});\n",
       "      require([\"vega-embed\"], displayChart, err => showError(`Error loading script: ${err.message}`));\n",
       "    } else {\n",
       "      maybeLoadScript(\"vega\", \"5\")\n",
       "        .then(() => maybeLoadScript(\"vega-lite\", \"4.17.0\"))\n",
       "        .then(() => maybeLoadScript(\"vega-embed\", \"6\"))\n",
       "        .catch(showError)\n",
       "        .then(() => displayChart(vegaEmbed));\n",
       "    }\n",
       "  })({\"config\": {\"view\": {\"continuousWidth\": 400, \"continuousHeight\": 300}}, \"data\": {\"values\": [{\"category\": 1, \"value\": 4, \"quality\": \"standard\"}, {\"category\": 2, \"value\": 6, \"quality\": \"good\"}, {\"category\": 3, \"value\": 10, \"quality\": \"excellent\"}, {\"category\": 4, \"value\": 3, \"quality\": \"standard\"}, {\"category\": 5, \"value\": 7, \"quality\": \"good\"}, {\"category\": 6, \"value\": 8, \"quality\": \"excellent\"}]}, \"mark\": \"point\", \"encoding\": {\"x\": {\"field\": \"category\", \"type\": \"quantitative\"}, \"y\": {\"field\": \"value\", \"type\": \"quantitative\"}}, \"$schema\": \"https://vega.github.io/schema/vega-lite/v4.17.0.json\"}, {\"mode\": \"vega-lite\"});\n",
       "</script>"
      ],
      "text/plain": [
       "alt.Chart(...)"
      ]
     },
     "execution_count": 30,
     "metadata": {},
     "output_type": "execute_result"
    }
   ],
   "source": [
    "data = alt.Data(values=[\n",
    "    {\"category\": 1, \"value\": 4, \"quality\": \"standard\"},\n",
    "    {\"category\": 2, \"value\": 6, \"quality\": \"good\"},\n",
    "    {\"category\": 3, \"value\": 10, \"quality\": \"excellent\"},\n",
    "    {\"category\": 4, \"value\": 3, \"quality\": \"standard\"},\n",
    "    {\"category\": 5, \"value\": 7, \"quality\": \"good\"},\n",
    "    {\"category\": 6, \"value\": 8, \"quality\": \"excellent\"},\n",
    "])\n",
    "\n",
    "chart = alt.Chart(data)\n",
    "chart.mark_point().encode(x=\"category:Q\", y=\"value:Q\")"
   ]
  },
  {
   "cell_type": "markdown",
   "id": "06d4e847",
   "metadata": {},
   "source": [
    "Note that with Altair's `Data` object, we are using exactly the same data as before. However, data is specified row-wise in json style. The rest is the same, and the output scatter plot looks as expected again.\n",
    "\n",
    "## URL\n",
    "\n",
    "Lastly, let's try to specify data using url."
   ]
  },
  {
   "cell_type": "code",
   "execution_count": 40,
   "id": "73798572",
   "metadata": {},
   "outputs": [
    {
     "name": "stdout",
     "output_type": "stream",
     "text": [
      "https://cdn.jsdelivr.net/npm/vega-datasets@v1.29.0/data/cars.json\n"
     ]
    },
    {
     "data": {
      "text/html": [
       "\n",
       "<div id=\"altair-viz-49f99331f8b7448eb23aa5c91322f86d\"></div>\n",
       "<script type=\"text/javascript\">\n",
       "  var VEGA_DEBUG = (typeof VEGA_DEBUG == \"undefined\") ? {} : VEGA_DEBUG;\n",
       "  (function(spec, embedOpt){\n",
       "    let outputDiv = document.currentScript.previousElementSibling;\n",
       "    if (outputDiv.id !== \"altair-viz-49f99331f8b7448eb23aa5c91322f86d\") {\n",
       "      outputDiv = document.getElementById(\"altair-viz-49f99331f8b7448eb23aa5c91322f86d\");\n",
       "    }\n",
       "    const paths = {\n",
       "      \"vega\": \"https://cdn.jsdelivr.net/npm//vega@5?noext\",\n",
       "      \"vega-lib\": \"https://cdn.jsdelivr.net/npm//vega-lib?noext\",\n",
       "      \"vega-lite\": \"https://cdn.jsdelivr.net/npm//vega-lite@4.17.0?noext\",\n",
       "      \"vega-embed\": \"https://cdn.jsdelivr.net/npm//vega-embed@6?noext\",\n",
       "    };\n",
       "\n",
       "    function maybeLoadScript(lib, version) {\n",
       "      var key = `${lib.replace(\"-\", \"\")}_version`;\n",
       "      return (VEGA_DEBUG[key] == version) ?\n",
       "        Promise.resolve(paths[lib]) :\n",
       "        new Promise(function(resolve, reject) {\n",
       "          var s = document.createElement('script');\n",
       "          document.getElementsByTagName(\"head\")[0].appendChild(s);\n",
       "          s.async = true;\n",
       "          s.onload = () => {\n",
       "            VEGA_DEBUG[key] = version;\n",
       "            return resolve(paths[lib]);\n",
       "          };\n",
       "          s.onerror = () => reject(`Error loading script: ${paths[lib]}`);\n",
       "          s.src = paths[lib];\n",
       "        });\n",
       "    }\n",
       "\n",
       "    function showError(err) {\n",
       "      outputDiv.innerHTML = `<div class=\"error\" style=\"color:red;\">${err}</div>`;\n",
       "      throw err;\n",
       "    }\n",
       "\n",
       "    function displayChart(vegaEmbed) {\n",
       "      vegaEmbed(outputDiv, spec, embedOpt)\n",
       "        .catch(err => showError(`Javascript Error: ${err.message}<br>This usually means there's a typo in your chart specification. See the javascript console for the full traceback.`));\n",
       "    }\n",
       "\n",
       "    if(typeof define === \"function\" && define.amd) {\n",
       "      requirejs.config({paths});\n",
       "      require([\"vega-embed\"], displayChart, err => showError(`Error loading script: ${err.message}`));\n",
       "    } else {\n",
       "      maybeLoadScript(\"vega\", \"5\")\n",
       "        .then(() => maybeLoadScript(\"vega-lite\", \"4.17.0\"))\n",
       "        .then(() => maybeLoadScript(\"vega-embed\", \"6\"))\n",
       "        .catch(showError)\n",
       "        .then(() => displayChart(vegaEmbed));\n",
       "    }\n",
       "  })({\"config\": {\"view\": {\"continuousWidth\": 400, \"continuousHeight\": 300}}, \"data\": {\"url\": \"https://cdn.jsdelivr.net/npm/vega-datasets@v1.29.0/data/cars.json\"}, \"mark\": \"point\", \"encoding\": {\"x\": {\"field\": \"Horsepower\", \"type\": \"quantitative\"}, \"y\": {\"field\": \"Weight_in_lbs\", \"type\": \"quantitative\"}}, \"$schema\": \"https://vega.github.io/schema/vega-lite/v4.17.0.json\"}, {\"mode\": \"vega-lite\"});\n",
       "</script>"
      ],
      "text/plain": [
       "alt.Chart(...)"
      ]
     },
     "execution_count": 40,
     "metadata": {},
     "output_type": "execute_result"
    }
   ],
   "source": [
    "from vega_datasets import data\n",
    "url = data.cars.url\n",
    "print(url)\n",
    "\n",
    "chart = alt.Chart(url)\n",
    "chart.mark_point().encode(x=\"Horsepower:Q\", y=\"Weight_in_lbs:Q\")"
   ]
  },
  {
   "cell_type": "markdown",
   "id": "39b99ada",
   "metadata": {},
   "source": [
    "In this example, we will use the url that points to the cars dataset. We simply pass the url as a string to `alt.Chart`.  The output plot once again looks as expected.\n",
    "\n",
    "## Summary\n",
    "\n",
    "In Altair, data can be specified as the first argument of the constructor of the `alt.Chart` class.  Altair recognizes many different forms of data.  The most popular forms are pandas DataFrame, altair Data object and using a url."
   ]
  },
  {
   "cell_type": "code",
   "execution_count": null,
   "id": "ca45e0bb",
   "metadata": {},
   "outputs": [],
   "source": []
  }
 ],
 "metadata": {
  "kernelspec": {
   "display_name": "Python 3 (ipykernel)",
   "language": "python",
   "name": "python3"
  },
  "language_info": {
   "codemirror_mode": {
    "name": "ipython",
    "version": 3
   },
   "file_extension": ".py",
   "mimetype": "text/x-python",
   "name": "python",
   "nbconvert_exporter": "python",
   "pygments_lexer": "ipython3",
   "version": "3.10.9"
  }
 },
 "nbformat": 4,
 "nbformat_minor": 5
}
