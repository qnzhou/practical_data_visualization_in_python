{
 "cells": [
  {
   "cell_type": "markdown",
   "id": "d9709fef",
   "metadata": {},
   "source": [
    "# Altair Intro: Scale\n",
    "\n",
    "In this session, we will take a closer look at the scale concept in Altair.  Scale controls _how_ data is mapped to the various visual channels specified by encoding. In Altair, we can specify scale along with each encoding specification. Let's start with a simple example."
   ]
  },
  {
   "cell_type": "code",
   "execution_count": 1,
   "id": "c740efe2",
   "metadata": {},
   "outputs": [
    {
     "data": {
      "text/html": [
       "<div>\n",
       "<style scoped>\n",
       "    .dataframe tbody tr th:only-of-type {\n",
       "        vertical-align: middle;\n",
       "    }\n",
       "\n",
       "    .dataframe tbody tr th {\n",
       "        vertical-align: top;\n",
       "    }\n",
       "\n",
       "    .dataframe thead th {\n",
       "        text-align: right;\n",
       "    }\n",
       "</style>\n",
       "<table border=\"1\" class=\"dataframe\">\n",
       "  <thead>\n",
       "    <tr style=\"text-align: right;\">\n",
       "      <th></th>\n",
       "      <th>category</th>\n",
       "      <th>value</th>\n",
       "      <th>quality</th>\n",
       "    </tr>\n",
       "  </thead>\n",
       "  <tbody>\n",
       "    <tr>\n",
       "      <th>0</th>\n",
       "      <td>1</td>\n",
       "      <td>4</td>\n",
       "      <td>standard</td>\n",
       "    </tr>\n",
       "    <tr>\n",
       "      <th>1</th>\n",
       "      <td>2</td>\n",
       "      <td>6</td>\n",
       "      <td>good</td>\n",
       "    </tr>\n",
       "    <tr>\n",
       "      <th>2</th>\n",
       "      <td>3</td>\n",
       "      <td>10</td>\n",
       "      <td>excellent</td>\n",
       "    </tr>\n",
       "    <tr>\n",
       "      <th>3</th>\n",
       "      <td>4</td>\n",
       "      <td>3</td>\n",
       "      <td>standard</td>\n",
       "    </tr>\n",
       "    <tr>\n",
       "      <th>4</th>\n",
       "      <td>5</td>\n",
       "      <td>7</td>\n",
       "      <td>good</td>\n",
       "    </tr>\n",
       "    <tr>\n",
       "      <th>5</th>\n",
       "      <td>6</td>\n",
       "      <td>8</td>\n",
       "      <td>excellent</td>\n",
       "    </tr>\n",
       "  </tbody>\n",
       "</table>\n",
       "</div>"
      ],
      "text/plain": [
       "   category  value    quality\n",
       "0         1      4   standard\n",
       "1         2      6       good\n",
       "2         3     10  excellent\n",
       "3         4      3   standard\n",
       "4         5      7       good\n",
       "5         6      8  excellent"
      ]
     },
     "execution_count": 1,
     "metadata": {},
     "output_type": "execute_result"
    }
   ],
   "source": [
    "import altair as alt\n",
    "import pandas as pd\n",
    "\n",
    "source = pd.DataFrame({\"category\": [1, 2, 3, 4, 5, 6], \"value\": [4, 6, 10, 3, 7, 8],\n",
    "                       \"quality\": [\"standard\", \"good\", \"excellent\", \"standard\", \"good\", \"excellent\"]})\n",
    "source"
   ]
  },
  {
   "cell_type": "markdown",
   "id": "a59b9483",
   "metadata": {},
   "source": [
    "In this toy dataset, we again have 3 columns: category, value and quality.  Let's create a simple scatter plot first, where we want to encode \"category\" as the x coordinate and \"value\" as the y coordinate."
   ]
  },
  {
   "cell_type": "code",
   "execution_count": 2,
   "id": "00f7dfa2",
   "metadata": {},
   "outputs": [
    {
     "data": {
      "text/html": [
       "\n",
       "<div id=\"altair-viz-6472509faa7d4181912ac313d2d88018\"></div>\n",
       "<script type=\"text/javascript\">\n",
       "  var VEGA_DEBUG = (typeof VEGA_DEBUG == \"undefined\") ? {} : VEGA_DEBUG;\n",
       "  (function(spec, embedOpt){\n",
       "    let outputDiv = document.currentScript.previousElementSibling;\n",
       "    if (outputDiv.id !== \"altair-viz-6472509faa7d4181912ac313d2d88018\") {\n",
       "      outputDiv = document.getElementById(\"altair-viz-6472509faa7d4181912ac313d2d88018\");\n",
       "    }\n",
       "    const paths = {\n",
       "      \"vega\": \"https://cdn.jsdelivr.net/npm//vega@5?noext\",\n",
       "      \"vega-lib\": \"https://cdn.jsdelivr.net/npm//vega-lib?noext\",\n",
       "      \"vega-lite\": \"https://cdn.jsdelivr.net/npm//vega-lite@4.17.0?noext\",\n",
       "      \"vega-embed\": \"https://cdn.jsdelivr.net/npm//vega-embed@6?noext\",\n",
       "    };\n",
       "\n",
       "    function maybeLoadScript(lib, version) {\n",
       "      var key = `${lib.replace(\"-\", \"\")}_version`;\n",
       "      return (VEGA_DEBUG[key] == version) ?\n",
       "        Promise.resolve(paths[lib]) :\n",
       "        new Promise(function(resolve, reject) {\n",
       "          var s = document.createElement('script');\n",
       "          document.getElementsByTagName(\"head\")[0].appendChild(s);\n",
       "          s.async = true;\n",
       "          s.onload = () => {\n",
       "            VEGA_DEBUG[key] = version;\n",
       "            return resolve(paths[lib]);\n",
       "          };\n",
       "          s.onerror = () => reject(`Error loading script: ${paths[lib]}`);\n",
       "          s.src = paths[lib];\n",
       "        });\n",
       "    }\n",
       "\n",
       "    function showError(err) {\n",
       "      outputDiv.innerHTML = `<div class=\"error\" style=\"color:red;\">${err}</div>`;\n",
       "      throw err;\n",
       "    }\n",
       "\n",
       "    function displayChart(vegaEmbed) {\n",
       "      vegaEmbed(outputDiv, spec, embedOpt)\n",
       "        .catch(err => showError(`Javascript Error: ${err.message}<br>This usually means there's a typo in your chart specification. See the javascript console for the full traceback.`));\n",
       "    }\n",
       "\n",
       "    if(typeof define === \"function\" && define.amd) {\n",
       "      requirejs.config({paths});\n",
       "      require([\"vega-embed\"], displayChart, err => showError(`Error loading script: ${err.message}`));\n",
       "    } else {\n",
       "      maybeLoadScript(\"vega\", \"5\")\n",
       "        .then(() => maybeLoadScript(\"vega-lite\", \"4.17.0\"))\n",
       "        .then(() => maybeLoadScript(\"vega-embed\", \"6\"))\n",
       "        .catch(showError)\n",
       "        .then(() => displayChart(vegaEmbed));\n",
       "    }\n",
       "  })({\"config\": {\"view\": {\"continuousWidth\": 400, \"continuousHeight\": 300}}, \"data\": {\"name\": \"data-7c36766bdbdd929d88ac2881c2000dcf\"}, \"mark\": {\"type\": \"point\", \"filled\": true, \"size\": 400}, \"encoding\": {\"x\": {\"field\": \"category\", \"type\": \"quantitative\"}, \"y\": {\"field\": \"value\", \"type\": \"quantitative\"}}, \"$schema\": \"https://vega.github.io/schema/vega-lite/v4.17.0.json\", \"datasets\": {\"data-7c36766bdbdd929d88ac2881c2000dcf\": [{\"category\": 1, \"value\": 4, \"quality\": \"standard\"}, {\"category\": 2, \"value\": 6, \"quality\": \"good\"}, {\"category\": 3, \"value\": 10, \"quality\": \"excellent\"}, {\"category\": 4, \"value\": 3, \"quality\": \"standard\"}, {\"category\": 5, \"value\": 7, \"quality\": \"good\"}, {\"category\": 6, \"value\": 8, \"quality\": \"excellent\"}]}}, {\"mode\": \"vega-lite\"});\n",
       "</script>"
      ],
      "text/plain": [
       "alt.Chart(...)"
      ]
     },
     "execution_count": 2,
     "metadata": {},
     "output_type": "execute_result"
    }
   ],
   "source": [
    "base = alt.Chart(source).mark_point(size=400, filled=True)\\\n",
    "                        .encode(x=\"category\", y=\"value\")\n",
    "base"
   ]
  },
  {
   "cell_type": "markdown",
   "id": "233b529f",
   "metadata": {},
   "source": [
    "## Default scale\n",
    "\n",
    "This is simple enough. The keyword arguments for `.encode` method, such as `x=\"category\"`, are actually shorthands.  The full form is `x=alt.X(\"category\")`, where the class `alt.X` is an example of channel schema. Each channel has its own schema class.  See a full list of channel schemas [here](https://altair-viz.github.io/user_guide/encodings/channels.html). Scale can be specified as part of the channel schema."
   ]
  },
  {
   "cell_type": "code",
   "execution_count": 3,
   "id": "8236c928",
   "metadata": {},
   "outputs": [
    {
     "data": {
      "text/html": [
       "\n",
       "<div id=\"altair-viz-d4383d7ca11942828583ff43cf6305ca\"></div>\n",
       "<script type=\"text/javascript\">\n",
       "  var VEGA_DEBUG = (typeof VEGA_DEBUG == \"undefined\") ? {} : VEGA_DEBUG;\n",
       "  (function(spec, embedOpt){\n",
       "    let outputDiv = document.currentScript.previousElementSibling;\n",
       "    if (outputDiv.id !== \"altair-viz-d4383d7ca11942828583ff43cf6305ca\") {\n",
       "      outputDiv = document.getElementById(\"altair-viz-d4383d7ca11942828583ff43cf6305ca\");\n",
       "    }\n",
       "    const paths = {\n",
       "      \"vega\": \"https://cdn.jsdelivr.net/npm//vega@5?noext\",\n",
       "      \"vega-lib\": \"https://cdn.jsdelivr.net/npm//vega-lib?noext\",\n",
       "      \"vega-lite\": \"https://cdn.jsdelivr.net/npm//vega-lite@4.17.0?noext\",\n",
       "      \"vega-embed\": \"https://cdn.jsdelivr.net/npm//vega-embed@6?noext\",\n",
       "    };\n",
       "\n",
       "    function maybeLoadScript(lib, version) {\n",
       "      var key = `${lib.replace(\"-\", \"\")}_version`;\n",
       "      return (VEGA_DEBUG[key] == version) ?\n",
       "        Promise.resolve(paths[lib]) :\n",
       "        new Promise(function(resolve, reject) {\n",
       "          var s = document.createElement('script');\n",
       "          document.getElementsByTagName(\"head\")[0].appendChild(s);\n",
       "          s.async = true;\n",
       "          s.onload = () => {\n",
       "            VEGA_DEBUG[key] = version;\n",
       "            return resolve(paths[lib]);\n",
       "          };\n",
       "          s.onerror = () => reject(`Error loading script: ${paths[lib]}`);\n",
       "          s.src = paths[lib];\n",
       "        });\n",
       "    }\n",
       "\n",
       "    function showError(err) {\n",
       "      outputDiv.innerHTML = `<div class=\"error\" style=\"color:red;\">${err}</div>`;\n",
       "      throw err;\n",
       "    }\n",
       "\n",
       "    function displayChart(vegaEmbed) {\n",
       "      vegaEmbed(outputDiv, spec, embedOpt)\n",
       "        .catch(err => showError(`Javascript Error: ${err.message}<br>This usually means there's a typo in your chart specification. See the javascript console for the full traceback.`));\n",
       "    }\n",
       "\n",
       "    if(typeof define === \"function\" && define.amd) {\n",
       "      requirejs.config({paths});\n",
       "      require([\"vega-embed\"], displayChart, err => showError(`Error loading script: ${err.message}`));\n",
       "    } else {\n",
       "      maybeLoadScript(\"vega\", \"5\")\n",
       "        .then(() => maybeLoadScript(\"vega-lite\", \"4.17.0\"))\n",
       "        .then(() => maybeLoadScript(\"vega-embed\", \"6\"))\n",
       "        .catch(showError)\n",
       "        .then(() => displayChart(vegaEmbed));\n",
       "    }\n",
       "  })({\"config\": {\"view\": {\"continuousWidth\": 400, \"continuousHeight\": 300}}, \"data\": {\"name\": \"data-7c36766bdbdd929d88ac2881c2000dcf\"}, \"mark\": {\"type\": \"point\", \"filled\": true, \"size\": 400}, \"encoding\": {\"x\": {\"field\": \"category\", \"scale\": {}, \"type\": \"quantitative\"}, \"y\": {\"field\": \"value\", \"scale\": {}, \"type\": \"quantitative\"}}, \"$schema\": \"https://vega.github.io/schema/vega-lite/v4.17.0.json\", \"datasets\": {\"data-7c36766bdbdd929d88ac2881c2000dcf\": [{\"category\": 1, \"value\": 4, \"quality\": \"standard\"}, {\"category\": 2, \"value\": 6, \"quality\": \"good\"}, {\"category\": 3, \"value\": 10, \"quality\": \"excellent\"}, {\"category\": 4, \"value\": 3, \"quality\": \"standard\"}, {\"category\": 5, \"value\": 7, \"quality\": \"good\"}, {\"category\": 6, \"value\": 8, \"quality\": \"excellent\"}]}}, {\"mode\": \"vega-lite\"});\n",
       "</script>"
      ],
      "text/plain": [
       "alt.Chart(...)"
      ]
     },
     "execution_count": 3,
     "metadata": {},
     "output_type": "execute_result"
    }
   ],
   "source": [
    "default_scale = base.encode(x=alt.X(\"category\", scale=alt.Scale()), \n",
    "                            y=alt.Y(\"value\", scale=alt.Scale()))\n",
    "default_scale"
   ]
  },
  {
   "cell_type": "markdown",
   "id": "69b3aacc",
   "metadata": {},
   "source": [
    "In the example above, we have specified a scale for each of the X and Y channels. Because the scales we specified are just the default scale, the resulting plot looks exactly the same as before.  Let's try to change some scale settings next.\n",
    "\n",
    "## Scale: zero"
   ]
  },
  {
   "cell_type": "code",
   "execution_count": 4,
   "id": "9eea18b1",
   "metadata": {},
   "outputs": [
    {
     "data": {
      "text/html": [
       "\n",
       "<div id=\"altair-viz-44248d68c3ba435dbf19aed4d1ed4eda\"></div>\n",
       "<script type=\"text/javascript\">\n",
       "  var VEGA_DEBUG = (typeof VEGA_DEBUG == \"undefined\") ? {} : VEGA_DEBUG;\n",
       "  (function(spec, embedOpt){\n",
       "    let outputDiv = document.currentScript.previousElementSibling;\n",
       "    if (outputDiv.id !== \"altair-viz-44248d68c3ba435dbf19aed4d1ed4eda\") {\n",
       "      outputDiv = document.getElementById(\"altair-viz-44248d68c3ba435dbf19aed4d1ed4eda\");\n",
       "    }\n",
       "    const paths = {\n",
       "      \"vega\": \"https://cdn.jsdelivr.net/npm//vega@5?noext\",\n",
       "      \"vega-lib\": \"https://cdn.jsdelivr.net/npm//vega-lib?noext\",\n",
       "      \"vega-lite\": \"https://cdn.jsdelivr.net/npm//vega-lite@4.17.0?noext\",\n",
       "      \"vega-embed\": \"https://cdn.jsdelivr.net/npm//vega-embed@6?noext\",\n",
       "    };\n",
       "\n",
       "    function maybeLoadScript(lib, version) {\n",
       "      var key = `${lib.replace(\"-\", \"\")}_version`;\n",
       "      return (VEGA_DEBUG[key] == version) ?\n",
       "        Promise.resolve(paths[lib]) :\n",
       "        new Promise(function(resolve, reject) {\n",
       "          var s = document.createElement('script');\n",
       "          document.getElementsByTagName(\"head\")[0].appendChild(s);\n",
       "          s.async = true;\n",
       "          s.onload = () => {\n",
       "            VEGA_DEBUG[key] = version;\n",
       "            return resolve(paths[lib]);\n",
       "          };\n",
       "          s.onerror = () => reject(`Error loading script: ${paths[lib]}`);\n",
       "          s.src = paths[lib];\n",
       "        });\n",
       "    }\n",
       "\n",
       "    function showError(err) {\n",
       "      outputDiv.innerHTML = `<div class=\"error\" style=\"color:red;\">${err}</div>`;\n",
       "      throw err;\n",
       "    }\n",
       "\n",
       "    function displayChart(vegaEmbed) {\n",
       "      vegaEmbed(outputDiv, spec, embedOpt)\n",
       "        .catch(err => showError(`Javascript Error: ${err.message}<br>This usually means there's a typo in your chart specification. See the javascript console for the full traceback.`));\n",
       "    }\n",
       "\n",
       "    if(typeof define === \"function\" && define.amd) {\n",
       "      requirejs.config({paths});\n",
       "      require([\"vega-embed\"], displayChart, err => showError(`Error loading script: ${err.message}`));\n",
       "    } else {\n",
       "      maybeLoadScript(\"vega\", \"5\")\n",
       "        .then(() => maybeLoadScript(\"vega-lite\", \"4.17.0\"))\n",
       "        .then(() => maybeLoadScript(\"vega-embed\", \"6\"))\n",
       "        .catch(showError)\n",
       "        .then(() => displayChart(vegaEmbed));\n",
       "    }\n",
       "  })({\"config\": {\"view\": {\"continuousWidth\": 400, \"continuousHeight\": 300}}, \"data\": {\"name\": \"data-7c36766bdbdd929d88ac2881c2000dcf\"}, \"mark\": {\"type\": \"point\", \"filled\": true, \"size\": 400}, \"encoding\": {\"x\": {\"field\": \"category\", \"scale\": {\"zero\": false}, \"type\": \"quantitative\"}, \"y\": {\"field\": \"value\", \"scale\": {\"zero\": false}, \"type\": \"quantitative\"}}, \"$schema\": \"https://vega.github.io/schema/vega-lite/v4.17.0.json\", \"datasets\": {\"data-7c36766bdbdd929d88ac2881c2000dcf\": [{\"category\": 1, \"value\": 4, \"quality\": \"standard\"}, {\"category\": 2, \"value\": 6, \"quality\": \"good\"}, {\"category\": 3, \"value\": 10, \"quality\": \"excellent\"}, {\"category\": 4, \"value\": 3, \"quality\": \"standard\"}, {\"category\": 5, \"value\": 7, \"quality\": \"good\"}, {\"category\": 6, \"value\": 8, \"quality\": \"excellent\"}]}}, {\"mode\": \"vega-lite\"});\n",
       "</script>"
      ],
      "text/plain": [
       "alt.Chart(...)"
      ]
     },
     "execution_count": 4,
     "metadata": {},
     "output_type": "execute_result"
    }
   ],
   "source": [
    "no_zero = base.encode(x=alt.X(\"category\", scale=alt.Scale(zero=False)), \n",
    "                      y=alt.Y(\"value\", scale=alt.Scale(zero=False)))\n",
    "no_zero"
   ]
  },
  {
   "cell_type": "markdown",
   "id": "ddbf7140",
   "metadata": {},
   "source": [
    "In the example above, we change the scale to have `zero` set to `False`.  The `zero` scale setting determines whether to include the value zero in the plot.  Because `zero` is `False`, x axis now starts from 1.0 (the minimum of \"category column\") and y axis now starts from 3 (the minimum of \"value\" column).\n",
    "\n",
    "## Scale: type\n",
    "\n",
    "So far, we have being using linear scale. It is common in visualization to use log scale.  This can be done with the `type` scale setting."
   ]
  },
  {
   "cell_type": "code",
   "execution_count": 5,
   "id": "8cf4e6d4",
   "metadata": {},
   "outputs": [
    {
     "data": {
      "text/html": [
       "\n",
       "<div id=\"altair-viz-9d7319c09a394f6f97886a63b5842221\"></div>\n",
       "<script type=\"text/javascript\">\n",
       "  var VEGA_DEBUG = (typeof VEGA_DEBUG == \"undefined\") ? {} : VEGA_DEBUG;\n",
       "  (function(spec, embedOpt){\n",
       "    let outputDiv = document.currentScript.previousElementSibling;\n",
       "    if (outputDiv.id !== \"altair-viz-9d7319c09a394f6f97886a63b5842221\") {\n",
       "      outputDiv = document.getElementById(\"altair-viz-9d7319c09a394f6f97886a63b5842221\");\n",
       "    }\n",
       "    const paths = {\n",
       "      \"vega\": \"https://cdn.jsdelivr.net/npm//vega@5?noext\",\n",
       "      \"vega-lib\": \"https://cdn.jsdelivr.net/npm//vega-lib?noext\",\n",
       "      \"vega-lite\": \"https://cdn.jsdelivr.net/npm//vega-lite@4.17.0?noext\",\n",
       "      \"vega-embed\": \"https://cdn.jsdelivr.net/npm//vega-embed@6?noext\",\n",
       "    };\n",
       "\n",
       "    function maybeLoadScript(lib, version) {\n",
       "      var key = `${lib.replace(\"-\", \"\")}_version`;\n",
       "      return (VEGA_DEBUG[key] == version) ?\n",
       "        Promise.resolve(paths[lib]) :\n",
       "        new Promise(function(resolve, reject) {\n",
       "          var s = document.createElement('script');\n",
       "          document.getElementsByTagName(\"head\")[0].appendChild(s);\n",
       "          s.async = true;\n",
       "          s.onload = () => {\n",
       "            VEGA_DEBUG[key] = version;\n",
       "            return resolve(paths[lib]);\n",
       "          };\n",
       "          s.onerror = () => reject(`Error loading script: ${paths[lib]}`);\n",
       "          s.src = paths[lib];\n",
       "        });\n",
       "    }\n",
       "\n",
       "    function showError(err) {\n",
       "      outputDiv.innerHTML = `<div class=\"error\" style=\"color:red;\">${err}</div>`;\n",
       "      throw err;\n",
       "    }\n",
       "\n",
       "    function displayChart(vegaEmbed) {\n",
       "      vegaEmbed(outputDiv, spec, embedOpt)\n",
       "        .catch(err => showError(`Javascript Error: ${err.message}<br>This usually means there's a typo in your chart specification. See the javascript console for the full traceback.`));\n",
       "    }\n",
       "\n",
       "    if(typeof define === \"function\" && define.amd) {\n",
       "      requirejs.config({paths});\n",
       "      require([\"vega-embed\"], displayChart, err => showError(`Error loading script: ${err.message}`));\n",
       "    } else {\n",
       "      maybeLoadScript(\"vega\", \"5\")\n",
       "        .then(() => maybeLoadScript(\"vega-lite\", \"4.17.0\"))\n",
       "        .then(() => maybeLoadScript(\"vega-embed\", \"6\"))\n",
       "        .catch(showError)\n",
       "        .then(() => displayChart(vegaEmbed));\n",
       "    }\n",
       "  })({\"config\": {\"view\": {\"continuousWidth\": 400, \"continuousHeight\": 300}}, \"data\": {\"name\": \"data-7c36766bdbdd929d88ac2881c2000dcf\"}, \"mark\": {\"type\": \"point\", \"filled\": true, \"size\": 400}, \"encoding\": {\"x\": {\"field\": \"category\", \"type\": \"quantitative\"}, \"y\": {\"field\": \"value\", \"scale\": {\"type\": \"log\"}, \"type\": \"quantitative\"}}, \"$schema\": \"https://vega.github.io/schema/vega-lite/v4.17.0.json\", \"datasets\": {\"data-7c36766bdbdd929d88ac2881c2000dcf\": [{\"category\": 1, \"value\": 4, \"quality\": \"standard\"}, {\"category\": 2, \"value\": 6, \"quality\": \"good\"}, {\"category\": 3, \"value\": 10, \"quality\": \"excellent\"}, {\"category\": 4, \"value\": 3, \"quality\": \"standard\"}, {\"category\": 5, \"value\": 7, \"quality\": \"good\"}, {\"category\": 6, \"value\": 8, \"quality\": \"excellent\"}]}}, {\"mode\": \"vega-lite\"});\n",
       "</script>"
      ],
      "text/plain": [
       "alt.Chart(...)"
      ]
     },
     "execution_count": 5,
     "metadata": {},
     "output_type": "execute_result"
    }
   ],
   "source": [
    "log_scale = base.encode(\n",
    "    x=alt.X(\"category\"),\n",
    "    y=alt.Y(\"value\", scale=alt.Scale(type=\"log\")))\n",
    "log_scale"
   ]
  },
  {
   "cell_type": "markdown",
   "id": "160a85d1",
   "metadata": {},
   "source": [
    "In the example above, the y axis is now using log scale. Altair supports many common scales include \"linear\", \"log\", \"pow\", \"sqrt\", etc.  See a list of supported [continuous scales](https://vega.github.io/vega-lite/docs/scale.html#continuous-scales), [discrete scales](https://vega.github.io/vega-lite/docs/scale.html#discrete) and [discretizing scales](https://vega.github.io/vega-lite/docs/scale.html#discretizing) for more information. Let's quickly try the power scale."
   ]
  },
  {
   "cell_type": "code",
   "execution_count": 6,
   "id": "00df282f",
   "metadata": {},
   "outputs": [
    {
     "data": {
      "text/html": [
       "\n",
       "<div id=\"altair-viz-9ff0c29f129f430295da97f2ed461380\"></div>\n",
       "<script type=\"text/javascript\">\n",
       "  var VEGA_DEBUG = (typeof VEGA_DEBUG == \"undefined\") ? {} : VEGA_DEBUG;\n",
       "  (function(spec, embedOpt){\n",
       "    let outputDiv = document.currentScript.previousElementSibling;\n",
       "    if (outputDiv.id !== \"altair-viz-9ff0c29f129f430295da97f2ed461380\") {\n",
       "      outputDiv = document.getElementById(\"altair-viz-9ff0c29f129f430295da97f2ed461380\");\n",
       "    }\n",
       "    const paths = {\n",
       "      \"vega\": \"https://cdn.jsdelivr.net/npm//vega@5?noext\",\n",
       "      \"vega-lib\": \"https://cdn.jsdelivr.net/npm//vega-lib?noext\",\n",
       "      \"vega-lite\": \"https://cdn.jsdelivr.net/npm//vega-lite@4.17.0?noext\",\n",
       "      \"vega-embed\": \"https://cdn.jsdelivr.net/npm//vega-embed@6?noext\",\n",
       "    };\n",
       "\n",
       "    function maybeLoadScript(lib, version) {\n",
       "      var key = `${lib.replace(\"-\", \"\")}_version`;\n",
       "      return (VEGA_DEBUG[key] == version) ?\n",
       "        Promise.resolve(paths[lib]) :\n",
       "        new Promise(function(resolve, reject) {\n",
       "          var s = document.createElement('script');\n",
       "          document.getElementsByTagName(\"head\")[0].appendChild(s);\n",
       "          s.async = true;\n",
       "          s.onload = () => {\n",
       "            VEGA_DEBUG[key] = version;\n",
       "            return resolve(paths[lib]);\n",
       "          };\n",
       "          s.onerror = () => reject(`Error loading script: ${paths[lib]}`);\n",
       "          s.src = paths[lib];\n",
       "        });\n",
       "    }\n",
       "\n",
       "    function showError(err) {\n",
       "      outputDiv.innerHTML = `<div class=\"error\" style=\"color:red;\">${err}</div>`;\n",
       "      throw err;\n",
       "    }\n",
       "\n",
       "    function displayChart(vegaEmbed) {\n",
       "      vegaEmbed(outputDiv, spec, embedOpt)\n",
       "        .catch(err => showError(`Javascript Error: ${err.message}<br>This usually means there's a typo in your chart specification. See the javascript console for the full traceback.`));\n",
       "    }\n",
       "\n",
       "    if(typeof define === \"function\" && define.amd) {\n",
       "      requirejs.config({paths});\n",
       "      require([\"vega-embed\"], displayChart, err => showError(`Error loading script: ${err.message}`));\n",
       "    } else {\n",
       "      maybeLoadScript(\"vega\", \"5\")\n",
       "        .then(() => maybeLoadScript(\"vega-lite\", \"4.17.0\"))\n",
       "        .then(() => maybeLoadScript(\"vega-embed\", \"6\"))\n",
       "        .catch(showError)\n",
       "        .then(() => displayChart(vegaEmbed));\n",
       "    }\n",
       "  })({\"config\": {\"view\": {\"continuousWidth\": 400, \"continuousHeight\": 300}}, \"data\": {\"name\": \"data-7c36766bdbdd929d88ac2881c2000dcf\"}, \"mark\": {\"type\": \"point\", \"filled\": true, \"size\": 400}, \"encoding\": {\"x\": {\"field\": \"category\", \"type\": \"quantitative\"}, \"y\": {\"field\": \"value\", \"scale\": {\"exponent\": 2, \"type\": \"pow\"}, \"type\": \"quantitative\"}}, \"$schema\": \"https://vega.github.io/schema/vega-lite/v4.17.0.json\", \"datasets\": {\"data-7c36766bdbdd929d88ac2881c2000dcf\": [{\"category\": 1, \"value\": 4, \"quality\": \"standard\"}, {\"category\": 2, \"value\": 6, \"quality\": \"good\"}, {\"category\": 3, \"value\": 10, \"quality\": \"excellent\"}, {\"category\": 4, \"value\": 3, \"quality\": \"standard\"}, {\"category\": 5, \"value\": 7, \"quality\": \"good\"}, {\"category\": 6, \"value\": 8, \"quality\": \"excellent\"}]}}, {\"mode\": \"vega-lite\"});\n",
       "</script>"
      ],
      "text/plain": [
       "alt.Chart(...)"
      ]
     },
     "execution_count": 6,
     "metadata": {},
     "output_type": "execute_result"
    }
   ],
   "source": [
    "square_scale = base.encode(\n",
    "    x=alt.X(\"category\"), \n",
    "    y=alt.Y(\"value\", scale=alt.Scale(type=\"pow\", exponent=2)))\n",
    "square_scale"
   ]
  },
  {
   "cell_type": "markdown",
   "id": "8d2ea8ca",
   "metadata": {},
   "source": [
    "By setting the `exponent` to 2, we are effectively using the squared y scaling as shown above.\n",
    "\n",
    "## Scale: domain\n",
    "\n",
    "We have already seen that we can adjust the domain of the scale a bit using the `zero` setting.  We can also just set the domain directly by using the `domain` scale setting."
   ]
  },
  {
   "cell_type": "code",
   "execution_count": 7,
   "id": "188ddb20",
   "metadata": {},
   "outputs": [
    {
     "data": {
      "text/html": [
       "\n",
       "<div id=\"altair-viz-10b12d54532b4940abc8f976368a427c\"></div>\n",
       "<script type=\"text/javascript\">\n",
       "  var VEGA_DEBUG = (typeof VEGA_DEBUG == \"undefined\") ? {} : VEGA_DEBUG;\n",
       "  (function(spec, embedOpt){\n",
       "    let outputDiv = document.currentScript.previousElementSibling;\n",
       "    if (outputDiv.id !== \"altair-viz-10b12d54532b4940abc8f976368a427c\") {\n",
       "      outputDiv = document.getElementById(\"altair-viz-10b12d54532b4940abc8f976368a427c\");\n",
       "    }\n",
       "    const paths = {\n",
       "      \"vega\": \"https://cdn.jsdelivr.net/npm//vega@5?noext\",\n",
       "      \"vega-lib\": \"https://cdn.jsdelivr.net/npm//vega-lib?noext\",\n",
       "      \"vega-lite\": \"https://cdn.jsdelivr.net/npm//vega-lite@4.17.0?noext\",\n",
       "      \"vega-embed\": \"https://cdn.jsdelivr.net/npm//vega-embed@6?noext\",\n",
       "    };\n",
       "\n",
       "    function maybeLoadScript(lib, version) {\n",
       "      var key = `${lib.replace(\"-\", \"\")}_version`;\n",
       "      return (VEGA_DEBUG[key] == version) ?\n",
       "        Promise.resolve(paths[lib]) :\n",
       "        new Promise(function(resolve, reject) {\n",
       "          var s = document.createElement('script');\n",
       "          document.getElementsByTagName(\"head\")[0].appendChild(s);\n",
       "          s.async = true;\n",
       "          s.onload = () => {\n",
       "            VEGA_DEBUG[key] = version;\n",
       "            return resolve(paths[lib]);\n",
       "          };\n",
       "          s.onerror = () => reject(`Error loading script: ${paths[lib]}`);\n",
       "          s.src = paths[lib];\n",
       "        });\n",
       "    }\n",
       "\n",
       "    function showError(err) {\n",
       "      outputDiv.innerHTML = `<div class=\"error\" style=\"color:red;\">${err}</div>`;\n",
       "      throw err;\n",
       "    }\n",
       "\n",
       "    function displayChart(vegaEmbed) {\n",
       "      vegaEmbed(outputDiv, spec, embedOpt)\n",
       "        .catch(err => showError(`Javascript Error: ${err.message}<br>This usually means there's a typo in your chart specification. See the javascript console for the full traceback.`));\n",
       "    }\n",
       "\n",
       "    if(typeof define === \"function\" && define.amd) {\n",
       "      requirejs.config({paths});\n",
       "      require([\"vega-embed\"], displayChart, err => showError(`Error loading script: ${err.message}`));\n",
       "    } else {\n",
       "      maybeLoadScript(\"vega\", \"5\")\n",
       "        .then(() => maybeLoadScript(\"vega-lite\", \"4.17.0\"))\n",
       "        .then(() => maybeLoadScript(\"vega-embed\", \"6\"))\n",
       "        .catch(showError)\n",
       "        .then(() => displayChart(vegaEmbed));\n",
       "    }\n",
       "  })({\"config\": {\"view\": {\"continuousWidth\": 400, \"continuousHeight\": 300}}, \"data\": {\"name\": \"data-7c36766bdbdd929d88ac2881c2000dcf\"}, \"mark\": {\"type\": \"point\", \"filled\": true, \"size\": 400}, \"encoding\": {\"x\": {\"field\": \"category\", \"scale\": {\"domain\": [0, 10]}, \"type\": \"quantitative\"}, \"y\": {\"field\": \"value\", \"scale\": {\"domain\": [2, 11]}, \"type\": \"quantitative\"}}, \"$schema\": \"https://vega.github.io/schema/vega-lite/v4.17.0.json\", \"datasets\": {\"data-7c36766bdbdd929d88ac2881c2000dcf\": [{\"category\": 1, \"value\": 4, \"quality\": \"standard\"}, {\"category\": 2, \"value\": 6, \"quality\": \"good\"}, {\"category\": 3, \"value\": 10, \"quality\": \"excellent\"}, {\"category\": 4, \"value\": 3, \"quality\": \"standard\"}, {\"category\": 5, \"value\": 7, \"quality\": \"good\"}, {\"category\": 6, \"value\": 8, \"quality\": \"excellent\"}]}}, {\"mode\": \"vega-lite\"});\n",
       "</script>"
      ],
      "text/plain": [
       "alt.Chart(...)"
      ]
     },
     "execution_count": 7,
     "metadata": {},
     "output_type": "execute_result"
    }
   ],
   "source": [
    "domain_scale = base.encode(\n",
    "    x=alt.X(\"category\", scale=alt.Scale(domain=[0, 10])),\n",
    "    y=alt.Y(\"value\", scale=alt.Scale(domain=[2, 11])))\n",
    "domain_scale"
   ]
  },
  {
   "cell_type": "markdown",
   "id": "c4bcbc5b",
   "metadata": {},
   "source": [
    "## Scale: reverse\n",
    "\n",
    "Sometimes it is useful to revert the direction of the scale.  For example, instead of having y value increases from bottom to top, we may want to have y value decreases from bottom to top.  This can be done by setting `reverse` to `True`."
   ]
  },
  {
   "cell_type": "code",
   "execution_count": 8,
   "id": "0938824b",
   "metadata": {},
   "outputs": [
    {
     "data": {
      "text/html": [
       "\n",
       "<div id=\"altair-viz-8567a149aa8a456482d10fe048898b3f\"></div>\n",
       "<script type=\"text/javascript\">\n",
       "  var VEGA_DEBUG = (typeof VEGA_DEBUG == \"undefined\") ? {} : VEGA_DEBUG;\n",
       "  (function(spec, embedOpt){\n",
       "    let outputDiv = document.currentScript.previousElementSibling;\n",
       "    if (outputDiv.id !== \"altair-viz-8567a149aa8a456482d10fe048898b3f\") {\n",
       "      outputDiv = document.getElementById(\"altair-viz-8567a149aa8a456482d10fe048898b3f\");\n",
       "    }\n",
       "    const paths = {\n",
       "      \"vega\": \"https://cdn.jsdelivr.net/npm//vega@5?noext\",\n",
       "      \"vega-lib\": \"https://cdn.jsdelivr.net/npm//vega-lib?noext\",\n",
       "      \"vega-lite\": \"https://cdn.jsdelivr.net/npm//vega-lite@4.17.0?noext\",\n",
       "      \"vega-embed\": \"https://cdn.jsdelivr.net/npm//vega-embed@6?noext\",\n",
       "    };\n",
       "\n",
       "    function maybeLoadScript(lib, version) {\n",
       "      var key = `${lib.replace(\"-\", \"\")}_version`;\n",
       "      return (VEGA_DEBUG[key] == version) ?\n",
       "        Promise.resolve(paths[lib]) :\n",
       "        new Promise(function(resolve, reject) {\n",
       "          var s = document.createElement('script');\n",
       "          document.getElementsByTagName(\"head\")[0].appendChild(s);\n",
       "          s.async = true;\n",
       "          s.onload = () => {\n",
       "            VEGA_DEBUG[key] = version;\n",
       "            return resolve(paths[lib]);\n",
       "          };\n",
       "          s.onerror = () => reject(`Error loading script: ${paths[lib]}`);\n",
       "          s.src = paths[lib];\n",
       "        });\n",
       "    }\n",
       "\n",
       "    function showError(err) {\n",
       "      outputDiv.innerHTML = `<div class=\"error\" style=\"color:red;\">${err}</div>`;\n",
       "      throw err;\n",
       "    }\n",
       "\n",
       "    function displayChart(vegaEmbed) {\n",
       "      vegaEmbed(outputDiv, spec, embedOpt)\n",
       "        .catch(err => showError(`Javascript Error: ${err.message}<br>This usually means there's a typo in your chart specification. See the javascript console for the full traceback.`));\n",
       "    }\n",
       "\n",
       "    if(typeof define === \"function\" && define.amd) {\n",
       "      requirejs.config({paths});\n",
       "      require([\"vega-embed\"], displayChart, err => showError(`Error loading script: ${err.message}`));\n",
       "    } else {\n",
       "      maybeLoadScript(\"vega\", \"5\")\n",
       "        .then(() => maybeLoadScript(\"vega-lite\", \"4.17.0\"))\n",
       "        .then(() => maybeLoadScript(\"vega-embed\", \"6\"))\n",
       "        .catch(showError)\n",
       "        .then(() => displayChart(vegaEmbed));\n",
       "    }\n",
       "  })({\"config\": {\"view\": {\"continuousWidth\": 400, \"continuousHeight\": 300}}, \"data\": {\"name\": \"data-7c36766bdbdd929d88ac2881c2000dcf\"}, \"mark\": {\"type\": \"point\", \"filled\": true, \"size\": 400}, \"encoding\": {\"x\": {\"field\": \"category\", \"scale\": {\"reverse\": true}, \"type\": \"quantitative\"}, \"y\": {\"field\": \"value\", \"scale\": {\"reverse\": true}, \"type\": \"quantitative\"}}, \"$schema\": \"https://vega.github.io/schema/vega-lite/v4.17.0.json\", \"datasets\": {\"data-7c36766bdbdd929d88ac2881c2000dcf\": [{\"category\": 1, \"value\": 4, \"quality\": \"standard\"}, {\"category\": 2, \"value\": 6, \"quality\": \"good\"}, {\"category\": 3, \"value\": 10, \"quality\": \"excellent\"}, {\"category\": 4, \"value\": 3, \"quality\": \"standard\"}, {\"category\": 5, \"value\": 7, \"quality\": \"good\"}, {\"category\": 6, \"value\": 8, \"quality\": \"excellent\"}]}}, {\"mode\": \"vega-lite\"});\n",
       "</script>"
      ],
      "text/plain": [
       "alt.Chart(...)"
      ]
     },
     "execution_count": 8,
     "metadata": {},
     "output_type": "execute_result"
    }
   ],
   "source": [
    "reverse_scale = base.encode(\n",
    "    x=alt.X(\"category\", scale=alt.Scale(reverse=True)),\n",
    "    y=alt.Y(\"value\", scale=alt.Scale(reverse=True)))\n",
    "reverse_scale"
   ]
  },
  {
   "cell_type": "markdown",
   "id": "77a1643d",
   "metadata": {},
   "source": [
    "## Scale: scheme\n",
    "\n",
    "When working with color channel, there are more than one way of mapping data to color. Exactly how data values are mapped to color is determined by a color map or color scheme.  Altair actually provides very reasonable default color scheme."
   ]
  },
  {
   "cell_type": "code",
   "execution_count": 9,
   "id": "66a7a77e",
   "metadata": {
    "scrolled": true
   },
   "outputs": [
    {
     "data": {
      "text/html": [
       "\n",
       "<div id=\"altair-viz-3918d94336ae48958788fca816d53cc3\"></div>\n",
       "<script type=\"text/javascript\">\n",
       "  var VEGA_DEBUG = (typeof VEGA_DEBUG == \"undefined\") ? {} : VEGA_DEBUG;\n",
       "  (function(spec, embedOpt){\n",
       "    let outputDiv = document.currentScript.previousElementSibling;\n",
       "    if (outputDiv.id !== \"altair-viz-3918d94336ae48958788fca816d53cc3\") {\n",
       "      outputDiv = document.getElementById(\"altair-viz-3918d94336ae48958788fca816d53cc3\");\n",
       "    }\n",
       "    const paths = {\n",
       "      \"vega\": \"https://cdn.jsdelivr.net/npm//vega@5?noext\",\n",
       "      \"vega-lib\": \"https://cdn.jsdelivr.net/npm//vega-lib?noext\",\n",
       "      \"vega-lite\": \"https://cdn.jsdelivr.net/npm//vega-lite@4.17.0?noext\",\n",
       "      \"vega-embed\": \"https://cdn.jsdelivr.net/npm//vega-embed@6?noext\",\n",
       "    };\n",
       "\n",
       "    function maybeLoadScript(lib, version) {\n",
       "      var key = `${lib.replace(\"-\", \"\")}_version`;\n",
       "      return (VEGA_DEBUG[key] == version) ?\n",
       "        Promise.resolve(paths[lib]) :\n",
       "        new Promise(function(resolve, reject) {\n",
       "          var s = document.createElement('script');\n",
       "          document.getElementsByTagName(\"head\")[0].appendChild(s);\n",
       "          s.async = true;\n",
       "          s.onload = () => {\n",
       "            VEGA_DEBUG[key] = version;\n",
       "            return resolve(paths[lib]);\n",
       "          };\n",
       "          s.onerror = () => reject(`Error loading script: ${paths[lib]}`);\n",
       "          s.src = paths[lib];\n",
       "        });\n",
       "    }\n",
       "\n",
       "    function showError(err) {\n",
       "      outputDiv.innerHTML = `<div class=\"error\" style=\"color:red;\">${err}</div>`;\n",
       "      throw err;\n",
       "    }\n",
       "\n",
       "    function displayChart(vegaEmbed) {\n",
       "      vegaEmbed(outputDiv, spec, embedOpt)\n",
       "        .catch(err => showError(`Javascript Error: ${err.message}<br>This usually means there's a typo in your chart specification. See the javascript console for the full traceback.`));\n",
       "    }\n",
       "\n",
       "    if(typeof define === \"function\" && define.amd) {\n",
       "      requirejs.config({paths});\n",
       "      require([\"vega-embed\"], displayChart, err => showError(`Error loading script: ${err.message}`));\n",
       "    } else {\n",
       "      maybeLoadScript(\"vega\", \"5\")\n",
       "        .then(() => maybeLoadScript(\"vega-lite\", \"4.17.0\"))\n",
       "        .then(() => maybeLoadScript(\"vega-embed\", \"6\"))\n",
       "        .catch(showError)\n",
       "        .then(() => displayChart(vegaEmbed));\n",
       "    }\n",
       "  })({\"config\": {\"view\": {\"continuousWidth\": 400, \"continuousHeight\": 300}}, \"data\": {\"name\": \"data-7c36766bdbdd929d88ac2881c2000dcf\"}, \"mark\": {\"type\": \"point\", \"filled\": true, \"size\": 400}, \"encoding\": {\"color\": {\"field\": \"quality\", \"type\": \"nominal\"}, \"x\": {\"field\": \"category\", \"type\": \"quantitative\"}, \"y\": {\"field\": \"value\", \"type\": \"quantitative\"}}, \"$schema\": \"https://vega.github.io/schema/vega-lite/v4.17.0.json\", \"datasets\": {\"data-7c36766bdbdd929d88ac2881c2000dcf\": [{\"category\": 1, \"value\": 4, \"quality\": \"standard\"}, {\"category\": 2, \"value\": 6, \"quality\": \"good\"}, {\"category\": 3, \"value\": 10, \"quality\": \"excellent\"}, {\"category\": 4, \"value\": 3, \"quality\": \"standard\"}, {\"category\": 5, \"value\": 7, \"quality\": \"good\"}, {\"category\": 6, \"value\": 8, \"quality\": \"excellent\"}]}}, {\"mode\": \"vega-lite\"});\n",
       "</script>"
      ],
      "text/plain": [
       "alt.Chart(...)"
      ]
     },
     "execution_count": 9,
     "metadata": {},
     "output_type": "execute_result"
    }
   ],
   "source": [
    "color_scale = base.encode(x=\"category\", y=\"value\",\n",
    "                          color=\"quality\")\n",
    "color_scale"
   ]
  },
  {
   "cell_type": "markdown",
   "id": "d1a11737",
   "metadata": {},
   "source": [
    "One can always modify the color scheme by changing the `scheme` scale setting. See [a list of support color schemes](https://vega.github.io/vega/docs/schemes/) for more details."
   ]
  },
  {
   "cell_type": "code",
   "execution_count": 10,
   "id": "97447d34",
   "metadata": {},
   "outputs": [
    {
     "data": {
      "text/html": [
       "\n",
       "<div id=\"altair-viz-ee7fbe29e8924ac99b1e3d2cbb9ebaa4\"></div>\n",
       "<script type=\"text/javascript\">\n",
       "  var VEGA_DEBUG = (typeof VEGA_DEBUG == \"undefined\") ? {} : VEGA_DEBUG;\n",
       "  (function(spec, embedOpt){\n",
       "    let outputDiv = document.currentScript.previousElementSibling;\n",
       "    if (outputDiv.id !== \"altair-viz-ee7fbe29e8924ac99b1e3d2cbb9ebaa4\") {\n",
       "      outputDiv = document.getElementById(\"altair-viz-ee7fbe29e8924ac99b1e3d2cbb9ebaa4\");\n",
       "    }\n",
       "    const paths = {\n",
       "      \"vega\": \"https://cdn.jsdelivr.net/npm//vega@5?noext\",\n",
       "      \"vega-lib\": \"https://cdn.jsdelivr.net/npm//vega-lib?noext\",\n",
       "      \"vega-lite\": \"https://cdn.jsdelivr.net/npm//vega-lite@4.17.0?noext\",\n",
       "      \"vega-embed\": \"https://cdn.jsdelivr.net/npm//vega-embed@6?noext\",\n",
       "    };\n",
       "\n",
       "    function maybeLoadScript(lib, version) {\n",
       "      var key = `${lib.replace(\"-\", \"\")}_version`;\n",
       "      return (VEGA_DEBUG[key] == version) ?\n",
       "        Promise.resolve(paths[lib]) :\n",
       "        new Promise(function(resolve, reject) {\n",
       "          var s = document.createElement('script');\n",
       "          document.getElementsByTagName(\"head\")[0].appendChild(s);\n",
       "          s.async = true;\n",
       "          s.onload = () => {\n",
       "            VEGA_DEBUG[key] = version;\n",
       "            return resolve(paths[lib]);\n",
       "          };\n",
       "          s.onerror = () => reject(`Error loading script: ${paths[lib]}`);\n",
       "          s.src = paths[lib];\n",
       "        });\n",
       "    }\n",
       "\n",
       "    function showError(err) {\n",
       "      outputDiv.innerHTML = `<div class=\"error\" style=\"color:red;\">${err}</div>`;\n",
       "      throw err;\n",
       "    }\n",
       "\n",
       "    function displayChart(vegaEmbed) {\n",
       "      vegaEmbed(outputDiv, spec, embedOpt)\n",
       "        .catch(err => showError(`Javascript Error: ${err.message}<br>This usually means there's a typo in your chart specification. See the javascript console for the full traceback.`));\n",
       "    }\n",
       "\n",
       "    if(typeof define === \"function\" && define.amd) {\n",
       "      requirejs.config({paths});\n",
       "      require([\"vega-embed\"], displayChart, err => showError(`Error loading script: ${err.message}`));\n",
       "    } else {\n",
       "      maybeLoadScript(\"vega\", \"5\")\n",
       "        .then(() => maybeLoadScript(\"vega-lite\", \"4.17.0\"))\n",
       "        .then(() => maybeLoadScript(\"vega-embed\", \"6\"))\n",
       "        .catch(showError)\n",
       "        .then(() => displayChart(vegaEmbed));\n",
       "    }\n",
       "  })({\"config\": {\"view\": {\"continuousWidth\": 400, \"continuousHeight\": 300}}, \"data\": {\"name\": \"data-7c36766bdbdd929d88ac2881c2000dcf\"}, \"mark\": {\"type\": \"point\", \"filled\": true, \"size\": 400}, \"encoding\": {\"color\": {\"field\": \"quality\", \"scale\": {\"scheme\": \"turbo\"}, \"type\": \"nominal\"}, \"x\": {\"field\": \"category\", \"type\": \"quantitative\"}, \"y\": {\"field\": \"value\", \"type\": \"quantitative\"}}, \"$schema\": \"https://vega.github.io/schema/vega-lite/v4.17.0.json\", \"datasets\": {\"data-7c36766bdbdd929d88ac2881c2000dcf\": [{\"category\": 1, \"value\": 4, \"quality\": \"standard\"}, {\"category\": 2, \"value\": 6, \"quality\": \"good\"}, {\"category\": 3, \"value\": 10, \"quality\": \"excellent\"}, {\"category\": 4, \"value\": 3, \"quality\": \"standard\"}, {\"category\": 5, \"value\": 7, \"quality\": \"good\"}, {\"category\": 6, \"value\": 8, \"quality\": \"excellent\"}]}}, {\"mode\": \"vega-lite\"});\n",
       "</script>"
      ],
      "text/plain": [
       "alt.Chart(...)"
      ]
     },
     "execution_count": 10,
     "metadata": {},
     "output_type": "execute_result"
    }
   ],
   "source": [
    "color_scale = base.encode(\n",
    "    x=\"category\", y=\"value\",\n",
    "    color=alt.Color(\"quality\", scale=alt.Scale(scheme=\"turbo\")))\n",
    "color_scale"
   ]
  },
  {
   "cell_type": "markdown",
   "id": "88dc238e",
   "metadata": {},
   "source": [
    "## Scale: range\n",
    "\n",
    "Sometimes, one may want to use a custom color scheme.  This can be achieved using the `range` scale setting. In the example bellow, we want to map `excellent` quality to `red`, `good` to `green` and `standard` to `blue`. This can be done by explicitly specifying the domain and the range of the color mapping."
   ]
  },
  {
   "cell_type": "code",
   "execution_count": 11,
   "id": "97391b58",
   "metadata": {},
   "outputs": [
    {
     "data": {
      "text/html": [
       "\n",
       "<div id=\"altair-viz-b3277b08a7b448f781d2e547cb5fb15e\"></div>\n",
       "<script type=\"text/javascript\">\n",
       "  var VEGA_DEBUG = (typeof VEGA_DEBUG == \"undefined\") ? {} : VEGA_DEBUG;\n",
       "  (function(spec, embedOpt){\n",
       "    let outputDiv = document.currentScript.previousElementSibling;\n",
       "    if (outputDiv.id !== \"altair-viz-b3277b08a7b448f781d2e547cb5fb15e\") {\n",
       "      outputDiv = document.getElementById(\"altair-viz-b3277b08a7b448f781d2e547cb5fb15e\");\n",
       "    }\n",
       "    const paths = {\n",
       "      \"vega\": \"https://cdn.jsdelivr.net/npm//vega@5?noext\",\n",
       "      \"vega-lib\": \"https://cdn.jsdelivr.net/npm//vega-lib?noext\",\n",
       "      \"vega-lite\": \"https://cdn.jsdelivr.net/npm//vega-lite@4.17.0?noext\",\n",
       "      \"vega-embed\": \"https://cdn.jsdelivr.net/npm//vega-embed@6?noext\",\n",
       "    };\n",
       "\n",
       "    function maybeLoadScript(lib, version) {\n",
       "      var key = `${lib.replace(\"-\", \"\")}_version`;\n",
       "      return (VEGA_DEBUG[key] == version) ?\n",
       "        Promise.resolve(paths[lib]) :\n",
       "        new Promise(function(resolve, reject) {\n",
       "          var s = document.createElement('script');\n",
       "          document.getElementsByTagName(\"head\")[0].appendChild(s);\n",
       "          s.async = true;\n",
       "          s.onload = () => {\n",
       "            VEGA_DEBUG[key] = version;\n",
       "            return resolve(paths[lib]);\n",
       "          };\n",
       "          s.onerror = () => reject(`Error loading script: ${paths[lib]}`);\n",
       "          s.src = paths[lib];\n",
       "        });\n",
       "    }\n",
       "\n",
       "    function showError(err) {\n",
       "      outputDiv.innerHTML = `<div class=\"error\" style=\"color:red;\">${err}</div>`;\n",
       "      throw err;\n",
       "    }\n",
       "\n",
       "    function displayChart(vegaEmbed) {\n",
       "      vegaEmbed(outputDiv, spec, embedOpt)\n",
       "        .catch(err => showError(`Javascript Error: ${err.message}<br>This usually means there's a typo in your chart specification. See the javascript console for the full traceback.`));\n",
       "    }\n",
       "\n",
       "    if(typeof define === \"function\" && define.amd) {\n",
       "      requirejs.config({paths});\n",
       "      require([\"vega-embed\"], displayChart, err => showError(`Error loading script: ${err.message}`));\n",
       "    } else {\n",
       "      maybeLoadScript(\"vega\", \"5\")\n",
       "        .then(() => maybeLoadScript(\"vega-lite\", \"4.17.0\"))\n",
       "        .then(() => maybeLoadScript(\"vega-embed\", \"6\"))\n",
       "        .catch(showError)\n",
       "        .then(() => displayChart(vegaEmbed));\n",
       "    }\n",
       "  })({\"config\": {\"view\": {\"continuousWidth\": 400, \"continuousHeight\": 300}}, \"data\": {\"name\": \"data-7c36766bdbdd929d88ac2881c2000dcf\"}, \"mark\": {\"type\": \"point\", \"filled\": true, \"size\": 400}, \"encoding\": {\"color\": {\"field\": \"quality\", \"scale\": {\"domain\": [\"excellent\", \"good\", \"standard\"], \"range\": [\"red\", \"green\", \"blue\"]}, \"type\": \"nominal\"}, \"x\": {\"field\": \"category\", \"type\": \"quantitative\"}, \"y\": {\"field\": \"value\", \"type\": \"quantitative\"}}, \"$schema\": \"https://vega.github.io/schema/vega-lite/v4.17.0.json\", \"datasets\": {\"data-7c36766bdbdd929d88ac2881c2000dcf\": [{\"category\": 1, \"value\": 4, \"quality\": \"standard\"}, {\"category\": 2, \"value\": 6, \"quality\": \"good\"}, {\"category\": 3, \"value\": 10, \"quality\": \"excellent\"}, {\"category\": 4, \"value\": 3, \"quality\": \"standard\"}, {\"category\": 5, \"value\": 7, \"quality\": \"good\"}, {\"category\": 6, \"value\": 8, \"quality\": \"excellent\"}]}}, {\"mode\": \"vega-lite\"});\n",
       "</script>"
      ],
      "text/plain": [
       "alt.Chart(...)"
      ]
     },
     "execution_count": 11,
     "metadata": {},
     "output_type": "execute_result"
    }
   ],
   "source": [
    "qualities = [\"excellent\", \"good\", \"standard\"]\n",
    "colors = [\"red\", \"green\", \"blue\"]\n",
    "color_scale = base.encode(\n",
    "    x=\"category\", y=\"value\",\n",
    "    color=alt.Color(\"quality\", \n",
    "                    scale=alt.Scale(domain=qualities, range=colors)))\n",
    "color_scale"
   ]
  },
  {
   "cell_type": "markdown",
   "id": "2581320b",
   "metadata": {},
   "source": [
    "## Summary\n",
    "\n",
    "In this session, we explored a few common scale settings in Altair. Scale is extremely useful in fine tuning the visualization. You can find out more about Altair's scale settings by reading [its API](https://altair-viz.github.io/user_guide/generated/core/altair.Scale.html#altair.Scale)."
   ]
  },
  {
   "cell_type": "code",
   "execution_count": null,
   "id": "719d91fe",
   "metadata": {},
   "outputs": [],
   "source": []
  }
 ],
 "metadata": {
  "kernelspec": {
   "display_name": "Python 3 (ipykernel)",
   "language": "python",
   "name": "python3"
  },
  "language_info": {
   "codemirror_mode": {
    "name": "ipython",
    "version": 3
   },
   "file_extension": ".py",
   "mimetype": "text/x-python",
   "name": "python",
   "nbconvert_exporter": "python",
   "pygments_lexer": "ipython3",
   "version": "3.10.9"
  }
 },
 "nbformat": 4,
 "nbformat_minor": 5
}
