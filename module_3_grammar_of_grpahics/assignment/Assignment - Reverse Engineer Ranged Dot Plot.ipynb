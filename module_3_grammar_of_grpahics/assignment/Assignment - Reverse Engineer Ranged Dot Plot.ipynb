{
 "cells": [
  {
   "cell_type": "markdown",
   "id": "bbd15847",
   "metadata": {},
   "source": [
    "# Reverse Engineer Ranged Dot Plot\n",
    "\n",
    "The following code prepares the Seattle weather data frame for you.  There is not need to change it."
   ]
  },
  {
   "cell_type": "code",
   "execution_count": 1,
   "id": "7eb54da8",
   "metadata": {},
   "outputs": [],
   "source": [
    "import altair as alt\n",
    "import pandas as pd\n",
    "from vega_datasets import data\n",
    "\n",
    "source = data.seattle_weather()\n",
    "source.date = pd.to_datetime(source.date)\n",
    "source = source[source.date < pd.to_datetime(\"2013\")] # Focus on 2012.\n",
    "print(source.describe())\n",
    "source.head()"
   ]
  },
  {
   "cell_type": "markdown",
   "id": "2e7b6dc5",
   "metadata": {},
   "source": [
    "Please use the following cell to generate the desired ranged dot plot"
   ]
  },
  {
   "cell_type": "code",
   "execution_count": 2,
   "id": "430fc73b",
   "metadata": {},
   "outputs": [],
   "source": [
    "base = alt.Chart(source)\n",
    "# To be done by student..."
   ]
  },
  {
   "cell_type": "code",
   "execution_count": null,
   "id": "a26bc135",
   "metadata": {},
   "outputs": [],
   "source": []
  }
 ],
 "metadata": {
  "kernelspec": {
   "display_name": "Python 3 (ipykernel)",
   "language": "python",
   "name": "python3"
  },
  "language_info": {
   "codemirror_mode": {
    "name": "ipython",
    "version": 3
   },
   "file_extension": ".py",
   "mimetype": "text/x-python",
   "name": "python",
   "nbconvert_exporter": "python",
   "pygments_lexer": "ipython3",
   "version": "3.10.9"
  }
 },
 "nbformat": 4,
 "nbformat_minor": 5
}
