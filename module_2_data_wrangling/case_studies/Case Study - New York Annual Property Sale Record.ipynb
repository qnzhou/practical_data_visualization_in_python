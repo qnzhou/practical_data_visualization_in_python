{
 "cells": [
  {
   "cell_type": "markdown",
   "id": "f592841f",
   "metadata": {},
   "source": [
    "# Case Study: New York Annual Property Sale Record\n",
    "\n",
    "The New York city government has published neighborhood and city wide [property sale record](https://www.nyc.gov/site/finance/taxes/property-annualized-sales-update.page) every year since 2007. It is an amazing source of studying how different events impact the real estate sector in NYC. In this case study, we will try to clean up this property sale data from 2019 to 2021 in order to observe how COVID19 pandemic affects the buying and selling behavior of homes.\n",
    "\n",
    "## Retrieving the data\n",
    "\n",
    "From the [property sale record](https://www.nyc.gov/site/finance/taxes/property-annualized-sales-update.page), it is quite easy to get the url for the excel sheeting containing the data.  We can load them directly into Pandas data frames."
   ]
  },
  {
   "cell_type": "code",
   "execution_count": 1,
   "id": "b001e5b7",
   "metadata": {},
   "outputs": [
    {
     "name": "stdout",
     "output_type": "stream",
     "text": [
      "Queens\n",
      "Queens\n"
     ]
    }
   ],
   "source": [
    "import pandas as pd\n",
    "\n",
    "url_2021 = \"https://www.nyc.gov/assets/finance/downloads/pdf/rolling_sales/annualized-sales/2021/2021_queens.xlsx\"\n",
    "url_2020 = \"https://www.nyc.gov/assets/finance/downloads/pdf/rolling_sales/annualized-sales/2020/2020_queens.xlsx\"\n",
    "url_2019 = \"https://www.nyc.gov/assets/finance/downloads/pdf/rolling_sales/annualized-sales/2019/2019_queens.xlsx\"\n",
    "data_2021 = pd.read_excel(url_2021, skiprows=6)\n",
    "data_2020 = pd.read_excel(url_2020, skiprows=6)\n",
    "data_2019 = pd.read_excel(url_2019, skiprows=4)"
   ]
  },
  {
   "cell_type": "markdown",
   "id": "77a3b7c5",
   "metadata": {},
   "source": [
    "Notice that each excel sheet contains several rows of text explanation, which should be skipped. We have manually counted the number of such non-data rows, and we use the `skiprows` argument in the `pandas.read_excel()` method to skip them.\n",
    "\n",
    "## Cleaning up the column headers\n",
    "\n",
    "Let's take a closer look at the column headers of each data frame next."
   ]
  },
  {
   "cell_type": "code",
   "execution_count": 2,
   "id": "929c6414",
   "metadata": {},
   "outputs": [
    {
     "name": "stdout",
     "output_type": "stream",
     "text": [
      "Index(['BOROUGH', 'NEIGHBORHOOD', 'BUILDING CLASS CATEGORY',\n",
      "       'TAX CLASS AT PRESENT', 'BLOCK', 'LOT', 'EASE-MENT',\n",
      "       'BUILDING CLASS AT PRESENT', 'ADDRESS', 'APARTMENT NUMBER', 'ZIP CODE',\n",
      "       'RESIDENTIAL\\nUNITS', 'COMMERCIAL\\nUNITS', 'TOTAL \\nUNITS',\n",
      "       'LAND \\nSQUARE FEET', 'GROSS \\nSQUARE FEET', 'YEAR BUILT',\n",
      "       'TAX CLASS AT TIME OF SALE', 'BUILDING CLASS\\nAT TIME OF SALE',\n",
      "       'SALE PRICE', 'SALE DATE'],\n",
      "      dtype='object')\n",
      "Index(['BOROUGH', 'NEIGHBORHOOD', 'BUILDING CLASS CATEGORY',\n",
      "       'TAX CLASS AT PRESENT', 'BLOCK', 'LOT', 'EASE-MENT',\n",
      "       'BUILDING CLASS AT PRESENT', 'ADDRESS', 'APARTMENT NUMBER', 'ZIP CODE',\n",
      "       'RESIDENTIAL\\nUNITS', 'COMMERCIAL\\nUNITS', 'TOTAL \\nUNITS',\n",
      "       'LAND \\nSQUARE FEET', 'GROSS \\nSQUARE FEET', 'YEAR BUILT',\n",
      "       'TAX CLASS AT TIME OF SALE', 'BUILDING CLASS\\nAT TIME OF SALE',\n",
      "       'SALE PRICE', 'SALE DATE'],\n",
      "      dtype='object')\n",
      "Index(['BOROUGH\\n', 'NEIGHBORHOOD\\n', 'BUILDING CLASS CATEGORY\\n',\n",
      "       'TAX CLASS AS OF FINAL ROLL 18/19', 'BLOCK\\n', 'LOT\\n', 'EASE-MENT\\n',\n",
      "       'BUILDING CLASS AS OF FINAL ROLL 18/19', 'ADDRESS\\n',\n",
      "       'APARTMENT NUMBER\\n', 'ZIP CODE\\n', 'RESIDENTIAL UNITS\\n',\n",
      "       'COMMERCIAL UNITS\\n', 'TOTAL UNITS\\n', 'LAND SQUARE FEET\\n',\n",
      "       'GROSS SQUARE FEET\\n', 'YEAR BUILT\\n', 'TAX CLASS AT TIME OF SALE\\n',\n",
      "       'BUILDING CLASS AT TIME OF SALE\\n', 'SALE PRICE\\n', 'SALE DATE\\n'],\n",
      "      dtype='object')\n"
     ]
    }
   ],
   "source": [
    "print(data_2021.columns)\n",
    "print(data_2020.columns)\n",
    "print(data_2019.columns)"
   ]
  },
  {
   "cell_type": "markdown",
   "id": "26b007b6",
   "metadata": {},
   "source": [
    "Here we see a few minor problems:\n",
    "\n",
    "1. The column header contains spaces and new line (`\\n`) characters, which makes referencing them hard.\n",
    "2. All headers are in upper case. It will make our lives a bit easier if they are in lower case.\n",
    "3. There is a slight difference in column names between 2019's data and 2020/2021 data.\n",
    "\n",
    "Fortunately, they can be easily fixed using Pandas:"
   ]
  },
  {
   "cell_type": "code",
   "execution_count": 3,
   "id": "0138593e",
   "metadata": {},
   "outputs": [
    {
     "name": "stdout",
     "output_type": "stream",
     "text": [
      "Index(['borough', 'neighborhood', 'building_class_category',\n",
      "       'tax_class_at_present', 'block', 'lot', 'ease-ment',\n",
      "       'building_class_at_present', 'address', 'apartment_number', 'zip_code',\n",
      "       'residential_units', 'commercial_units', 'total_units',\n",
      "       'land_square_feet', 'gross_square_feet', 'year_built',\n",
      "       'tax_class_at_time_of_sale', 'building_class_at_time_of_sale',\n",
      "       'sale_price', 'sale_date'],\n",
      "      dtype='object')\n",
      "Index(['borough', 'neighborhood', 'building_class_category',\n",
      "       'tax_class_at_present', 'block', 'lot', 'ease-ment',\n",
      "       'building_class_at_present', 'address', 'apartment_number', 'zip_code',\n",
      "       'residential_units', 'commercial_units', 'total_units',\n",
      "       'land_square_feet', 'gross_square_feet', 'year_built',\n",
      "       'tax_class_at_time_of_sale', 'building_class_at_time_of_sale',\n",
      "       'sale_price', 'sale_date'],\n",
      "      dtype='object')\n",
      "Index(['borough', 'neighborhood', 'building_class_category',\n",
      "       'tax_class_as_of_final_roll_18/19', 'block', 'lot', 'ease-ment',\n",
      "       'building_class_as_of_final_roll_18/19', 'address', 'apartment_number',\n",
      "       'zip_code', 'residential_units', 'commercial_units', 'total_units',\n",
      "       'land_square_feet', 'gross_square_feet', 'year_built',\n",
      "       'tax_class_at_time_of_sale', 'building_class_at_time_of_sale',\n",
      "       'sale_price', 'sale_date'],\n",
      "      dtype='object')\n"
     ]
    }
   ],
   "source": [
    "for data in [data_2021, data_2020, data_2019]:\n",
    "    data.columns = data.columns\\\n",
    "        .str.replace(r'\\s+', '_', regex=True)\\\n",
    "        .str.strip('_')\\\n",
    "        .str.lower()\n",
    "\n",
    "print(data_2021.columns)\n",
    "print(data_2020.columns)\n",
    "print(data_2019.columns)"
   ]
  },
  {
   "cell_type": "markdown",
   "id": "6ffdaeed",
   "metadata": {},
   "source": [
    "Let's break it down a bit:\n",
    "* `data.columns` extracts the column index from the data frame. It is an [index](https://pandas.pydata.org/docs/reference/indexing.html) object.\n",
    "* `.str` tells pandas to treat the series/index as a list of strings.\n",
    "* `.str.<method_name>()` applies the corresponding string methods in parallel to each element of the series/index.\n",
    "\n",
    "Note that the columns of `data_2020` and `data_2021` are identical, but some columns of `data_2019` have different names.  Fortunately, these inconsistently named columns are not part of the columns we will use in this exercise. So we will leave them as they are.\n",
    "\n",
    "## Selecting columns\n",
    "\n",
    "Next, let's only keep the columns we will use and drop the rest of the columns in each data frame. Once done, we can combine all data frames together by concatenating the rows."
   ]
  },
  {
   "cell_type": "code",
   "execution_count": 4,
   "id": "68e54c33",
   "metadata": {},
   "outputs": [
    {
     "data": {
      "text/html": [
       "<div>\n",
       "<style scoped>\n",
       "    .dataframe tbody tr th:only-of-type {\n",
       "        vertical-align: middle;\n",
       "    }\n",
       "\n",
       "    .dataframe tbody tr th {\n",
       "        vertical-align: top;\n",
       "    }\n",
       "\n",
       "    .dataframe thead th {\n",
       "        text-align: right;\n",
       "    }\n",
       "</style>\n",
       "<table border=\"1\" class=\"dataframe\">\n",
       "  <thead>\n",
       "    <tr style=\"text-align: right;\">\n",
       "      <th></th>\n",
       "      <th>block</th>\n",
       "      <th>lot</th>\n",
       "      <th>residential_units</th>\n",
       "      <th>tax_class_at_time_of_sale</th>\n",
       "      <th>year_built</th>\n",
       "      <th>sale_price</th>\n",
       "    </tr>\n",
       "  </thead>\n",
       "  <tbody>\n",
       "    <tr>\n",
       "      <th>count</th>\n",
       "      <td>77934.000000</td>\n",
       "      <td>77934.000000</td>\n",
       "      <td>63168.000000</td>\n",
       "      <td>77934.000000</td>\n",
       "      <td>74670.000000</td>\n",
       "      <td>7.793400e+04</td>\n",
       "    </tr>\n",
       "    <tr>\n",
       "      <th>mean</th>\n",
       "      <td>6811.938512</td>\n",
       "      <td>213.439333</td>\n",
       "      <td>1.710898</td>\n",
       "      <td>1.467434</td>\n",
       "      <td>1949.775385</td>\n",
       "      <td>7.233592e+05</td>\n",
       "    </tr>\n",
       "    <tr>\n",
       "      <th>std</th>\n",
       "      <td>4469.833791</td>\n",
       "      <td>454.562783</td>\n",
       "      <td>7.183315</td>\n",
       "      <td>0.772764</td>\n",
       "      <td>29.621333</td>\n",
       "      <td>4.719585e+06</td>\n",
       "    </tr>\n",
       "    <tr>\n",
       "      <th>min</th>\n",
       "      <td>6.000000</td>\n",
       "      <td>1.000000</td>\n",
       "      <td>0.000000</td>\n",
       "      <td>1.000000</td>\n",
       "      <td>1018.000000</td>\n",
       "      <td>0.000000e+00</td>\n",
       "    </tr>\n",
       "    <tr>\n",
       "      <th>25%</th>\n",
       "      <td>2875.000000</td>\n",
       "      <td>17.000000</td>\n",
       "      <td>1.000000</td>\n",
       "      <td>1.000000</td>\n",
       "      <td>1930.000000</td>\n",
       "      <td>0.000000e+00</td>\n",
       "    </tr>\n",
       "    <tr>\n",
       "      <th>50%</th>\n",
       "      <td>6434.000000</td>\n",
       "      <td>39.000000</td>\n",
       "      <td>1.000000</td>\n",
       "      <td>1.000000</td>\n",
       "      <td>1945.000000</td>\n",
       "      <td>3.650000e+05</td>\n",
       "    </tr>\n",
       "    <tr>\n",
       "      <th>75%</th>\n",
       "      <td>10479.000000</td>\n",
       "      <td>83.000000</td>\n",
       "      <td>2.000000</td>\n",
       "      <td>2.000000</td>\n",
       "      <td>1960.000000</td>\n",
       "      <td>7.500000e+05</td>\n",
       "    </tr>\n",
       "    <tr>\n",
       "      <th>max</th>\n",
       "      <td>16350.000000</td>\n",
       "      <td>8006.000000</td>\n",
       "      <td>1115.000000</td>\n",
       "      <td>4.000000</td>\n",
       "      <td>2021.000000</td>\n",
       "      <td>3.693000e+08</td>\n",
       "    </tr>\n",
       "  </tbody>\n",
       "</table>\n",
       "</div>"
      ],
      "text/plain": [
       "              block           lot  residential_units  \\\n",
       "count  77934.000000  77934.000000       63168.000000   \n",
       "mean    6811.938512    213.439333           1.710898   \n",
       "std     4469.833791    454.562783           7.183315   \n",
       "min        6.000000      1.000000           0.000000   \n",
       "25%     2875.000000     17.000000           1.000000   \n",
       "50%     6434.000000     39.000000           1.000000   \n",
       "75%    10479.000000     83.000000           2.000000   \n",
       "max    16350.000000   8006.000000        1115.000000   \n",
       "\n",
       "       tax_class_at_time_of_sale    year_built    sale_price  \n",
       "count               77934.000000  74670.000000  7.793400e+04  \n",
       "mean                    1.467434   1949.775385  7.233592e+05  \n",
       "std                     0.772764     29.621333  4.719585e+06  \n",
       "min                     1.000000   1018.000000  0.000000e+00  \n",
       "25%                     1.000000   1930.000000  0.000000e+00  \n",
       "50%                     1.000000   1945.000000  3.650000e+05  \n",
       "75%                     2.000000   1960.000000  7.500000e+05  \n",
       "max                     4.000000   2021.000000  3.693000e+08  "
      ]
     },
     "execution_count": 4,
     "metadata": {},
     "output_type": "execute_result"
    }
   ],
   "source": [
    "selected_columns = [\"neighborhood\", \n",
    "                    \"building_class_at_time_of_sale\",\n",
    "                    \"block\", \n",
    "                    \"lot\", \n",
    "                    \"residential_units\", \n",
    "                    \"tax_class_at_time_of_sale\", \n",
    "                    \"year_built\", \n",
    "                    \"sale_price\", \n",
    "                    \"sale_date\"]\n",
    "data = pd.concat(\n",
    "    [data_2021[selected_columns], data_2020[selected_columns], data_2019[selected_columns]]\n",
    ")\n",
    "data.describe()"
   ]
  },
  {
   "cell_type": "markdown",
   "id": "948ac1e6",
   "metadata": {},
   "source": [
    "## Check for missing values\n",
    "\n",
    "With all the data frames combined into one, let's examine the actual data using `head()`."
   ]
  },
  {
   "cell_type": "code",
   "execution_count": 5,
   "id": "9bc00c2f",
   "metadata": {},
   "outputs": [
    {
     "data": {
      "text/html": [
       "<div>\n",
       "<style scoped>\n",
       "    .dataframe tbody tr th:only-of-type {\n",
       "        vertical-align: middle;\n",
       "    }\n",
       "\n",
       "    .dataframe tbody tr th {\n",
       "        vertical-align: top;\n",
       "    }\n",
       "\n",
       "    .dataframe thead th {\n",
       "        text-align: right;\n",
       "    }\n",
       "</style>\n",
       "<table border=\"1\" class=\"dataframe\">\n",
       "  <thead>\n",
       "    <tr style=\"text-align: right;\">\n",
       "      <th></th>\n",
       "      <th>neighborhood</th>\n",
       "      <th>building_class_at_time_of_sale</th>\n",
       "      <th>block</th>\n",
       "      <th>lot</th>\n",
       "      <th>residential_units</th>\n",
       "      <th>tax_class_at_time_of_sale</th>\n",
       "      <th>year_built</th>\n",
       "      <th>sale_price</th>\n",
       "      <th>sale_date</th>\n",
       "    </tr>\n",
       "  </thead>\n",
       "  <tbody>\n",
       "    <tr>\n",
       "      <th>0</th>\n",
       "      <td>NaN</td>\n",
       "      <td>NaN</td>\n",
       "      <td>NaN</td>\n",
       "      <td>NaN</td>\n",
       "      <td>NaN</td>\n",
       "      <td>NaN</td>\n",
       "      <td>NaN</td>\n",
       "      <td>NaN</td>\n",
       "      <td>NaT</td>\n",
       "    </tr>\n",
       "    <tr>\n",
       "      <th>1</th>\n",
       "      <td>AIRPORT LA GUARDIA</td>\n",
       "      <td>A5</td>\n",
       "      <td>949.0</td>\n",
       "      <td>24.0</td>\n",
       "      <td>1.0</td>\n",
       "      <td>1.0</td>\n",
       "      <td>1945.0</td>\n",
       "      <td>0.0</td>\n",
       "      <td>2021-05-27</td>\n",
       "    </tr>\n",
       "    <tr>\n",
       "      <th>2</th>\n",
       "      <td>AIRPORT LA GUARDIA</td>\n",
       "      <td>A5</td>\n",
       "      <td>949.0</td>\n",
       "      <td>30.0</td>\n",
       "      <td>1.0</td>\n",
       "      <td>1.0</td>\n",
       "      <td>1945.0</td>\n",
       "      <td>935000.0</td>\n",
       "      <td>2021-12-08</td>\n",
       "    </tr>\n",
       "    <tr>\n",
       "      <th>3</th>\n",
       "      <td>AIRPORT LA GUARDIA</td>\n",
       "      <td>A5</td>\n",
       "      <td>976.0</td>\n",
       "      <td>12.0</td>\n",
       "      <td>1.0</td>\n",
       "      <td>1.0</td>\n",
       "      <td>1950.0</td>\n",
       "      <td>800000.0</td>\n",
       "      <td>2021-01-11</td>\n",
       "    </tr>\n",
       "    <tr>\n",
       "      <th>4</th>\n",
       "      <td>AIRPORT LA GUARDIA</td>\n",
       "      <td>A5</td>\n",
       "      <td>976.0</td>\n",
       "      <td>15.0</td>\n",
       "      <td>1.0</td>\n",
       "      <td>1.0</td>\n",
       "      <td>1950.0</td>\n",
       "      <td>0.0</td>\n",
       "      <td>2021-04-30</td>\n",
       "    </tr>\n",
       "  </tbody>\n",
       "</table>\n",
       "</div>"
      ],
      "text/plain": [
       "         neighborhood building_class_at_time_of_sale  block   lot  \\\n",
       "0                 NaN                            NaN    NaN   NaN   \n",
       "1  AIRPORT LA GUARDIA                             A5  949.0  24.0   \n",
       "2  AIRPORT LA GUARDIA                             A5  949.0  30.0   \n",
       "3  AIRPORT LA GUARDIA                             A5  976.0  12.0   \n",
       "4  AIRPORT LA GUARDIA                             A5  976.0  15.0   \n",
       "\n",
       "   residential_units  tax_class_at_time_of_sale  year_built  sale_price  \\\n",
       "0                NaN                        NaN         NaN         NaN   \n",
       "1                1.0                        1.0      1945.0         0.0   \n",
       "2                1.0                        1.0      1945.0    935000.0   \n",
       "3                1.0                        1.0      1950.0    800000.0   \n",
       "4                1.0                        1.0      1950.0         0.0   \n",
       "\n",
       "   sale_date  \n",
       "0        NaT  \n",
       "1 2021-05-27  \n",
       "2 2021-12-08  \n",
       "3 2021-01-11  \n",
       "4 2021-04-30  "
      ]
     },
     "execution_count": 5,
     "metadata": {},
     "output_type": "execute_result"
    }
   ],
   "source": [
    "data.head()"
   ]
  },
  {
   "cell_type": "markdown",
   "id": "69bbb695",
   "metadata": {},
   "source": [
    "The result of `head()` reveals that the data frame contains missing data (marked as `NaN` and `NaT`) in the first 5 rows. To get a more complete picture, let's also check using `info()`."
   ]
  },
  {
   "cell_type": "code",
   "execution_count": 6,
   "id": "d58a5f0c",
   "metadata": {},
   "outputs": [
    {
     "name": "stdout",
     "output_type": "stream",
     "text": [
      "<class 'pandas.core.frame.DataFrame'>\n",
      "Int64Index: 77936 entries, 0 to 26420\n",
      "Data columns (total 9 columns):\n",
      " #   Column                          Non-Null Count  Dtype         \n",
      "---  ------                          --------------  -----         \n",
      " 0   neighborhood                    77934 non-null  object        \n",
      " 1   building_class_at_time_of_sale  77934 non-null  object        \n",
      " 2   block                           77934 non-null  float64       \n",
      " 3   lot                             77934 non-null  float64       \n",
      " 4   residential_units               63168 non-null  float64       \n",
      " 5   tax_class_at_time_of_sale       77934 non-null  float64       \n",
      " 6   year_built                      74670 non-null  float64       \n",
      " 7   sale_price                      77934 non-null  float64       \n",
      " 8   sale_date                       77934 non-null  datetime64[ns]\n",
      "dtypes: datetime64[ns](1), float64(6), object(2)\n",
      "memory usage: 5.9+ MB\n"
     ]
    }
   ],
   "source": [
    "data.info()"
   ]
  },
  {
   "cell_type": "markdown",
   "id": "b67c195c",
   "metadata": {},
   "source": [
    "The output above shows that there are a total of 77936 rows in the data frame. Among them, most of the columns (e.g. `neighborhood`, `building_class_at_time_of_sale`, etc.) contain 77934 non-null entries, which means the remaining 2 entries are missing data. These missing values are probably due to the original excel sheet containing empty rows.\n",
    "\n",
    "In comparison, `residential_units` and `year_built` contain a lot more missing values.  Missing value for `residential_units` column indicates the corresponding real estate property may be a parking lot or garage, so it does not make sense to specify the number of residential units. Missing value for `year_built` column may actually indicate the information is missing, which could happen due to bookkeeping errors. \n",
    "\n",
    "Because we are only interested in the residential property data in this exercise, we can safely drop those rows containing missing value."
   ]
  },
  {
   "cell_type": "code",
   "execution_count": 7,
   "id": "36e23602",
   "metadata": {},
   "outputs": [
    {
     "data": {
      "text/plain": [
       "neighborhood                      False\n",
       "building_class_at_time_of_sale    False\n",
       "block                             False\n",
       "lot                               False\n",
       "residential_units                 False\n",
       "tax_class_at_time_of_sale         False\n",
       "year_built                        False\n",
       "sale_price                        False\n",
       "sale_date                         False\n",
       "dtype: bool"
      ]
     },
     "execution_count": 7,
     "metadata": {},
     "output_type": "execute_result"
    }
   ],
   "source": [
    "data = data.dropna()\n",
    "data.isna().any()"
   ]
  },
  {
   "cell_type": "markdown",
   "id": "15ff893b",
   "metadata": {},
   "source": [
    "Here, `data.isna()` is a different way of checking missing values. It goes over each cell and checks if that cell contains missing values. It outputs a data frame of `True` (value is missing) and `False` (value is not missing) values, one for each cell.  The `.any()` methods simply aggregate those values for each column.  Since the result for all columns are `False`, our data frame is now free of missing values.\n",
    "\n",
    "## Specify column types\n",
    "\n",
    "We can check the data types of each column by looking at the `dtypes` property."
   ]
  },
  {
   "cell_type": "code",
   "execution_count": 8,
   "id": "372016b4",
   "metadata": {},
   "outputs": [
    {
     "data": {
      "text/plain": [
       "neighborhood                              object\n",
       "building_class_at_time_of_sale            object\n",
       "block                                    float64\n",
       "lot                                      float64\n",
       "residential_units                        float64\n",
       "tax_class_at_time_of_sale                float64\n",
       "year_built                               float64\n",
       "sale_price                               float64\n",
       "sale_date                         datetime64[ns]\n",
       "dtype: object"
      ]
     },
     "execution_count": 8,
     "metadata": {},
     "output_type": "execute_result"
    }
   ],
   "source": [
    "data.dtypes"
   ]
  },
  {
   "cell_type": "markdown",
   "id": "f2710c90",
   "metadata": {},
   "source": [
    "`neighborhood` and `building_class_at_time_of_sale` columns contain strings, so their data type shows up as `object`, which is OK. `sale_date` has data type `datetime64[ns]`, which is correct. However, `block`, `lot`, `residential_units`, `tax_class_at_time_of_sale` and `year_built` all show up as `float64`. This is not ideal.  `block`, `lot`, `tax_class_at_time_of_sale` are categorical data encoded using numbers. It does not make sense to add/subtract or interpolate these values. `residential_units` should be an integer value, and `year_build` should be of date type.  Let's fix them."
   ]
  },
  {
   "cell_type": "code",
   "execution_count": 9,
   "id": "4c409539",
   "metadata": {
    "scrolled": true
   },
   "outputs": [
    {
     "data": {
      "text/plain": [
       "neighborhood                              object\n",
       "building_class_at_time_of_sale            object\n",
       "block                                   category\n",
       "lot                                     category\n",
       "residential_units                          int64\n",
       "tax_class_at_time_of_sale               category\n",
       "year_built                               float64\n",
       "sale_price                               float64\n",
       "sale_date                         datetime64[ns]\n",
       "dtype: object"
      ]
     },
     "execution_count": 9,
     "metadata": {},
     "output_type": "execute_result"
    }
   ],
   "source": [
    "data.block = data.block.astype(\"category\")\n",
    "data.lot = data.lot.astype(\"category\")\n",
    "data.residential_units = data.residential_units.astype(int)\n",
    "data.tax_class_at_time_of_sale = data.tax_class_at_time_of_sale.astype(\"category\")\n",
    "data.dtypes"
   ]
  },
  {
   "cell_type": "markdown",
   "id": "2d28ac71",
   "metadata": {},
   "source": [
    "In the code above, we use the `astype()` method to change the data type for `block`, `lot`, `residential_units` and `tax_class_at_time_of_sale` columns. `dtypes` reflects this change.\n",
    "\n",
    "Next, let's change the data type of the `year_built` column. Because there are many ways of representing temporal data, we cannot simply use `astype()` to cast a column to a date/time class.  Pandas provides a handy function `pd.to_datetime` just for this purpose. Let's give it a try."
   ]
  },
  {
   "cell_type": "code",
   "execution_count": 10,
   "id": "598650fa",
   "metadata": {},
   "outputs": [],
   "source": [
    "# data.year_built = pd.to_datetime(data.year_built, format=\"%Y\")"
   ]
  },
  {
   "cell_type": "markdown",
   "id": "4f8793f9",
   "metadata": {},
   "source": [
    "If you uncomment the above line and run it, it will produce an error similar to the one below.\n",
    "```\n",
    "OutOfBoundsDatetime: Out of bounds nanosecond timestamp: 1018-01-01 00:00:00\n",
    "```\n",
    "\n",
    "This indicates that we have some property that was built in year 1018, and it is beyond the range Pandas date/time object can represent."
   ]
  },
  {
   "cell_type": "code",
   "execution_count": 11,
   "id": "51c15e04",
   "metadata": {},
   "outputs": [
    {
     "name": "stdout",
     "output_type": "stream",
     "text": [
      "min: 1677-09-21 00:12:43.145224193, max: 2262-04-11 23:47:16.854775807\n"
     ]
    }
   ],
   "source": [
    "print(f\"min: {pd.Timestamp.min}, max: {pd.Timestamp.max}\")"
   ]
  },
  {
   "cell_type": "markdown",
   "id": "ca035245",
   "metadata": {},
   "source": [
    "The `pd.Timestamp` class can only represent years later than 1677. Year 1018 is indeed out of range."
   ]
  },
  {
   "cell_type": "code",
   "execution_count": 12,
   "id": "1d39a412",
   "metadata": {},
   "outputs": [
    {
     "data": {
      "text/plain": [
       "count    60112.000000\n",
       "mean      1948.510414\n",
       "std         31.841573\n",
       "min       1018.000000\n",
       "25%       1925.000000\n",
       "50%       1940.000000\n",
       "75%       1960.000000\n",
       "max       2021.000000\n",
       "Name: year_built, dtype: float64"
      ]
     },
     "execution_count": 12,
     "metadata": {},
     "output_type": "execute_result"
    }
   ],
   "source": [
    "data.year_built.describe()"
   ]
  },
  {
   "cell_type": "markdown",
   "id": "311711c8",
   "metadata": {},
   "source": [
    "From the statistics above, it seems year 1018 may be an outlier since both the mean and median year are in the 1940s."
   ]
  },
  {
   "cell_type": "code",
   "execution_count": 13,
   "id": "c66bdffa",
   "metadata": {},
   "outputs": [
    {
     "data": {
      "text/html": [
       "<div>\n",
       "<style scoped>\n",
       "    .dataframe tbody tr th:only-of-type {\n",
       "        vertical-align: middle;\n",
       "    }\n",
       "\n",
       "    .dataframe tbody tr th {\n",
       "        vertical-align: top;\n",
       "    }\n",
       "\n",
       "    .dataframe thead th {\n",
       "        text-align: right;\n",
       "    }\n",
       "</style>\n",
       "<table border=\"1\" class=\"dataframe\">\n",
       "  <thead>\n",
       "    <tr style=\"text-align: right;\">\n",
       "      <th></th>\n",
       "      <th>neighborhood</th>\n",
       "      <th>building_class_at_time_of_sale</th>\n",
       "      <th>block</th>\n",
       "      <th>lot</th>\n",
       "      <th>residential_units</th>\n",
       "      <th>tax_class_at_time_of_sale</th>\n",
       "      <th>year_built</th>\n",
       "      <th>sale_price</th>\n",
       "      <th>sale_date</th>\n",
       "    </tr>\n",
       "  </thead>\n",
       "  <tbody>\n",
       "    <tr>\n",
       "      <th>66</th>\n",
       "      <td>ARVERNE</td>\n",
       "      <td>B2</td>\n",
       "      <td>15915.0</td>\n",
       "      <td>71.0</td>\n",
       "      <td>2</td>\n",
       "      <td>1.0</td>\n",
       "      <td>1018.0</td>\n",
       "      <td>10.0</td>\n",
       "      <td>2020-10-21</td>\n",
       "    </tr>\n",
       "    <tr>\n",
       "      <th>100</th>\n",
       "      <td>ARVERNE</td>\n",
       "      <td>B2</td>\n",
       "      <td>15915.0</td>\n",
       "      <td>71.0</td>\n",
       "      <td>2</td>\n",
       "      <td>1.0</td>\n",
       "      <td>1018.0</td>\n",
       "      <td>0.0</td>\n",
       "      <td>2019-04-11</td>\n",
       "    </tr>\n",
       "    <tr>\n",
       "      <th>20941</th>\n",
       "      <td>RIDGEWOOD</td>\n",
       "      <td>R1</td>\n",
       "      <td>3431.0</td>\n",
       "      <td>1003.0</td>\n",
       "      <td>1</td>\n",
       "      <td>2.0</td>\n",
       "      <td>1030.0</td>\n",
       "      <td>485000.0</td>\n",
       "      <td>2019-04-05</td>\n",
       "    </tr>\n",
       "  </tbody>\n",
       "</table>\n",
       "</div>"
      ],
      "text/plain": [
       "      neighborhood building_class_at_time_of_sale    block     lot  \\\n",
       "66         ARVERNE                             B2  15915.0    71.0   \n",
       "100        ARVERNE                             B2  15915.0    71.0   \n",
       "20941    RIDGEWOOD                             R1   3431.0  1003.0   \n",
       "\n",
       "       residential_units tax_class_at_time_of_sale  year_built  sale_price  \\\n",
       "66                     2                       1.0      1018.0        10.0   \n",
       "100                    2                       1.0      1018.0         0.0   \n",
       "20941                  1                       2.0      1030.0    485000.0   \n",
       "\n",
       "       sale_date  \n",
       "66    2020-10-21  \n",
       "100   2019-04-11  \n",
       "20941 2019-04-05  "
      ]
     },
     "execution_count": 13,
     "metadata": {},
     "output_type": "execute_result"
    }
   ],
   "source": [
    "data[data.year_built < 1800]"
   ]
  },
  {
   "cell_type": "markdown",
   "id": "8b4570fa",
   "metadata": {},
   "source": [
    "Investigate it a bit further, only 3 properties were built before 1800. Two built in 1018, and one built in 1030. Chances are these entries may be typos when people are entering the record.  The actual years are likely to be 1918 and 1930, and people mistyped 0 instead of 9.\n",
    "\n",
    "In any case, we should ignore these entries since we cannot trust their accuracy."
   ]
  },
  {
   "cell_type": "code",
   "execution_count": 14,
   "id": "5f0aa790",
   "metadata": {},
   "outputs": [
    {
     "data": {
      "text/plain": [
       "neighborhood                              object\n",
       "building_class_at_time_of_sale            object\n",
       "block                                   category\n",
       "lot                                     category\n",
       "residential_units                          int64\n",
       "tax_class_at_time_of_sale               category\n",
       "year_built                        datetime64[ns]\n",
       "sale_price                               float64\n",
       "sale_date                         datetime64[ns]\n",
       "dtype: object"
      ]
     },
     "execution_count": 14,
     "metadata": {},
     "output_type": "execute_result"
    }
   ],
   "source": [
    "data = data[data.year_built >= 1800]\n",
    "data.year_built = pd.to_datetime(data.year_built, format=\"%Y\")\n",
    "data.dtypes"
   ]
  },
  {
   "cell_type": "markdown",
   "id": "412e0efd",
   "metadata": {},
   "source": [
    "Now everything is in their intended data types.\n",
    "\n",
    "## Filter rows corresponding to residential property\n",
    "\n",
    "As mentioned before, the excel sheet contains all types of property sale records including parking lot, garage, factory, office building, etc. We are only interested in the residential properties, i.e. homes. The `residential_units` column may be able to help us filter the rows."
   ]
  },
  {
   "cell_type": "code",
   "execution_count": 15,
   "id": "e39f2423",
   "metadata": {
    "scrolled": true
   },
   "outputs": [
    {
     "data": {
      "text/html": [
       "<div>\n",
       "<style scoped>\n",
       "    .dataframe tbody tr th:only-of-type {\n",
       "        vertical-align: middle;\n",
       "    }\n",
       "\n",
       "    .dataframe tbody tr th {\n",
       "        vertical-align: top;\n",
       "    }\n",
       "\n",
       "    .dataframe thead th {\n",
       "        text-align: right;\n",
       "    }\n",
       "</style>\n",
       "<table border=\"1\" class=\"dataframe\">\n",
       "  <thead>\n",
       "    <tr style=\"text-align: right;\">\n",
       "      <th></th>\n",
       "      <th>neighborhood</th>\n",
       "      <th>building_class_at_time_of_sale</th>\n",
       "      <th>block</th>\n",
       "      <th>lot</th>\n",
       "      <th>residential_units</th>\n",
       "      <th>tax_class_at_time_of_sale</th>\n",
       "      <th>year_built</th>\n",
       "      <th>sale_price</th>\n",
       "      <th>sale_date</th>\n",
       "    </tr>\n",
       "  </thead>\n",
       "  <tbody>\n",
       "    <tr>\n",
       "      <th>215</th>\n",
       "      <td>ARVERNE</td>\n",
       "      <td>H3</td>\n",
       "      <td>15852.0</td>\n",
       "      <td>60.0</td>\n",
       "      <td>0</td>\n",
       "      <td>4.0</td>\n",
       "      <td>2012-01-01</td>\n",
       "      <td>25000000.0</td>\n",
       "      <td>2021-08-26</td>\n",
       "    </tr>\n",
       "    <tr>\n",
       "      <th>216</th>\n",
       "      <td>ARVERNE</td>\n",
       "      <td>F5</td>\n",
       "      <td>15857.0</td>\n",
       "      <td>1.0</td>\n",
       "      <td>0</td>\n",
       "      <td>4.0</td>\n",
       "      <td>1931-01-01</td>\n",
       "      <td>90400000.0</td>\n",
       "      <td>2021-11-18</td>\n",
       "    </tr>\n",
       "    <tr>\n",
       "      <th>217</th>\n",
       "      <td>ARVERNE</td>\n",
       "      <td>F5</td>\n",
       "      <td>15857.0</td>\n",
       "      <td>7.0</td>\n",
       "      <td>0</td>\n",
       "      <td>4.0</td>\n",
       "      <td>1949-01-01</td>\n",
       "      <td>7750000.0</td>\n",
       "      <td>2021-04-09</td>\n",
       "    </tr>\n",
       "    <tr>\n",
       "      <th>219</th>\n",
       "      <td>ARVERNE</td>\n",
       "      <td>G1</td>\n",
       "      <td>16078.0</td>\n",
       "      <td>6.0</td>\n",
       "      <td>0</td>\n",
       "      <td>4.0</td>\n",
       "      <td>1920-01-01</td>\n",
       "      <td>410000.0</td>\n",
       "      <td>2021-04-29</td>\n",
       "    </tr>\n",
       "    <tr>\n",
       "      <th>220</th>\n",
       "      <td>ARVERNE</td>\n",
       "      <td>E9</td>\n",
       "      <td>16006.0</td>\n",
       "      <td>1.0</td>\n",
       "      <td>0</td>\n",
       "      <td>4.0</td>\n",
       "      <td>1965-01-01</td>\n",
       "      <td>1500000.0</td>\n",
       "      <td>2021-02-23</td>\n",
       "    </tr>\n",
       "    <tr>\n",
       "      <th>...</th>\n",
       "      <td>...</td>\n",
       "      <td>...</td>\n",
       "      <td>...</td>\n",
       "      <td>...</td>\n",
       "      <td>...</td>\n",
       "      <td>...</td>\n",
       "      <td>...</td>\n",
       "      <td>...</td>\n",
       "      <td>...</td>\n",
       "    </tr>\n",
       "    <tr>\n",
       "      <th>26416</th>\n",
       "      <td>WOODSIDE</td>\n",
       "      <td>RB</td>\n",
       "      <td>1307.0</td>\n",
       "      <td>1101.0</td>\n",
       "      <td>0</td>\n",
       "      <td>4.0</td>\n",
       "      <td>2007-01-01</td>\n",
       "      <td>0.0</td>\n",
       "      <td>2019-06-27</td>\n",
       "    </tr>\n",
       "    <tr>\n",
       "      <th>26417</th>\n",
       "      <td>WOODSIDE</td>\n",
       "      <td>RP</td>\n",
       "      <td>1183.0</td>\n",
       "      <td>1033.0</td>\n",
       "      <td>0</td>\n",
       "      <td>4.0</td>\n",
       "      <td>2008-01-01</td>\n",
       "      <td>0.0</td>\n",
       "      <td>2019-03-15</td>\n",
       "    </tr>\n",
       "    <tr>\n",
       "      <th>26418</th>\n",
       "      <td>WOODSIDE</td>\n",
       "      <td>RG</td>\n",
       "      <td>1299.0</td>\n",
       "      <td>1015.0</td>\n",
       "      <td>0</td>\n",
       "      <td>4.0</td>\n",
       "      <td>2008-01-01</td>\n",
       "      <td>35000.0</td>\n",
       "      <td>2019-04-11</td>\n",
       "    </tr>\n",
       "    <tr>\n",
       "      <th>26419</th>\n",
       "      <td>WOODSIDE</td>\n",
       "      <td>RG</td>\n",
       "      <td>1307.0</td>\n",
       "      <td>1122.0</td>\n",
       "      <td>0</td>\n",
       "      <td>4.0</td>\n",
       "      <td>2007-01-01</td>\n",
       "      <td>665000.0</td>\n",
       "      <td>2019-10-17</td>\n",
       "    </tr>\n",
       "    <tr>\n",
       "      <th>26420</th>\n",
       "      <td>WOODSIDE</td>\n",
       "      <td>RG</td>\n",
       "      <td>2324.0</td>\n",
       "      <td>1111.0</td>\n",
       "      <td>0</td>\n",
       "      <td>4.0</td>\n",
       "      <td>2008-01-01</td>\n",
       "      <td>28000.0</td>\n",
       "      <td>2019-02-26</td>\n",
       "    </tr>\n",
       "  </tbody>\n",
       "</table>\n",
       "<p>2835 rows × 9 columns</p>\n",
       "</div>"
      ],
      "text/plain": [
       "      neighborhood building_class_at_time_of_sale    block     lot  \\\n",
       "215        ARVERNE                             H3  15852.0    60.0   \n",
       "216        ARVERNE                             F5  15857.0     1.0   \n",
       "217        ARVERNE                             F5  15857.0     7.0   \n",
       "219        ARVERNE                             G1  16078.0     6.0   \n",
       "220        ARVERNE                             E9  16006.0     1.0   \n",
       "...            ...                            ...      ...     ...   \n",
       "26416     WOODSIDE                             RB   1307.0  1101.0   \n",
       "26417     WOODSIDE                             RP   1183.0  1033.0   \n",
       "26418     WOODSIDE                             RG   1299.0  1015.0   \n",
       "26419     WOODSIDE                             RG   1307.0  1122.0   \n",
       "26420     WOODSIDE                             RG   2324.0  1111.0   \n",
       "\n",
       "       residential_units tax_class_at_time_of_sale year_built  sale_price  \\\n",
       "215                    0                       4.0 2012-01-01  25000000.0   \n",
       "216                    0                       4.0 1931-01-01  90400000.0   \n",
       "217                    0                       4.0 1949-01-01   7750000.0   \n",
       "219                    0                       4.0 1920-01-01    410000.0   \n",
       "220                    0                       4.0 1965-01-01   1500000.0   \n",
       "...                  ...                       ...        ...         ...   \n",
       "26416                  0                       4.0 2007-01-01         0.0   \n",
       "26417                  0                       4.0 2008-01-01         0.0   \n",
       "26418                  0                       4.0 2008-01-01     35000.0   \n",
       "26419                  0                       4.0 2007-01-01    665000.0   \n",
       "26420                  0                       4.0 2008-01-01     28000.0   \n",
       "\n",
       "       sale_date  \n",
       "215   2021-08-26  \n",
       "216   2021-11-18  \n",
       "217   2021-04-09  \n",
       "219   2021-04-29  \n",
       "220   2021-02-23  \n",
       "...          ...  \n",
       "26416 2019-06-27  \n",
       "26417 2019-03-15  \n",
       "26418 2019-04-11  \n",
       "26419 2019-10-17  \n",
       "26420 2019-02-26  \n",
       "\n",
       "[2835 rows x 9 columns]"
      ]
     },
     "execution_count": 15,
     "metadata": {},
     "output_type": "execute_result"
    }
   ],
   "source": [
    "data[data.residential_units==0]"
   ]
  },
  {
   "cell_type": "markdown",
   "id": "d6a8f6af",
   "metadata": {},
   "source": [
    "It is OK to assume that if `residential_units == 0`, the property is not a home. For the sake of this exercise, let's also focus on the record where `residential_units == 1` for simplicity.\n",
    "\n",
    "Also, we are interested in the buying and selling of homes. So the `sale_price` should not be 0. Zero sale price may indicate some form of ownership change without monetary exchange."
   ]
  },
  {
   "cell_type": "code",
   "execution_count": 16,
   "id": "7c0fa82a",
   "metadata": {
    "scrolled": true
   },
   "outputs": [
    {
     "data": {
      "text/html": [
       "<div>\n",
       "<style scoped>\n",
       "    .dataframe tbody tr th:only-of-type {\n",
       "        vertical-align: middle;\n",
       "    }\n",
       "\n",
       "    .dataframe tbody tr th {\n",
       "        vertical-align: top;\n",
       "    }\n",
       "\n",
       "    .dataframe thead th {\n",
       "        text-align: right;\n",
       "    }\n",
       "</style>\n",
       "<table border=\"1\" class=\"dataframe\">\n",
       "  <thead>\n",
       "    <tr style=\"text-align: right;\">\n",
       "      <th></th>\n",
       "      <th>neighborhood</th>\n",
       "      <th>building_class_at_time_of_sale</th>\n",
       "      <th>block</th>\n",
       "      <th>lot</th>\n",
       "      <th>residential_units</th>\n",
       "      <th>tax_class_at_time_of_sale</th>\n",
       "      <th>year_built</th>\n",
       "      <th>sale_price</th>\n",
       "      <th>sale_date</th>\n",
       "    </tr>\n",
       "  </thead>\n",
       "  <tbody>\n",
       "    <tr>\n",
       "      <th>1</th>\n",
       "      <td>AIRPORT LA GUARDIA</td>\n",
       "      <td>A5</td>\n",
       "      <td>949.0</td>\n",
       "      <td>24.0</td>\n",
       "      <td>1</td>\n",
       "      <td>1.0</td>\n",
       "      <td>1945-01-01</td>\n",
       "      <td>0.0</td>\n",
       "      <td>2021-05-27</td>\n",
       "    </tr>\n",
       "    <tr>\n",
       "      <th>4</th>\n",
       "      <td>AIRPORT LA GUARDIA</td>\n",
       "      <td>A5</td>\n",
       "      <td>976.0</td>\n",
       "      <td>15.0</td>\n",
       "      <td>1</td>\n",
       "      <td>1.0</td>\n",
       "      <td>1950-01-01</td>\n",
       "      <td>0.0</td>\n",
       "      <td>2021-04-30</td>\n",
       "    </tr>\n",
       "    <tr>\n",
       "      <th>7</th>\n",
       "      <td>AIRPORT LA GUARDIA</td>\n",
       "      <td>B1</td>\n",
       "      <td>976.0</td>\n",
       "      <td>1.0</td>\n",
       "      <td>2</td>\n",
       "      <td>1.0</td>\n",
       "      <td>1950-01-01</td>\n",
       "      <td>0.0</td>\n",
       "      <td>2021-08-29</td>\n",
       "    </tr>\n",
       "    <tr>\n",
       "      <th>9</th>\n",
       "      <td>AIRPORT LA GUARDIA</td>\n",
       "      <td>C0</td>\n",
       "      <td>949.0</td>\n",
       "      <td>59.0</td>\n",
       "      <td>3</td>\n",
       "      <td>1.0</td>\n",
       "      <td>1945-01-01</td>\n",
       "      <td>0.0</td>\n",
       "      <td>2021-11-08</td>\n",
       "    </tr>\n",
       "    <tr>\n",
       "      <th>10</th>\n",
       "      <td>ARVERNE</td>\n",
       "      <td>A5</td>\n",
       "      <td>15828.0</td>\n",
       "      <td>53.0</td>\n",
       "      <td>1</td>\n",
       "      <td>1.0</td>\n",
       "      <td>2002-01-01</td>\n",
       "      <td>0.0</td>\n",
       "      <td>2021-03-30</td>\n",
       "    </tr>\n",
       "    <tr>\n",
       "      <th>...</th>\n",
       "      <td>...</td>\n",
       "      <td>...</td>\n",
       "      <td>...</td>\n",
       "      <td>...</td>\n",
       "      <td>...</td>\n",
       "      <td>...</td>\n",
       "      <td>...</td>\n",
       "      <td>...</td>\n",
       "      <td>...</td>\n",
       "    </tr>\n",
       "    <tr>\n",
       "      <th>26399</th>\n",
       "      <td>WOODSIDE</td>\n",
       "      <td>F4</td>\n",
       "      <td>1294.0</td>\n",
       "      <td>68.0</td>\n",
       "      <td>0</td>\n",
       "      <td>4.0</td>\n",
       "      <td>1958-01-01</td>\n",
       "      <td>0.0</td>\n",
       "      <td>2019-05-14</td>\n",
       "    </tr>\n",
       "    <tr>\n",
       "      <th>26402</th>\n",
       "      <td>WOODSIDE</td>\n",
       "      <td>F5</td>\n",
       "      <td>2318.0</td>\n",
       "      <td>28.0</td>\n",
       "      <td>0</td>\n",
       "      <td>4.0</td>\n",
       "      <td>1929-01-01</td>\n",
       "      <td>0.0</td>\n",
       "      <td>2019-03-29</td>\n",
       "    </tr>\n",
       "    <tr>\n",
       "      <th>26412</th>\n",
       "      <td>WOODSIDE</td>\n",
       "      <td>E9</td>\n",
       "      <td>2283.0</td>\n",
       "      <td>1.0</td>\n",
       "      <td>0</td>\n",
       "      <td>4.0</td>\n",
       "      <td>1931-01-01</td>\n",
       "      <td>0.0</td>\n",
       "      <td>2019-06-19</td>\n",
       "    </tr>\n",
       "    <tr>\n",
       "      <th>26416</th>\n",
       "      <td>WOODSIDE</td>\n",
       "      <td>RB</td>\n",
       "      <td>1307.0</td>\n",
       "      <td>1101.0</td>\n",
       "      <td>0</td>\n",
       "      <td>4.0</td>\n",
       "      <td>2007-01-01</td>\n",
       "      <td>0.0</td>\n",
       "      <td>2019-06-27</td>\n",
       "    </tr>\n",
       "    <tr>\n",
       "      <th>26417</th>\n",
       "      <td>WOODSIDE</td>\n",
       "      <td>RP</td>\n",
       "      <td>1183.0</td>\n",
       "      <td>1033.0</td>\n",
       "      <td>0</td>\n",
       "      <td>4.0</td>\n",
       "      <td>2008-01-01</td>\n",
       "      <td>0.0</td>\n",
       "      <td>2019-03-15</td>\n",
       "    </tr>\n",
       "  </tbody>\n",
       "</table>\n",
       "<p>23021 rows × 9 columns</p>\n",
       "</div>"
      ],
      "text/plain": [
       "             neighborhood building_class_at_time_of_sale    block     lot  \\\n",
       "1      AIRPORT LA GUARDIA                             A5    949.0    24.0   \n",
       "4      AIRPORT LA GUARDIA                             A5    976.0    15.0   \n",
       "7      AIRPORT LA GUARDIA                             B1    976.0     1.0   \n",
       "9      AIRPORT LA GUARDIA                             C0    949.0    59.0   \n",
       "10                ARVERNE                             A5  15828.0    53.0   \n",
       "...                   ...                            ...      ...     ...   \n",
       "26399            WOODSIDE                             F4   1294.0    68.0   \n",
       "26402            WOODSIDE                             F5   2318.0    28.0   \n",
       "26412            WOODSIDE                             E9   2283.0     1.0   \n",
       "26416            WOODSIDE                             RB   1307.0  1101.0   \n",
       "26417            WOODSIDE                             RP   1183.0  1033.0   \n",
       "\n",
       "       residential_units tax_class_at_time_of_sale year_built  sale_price  \\\n",
       "1                      1                       1.0 1945-01-01         0.0   \n",
       "4                      1                       1.0 1950-01-01         0.0   \n",
       "7                      2                       1.0 1950-01-01         0.0   \n",
       "9                      3                       1.0 1945-01-01         0.0   \n",
       "10                     1                       1.0 2002-01-01         0.0   \n",
       "...                  ...                       ...        ...         ...   \n",
       "26399                  0                       4.0 1958-01-01         0.0   \n",
       "26402                  0                       4.0 1929-01-01         0.0   \n",
       "26412                  0                       4.0 1931-01-01         0.0   \n",
       "26416                  0                       4.0 2007-01-01         0.0   \n",
       "26417                  0                       4.0 2008-01-01         0.0   \n",
       "\n",
       "       sale_date  \n",
       "1     2021-05-27  \n",
       "4     2021-04-30  \n",
       "7     2021-08-29  \n",
       "9     2021-11-08  \n",
       "10    2021-03-30  \n",
       "...          ...  \n",
       "26399 2019-05-14  \n",
       "26402 2019-03-29  \n",
       "26412 2019-06-19  \n",
       "26416 2019-06-27  \n",
       "26417 2019-03-15  \n",
       "\n",
       "[23021 rows x 9 columns]"
      ]
     },
     "execution_count": 16,
     "metadata": {},
     "output_type": "execute_result"
    }
   ],
   "source": [
    "data[data.sale_price <= 0]"
   ]
  },
  {
   "cell_type": "markdown",
   "id": "c6a0e0c8",
   "metadata": {},
   "source": [
    "The last thing we can use for filtering is the `building_class_at_time_of_sale` column. According to [NYC building classification](https://www.nyc.gov/assets/finance/jump/hlpbldgcode.html), only building code starts with \"A\", \"B\", \"C\", \"D\" and \"R\" can be residential properties. For building code that starts with \"R\", it is a residential unit only if the second letter following \"R\" is a number.\n",
    "\n",
    "This means we should separate `building_class_at_time_of_sale` into 2 columns: one containing the first letter of the building code, the second containing the rest of the building code."
   ]
  },
  {
   "cell_type": "code",
   "execution_count": 17,
   "id": "14084119",
   "metadata": {},
   "outputs": [
    {
     "data": {
      "text/plain": [
       "building_class_1\n",
       "A    26616\n",
       "B    16444\n",
       "C     5436\n",
       "D      154\n",
       "E      331\n",
       "F      183\n",
       "G      371\n",
       "H       15\n",
       "I       19\n",
       "J        7\n",
       "K      866\n",
       "M       72\n",
       "N       11\n",
       "O      247\n",
       "P       28\n",
       "Q        5\n",
       "R     7868\n",
       "S     1314\n",
       "V       65\n",
       "W       23\n",
       "Y        1\n",
       "Z       33\n",
       "Name: building_class_1, dtype: int64"
      ]
     },
     "execution_count": 17,
     "metadata": {},
     "output_type": "execute_result"
    }
   ],
   "source": [
    "data[\"building_class_1\"] = data.building_class_at_time_of_sale.str[0]\n",
    "data[\"building_class_2\"] = data.building_class_at_time_of_sale.str[1:]\n",
    "data.groupby(\"building_class_1\").building_class_1.count()"
   ]
  },
  {
   "cell_type": "markdown",
   "id": "01267afa",
   "metadata": {},
   "source": [
    "In the code above, we split `building_class_at_time_of_sale` accordingly into `building_class_1` (the first letter) and `building_class_2` (the rest). We can now count the number of entries for each category in `building_class_1` using the `groupby()`.  It shows most sale records are either in the `A` or `B` building class category.\n",
    "\n",
    "Now, let's carry out the filtering on all criteria mentioned before."
   ]
  },
  {
   "cell_type": "code",
   "execution_count": 18,
   "id": "b7f2171a",
   "metadata": {},
   "outputs": [
    {
     "name": "stdout",
     "output_type": "stream",
     "text": [
      "<class 'pandas.core.frame.DataFrame'>\n",
      "Int64Index: 22593 entries, 2 to 26375\n",
      "Data columns (total 11 columns):\n",
      " #   Column                          Non-Null Count  Dtype         \n",
      "---  ------                          --------------  -----         \n",
      " 0   neighborhood                    22593 non-null  object        \n",
      " 1   building_class_at_time_of_sale  22593 non-null  object        \n",
      " 2   block                           22593 non-null  category      \n",
      " 3   lot                             22593 non-null  category      \n",
      " 4   residential_units               22593 non-null  int64         \n",
      " 5   tax_class_at_time_of_sale       22593 non-null  category      \n",
      " 6   year_built                      22593 non-null  datetime64[ns]\n",
      " 7   sale_price                      22593 non-null  float64       \n",
      " 8   sale_date                       22593 non-null  datetime64[ns]\n",
      " 9   building_class_1                22593 non-null  object        \n",
      " 10  building_class_2                22593 non-null  object        \n",
      "dtypes: category(3), datetime64[ns](2), float64(1), int64(1), object(4)\n",
      "memory usage: 2.1+ MB\n"
     ]
    }
   ],
   "source": [
    "data = data[data.building_class_1.isin([\"A\", \"B\", \"C\", \"D\", \"R\"])]\n",
    "data[data.building_class_1 == \"R\"].groupby(\"building_class_2\").count()\n",
    "valid_class_2 = list(map(str, range(1,10)))\n",
    "data = data[(data.building_class_1!=\"R\") | data.building_class_2.isin(valid_class_2)]\n",
    "data = data[data.residential_units == 1]\n",
    "data = data[data.sale_price > 0]\n",
    "data = data[data.tax_class_at_time_of_sale.isin([1, 2])]\n",
    "data.info()"
   ]
  },
  {
   "cell_type": "markdown",
   "id": "e8980d57",
   "metadata": {},
   "source": [
    "In the end, we are left with 34375 residential sale records.\n",
    "\n",
    "## Double checking\n",
    "\n",
    "Now we have completed all the data clean up steps. Let's double check!"
   ]
  },
  {
   "cell_type": "code",
   "execution_count": 19,
   "id": "567c44a4",
   "metadata": {
    "scrolled": true
   },
   "outputs": [
    {
     "data": {
      "text/html": [
       "<div>\n",
       "<style scoped>\n",
       "    .dataframe tbody tr th:only-of-type {\n",
       "        vertical-align: middle;\n",
       "    }\n",
       "\n",
       "    .dataframe tbody tr th {\n",
       "        vertical-align: top;\n",
       "    }\n",
       "\n",
       "    .dataframe thead th {\n",
       "        text-align: right;\n",
       "    }\n",
       "</style>\n",
       "<table border=\"1\" class=\"dataframe\">\n",
       "  <thead>\n",
       "    <tr style=\"text-align: right;\">\n",
       "      <th></th>\n",
       "      <th>neighborhood</th>\n",
       "      <th>building_class_at_time_of_sale</th>\n",
       "      <th>block</th>\n",
       "      <th>lot</th>\n",
       "      <th>residential_units</th>\n",
       "      <th>tax_class_at_time_of_sale</th>\n",
       "      <th>year_built</th>\n",
       "      <th>sale_price</th>\n",
       "      <th>sale_date</th>\n",
       "      <th>building_class_1</th>\n",
       "      <th>building_class_2</th>\n",
       "    </tr>\n",
       "  </thead>\n",
       "  <tbody>\n",
       "    <tr>\n",
       "      <th>2</th>\n",
       "      <td>AIRPORT LA GUARDIA</td>\n",
       "      <td>A5</td>\n",
       "      <td>949.0</td>\n",
       "      <td>30.0</td>\n",
       "      <td>1</td>\n",
       "      <td>1.0</td>\n",
       "      <td>1945-01-01</td>\n",
       "      <td>935000.0</td>\n",
       "      <td>2021-12-08</td>\n",
       "      <td>A</td>\n",
       "      <td>5</td>\n",
       "    </tr>\n",
       "    <tr>\n",
       "      <th>3</th>\n",
       "      <td>AIRPORT LA GUARDIA</td>\n",
       "      <td>A5</td>\n",
       "      <td>976.0</td>\n",
       "      <td>12.0</td>\n",
       "      <td>1</td>\n",
       "      <td>1.0</td>\n",
       "      <td>1950-01-01</td>\n",
       "      <td>800000.0</td>\n",
       "      <td>2021-01-11</td>\n",
       "      <td>A</td>\n",
       "      <td>5</td>\n",
       "    </tr>\n",
       "    <tr>\n",
       "      <th>5</th>\n",
       "      <td>AIRPORT LA GUARDIA</td>\n",
       "      <td>A5</td>\n",
       "      <td>976.0</td>\n",
       "      <td>26.0</td>\n",
       "      <td>1</td>\n",
       "      <td>1.0</td>\n",
       "      <td>1950-01-01</td>\n",
       "      <td>815000.0</td>\n",
       "      <td>2021-06-25</td>\n",
       "      <td>A</td>\n",
       "      <td>5</td>\n",
       "    </tr>\n",
       "    <tr>\n",
       "      <th>6</th>\n",
       "      <td>AIRPORT LA GUARDIA</td>\n",
       "      <td>A5</td>\n",
       "      <td>976.0</td>\n",
       "      <td>62.0</td>\n",
       "      <td>1</td>\n",
       "      <td>1.0</td>\n",
       "      <td>1950-01-01</td>\n",
       "      <td>950000.0</td>\n",
       "      <td>2021-08-17</td>\n",
       "      <td>A</td>\n",
       "      <td>5</td>\n",
       "    </tr>\n",
       "    <tr>\n",
       "      <th>11</th>\n",
       "      <td>ARVERNE</td>\n",
       "      <td>A2</td>\n",
       "      <td>15830.0</td>\n",
       "      <td>43.0</td>\n",
       "      <td>1</td>\n",
       "      <td>1.0</td>\n",
       "      <td>1920-01-01</td>\n",
       "      <td>397000.0</td>\n",
       "      <td>2021-07-09</td>\n",
       "      <td>A</td>\n",
       "      <td>2</td>\n",
       "    </tr>\n",
       "  </tbody>\n",
       "</table>\n",
       "</div>"
      ],
      "text/plain": [
       "          neighborhood building_class_at_time_of_sale    block   lot  \\\n",
       "2   AIRPORT LA GUARDIA                             A5    949.0  30.0   \n",
       "3   AIRPORT LA GUARDIA                             A5    976.0  12.0   \n",
       "5   AIRPORT LA GUARDIA                             A5    976.0  26.0   \n",
       "6   AIRPORT LA GUARDIA                             A5    976.0  62.0   \n",
       "11             ARVERNE                             A2  15830.0  43.0   \n",
       "\n",
       "    residential_units tax_class_at_time_of_sale year_built  sale_price  \\\n",
       "2                   1                       1.0 1945-01-01    935000.0   \n",
       "3                   1                       1.0 1950-01-01    800000.0   \n",
       "5                   1                       1.0 1950-01-01    815000.0   \n",
       "6                   1                       1.0 1950-01-01    950000.0   \n",
       "11                  1                       1.0 1920-01-01    397000.0   \n",
       "\n",
       "    sale_date building_class_1 building_class_2  \n",
       "2  2021-12-08                A                5  \n",
       "3  2021-01-11                A                5  \n",
       "5  2021-06-25                A                5  \n",
       "6  2021-08-17                A                5  \n",
       "11 2021-07-09                A                2  "
      ]
     },
     "execution_count": 19,
     "metadata": {},
     "output_type": "execute_result"
    }
   ],
   "source": [
    "data.head()"
   ]
  },
  {
   "cell_type": "markdown",
   "id": "0a95e87e",
   "metadata": {},
   "source": [
    "The first couple rows look good to me!  Let's try to run some statistical analysis."
   ]
  },
  {
   "cell_type": "code",
   "execution_count": 20,
   "id": "7cf00241",
   "metadata": {},
   "outputs": [
    {
     "data": {
      "text/plain": [
       "neighborhood\n",
       "FLUSHING-NORTH              2577\n",
       "LONG ISLAND CITY            1653\n",
       "BAYSIDE                     1153\n",
       "ST. ALBANS                   971\n",
       "QUEENS VILLAGE               892\n",
       "SO. JAMAICA-BAISLEY PARK     828\n",
       "FLUSHING-SOUTH               784\n",
       "SPRINGFIELD GARDENS          724\n",
       "SOUTH OZONE PARK             592\n",
       "MIDDLE VILLAGE               576\n",
       "HOWARD BEACH                 559\n",
       "HOLLIS                       553\n",
       "ELMHURST                     550\n",
       "ASTORIA                      550\n",
       "FOREST HILLS                 535\n",
       "LAURELTON                    524\n",
       "RICHMOND HILL                520\n",
       "SOUTH JAMAICA                484\n",
       "ROSEDALE                     447\n",
       "WHITESTONE                   439\n",
       "OZONE PARK                   387\n",
       "CAMBRIA HEIGHTS              349\n",
       "REGO PARK                    347\n",
       "WOODHAVEN                    334\n",
       "FLORAL PARK                  327\n",
       "BELLEROSE                    313\n",
       "JACKSON HEIGHTS              295\n",
       "FAR ROCKAWAY                 270\n",
       "DOUGLASTON                   270\n",
       "LITTLE NECK                  261\n",
       "COLLEGE POINT                253\n",
       "GLENDALE                     250\n",
       "MASPETH                      249\n",
       "FRESH MEADOWS                216\n",
       "OAKLAND GARDENS              194\n",
       "EAST ELMHURST                177\n",
       "JAMAICA ESTATES              156\n",
       "CORONA                       153\n",
       "ROCKAWAY PARK                139\n",
       "BEECHHURST                   136\n",
       "HILLCREST                    133\n",
       "KEW GARDENS                  130\n",
       "WOODSIDE                     129\n",
       "ARVERNE                      123\n",
       "HOLLISWOOD                   114\n",
       "BRIARWOOD                    108\n",
       "HOLLIS HILLS                 103\n",
       "BROAD CHANNEL                 99\n",
       "JAMAICA                       98\n",
       "BELLE HARBOR                  94\n",
       "HAMMELS                       89\n",
       "RIDGEWOOD                     86\n",
       "SUNNYSIDE                     78\n",
       "JAMAICA HILLS                 73\n",
       "NEPONSIT                      61\n",
       "GLEN OAKS                     61\n",
       "JAMAICA BAY                   19\n",
       "AIRPORT LA GUARDIA             8\n",
       "Name: sale_price, dtype: int64"
      ]
     },
     "execution_count": 20,
     "metadata": {},
     "output_type": "execute_result"
    }
   ],
   "source": [
    "data.groupby(\"neighborhood\").sale_price.count().sort_values(ascending=False)"
   ]
  },
  {
   "cell_type": "markdown",
   "id": "6643a1f2",
   "metadata": {},
   "source": [
    "In the code above, we group records by neighborhood and count the number of records in each neighborhood. It shows that Flushing-North has the most active residential real estate market with over 3000 records from 2019 to 2021. Long Island City is a distant second."
   ]
  },
  {
   "cell_type": "code",
   "execution_count": 21,
   "id": "2b2808c9",
   "metadata": {
    "scrolled": false
   },
   "outputs": [
    {
     "data": {
      "text/plain": [
       "neighborhood\n",
       "FLUSHING-NORTH              3.353200e+09\n",
       "ELMHURST                    1.888525e+09\n",
       "LONG ISLAND CITY            1.833825e+09\n",
       "BAYSIDE                     9.743075e+08\n",
       "FOREST HILLS                6.115548e+08\n",
       "FLUSHING-SOUTH              5.891606e+08\n",
       "QUEENS VILLAGE              4.808491e+08\n",
       "ST. ALBANS                  4.572763e+08\n",
       "WHITESTONE                  4.249463e+08\n",
       "ASTORIA                     4.156667e+08\n",
       "MIDDLE VILLAGE              4.003844e+08\n",
       "SO. JAMAICA-BAISLEY PARK    3.774314e+08\n",
       "SPRINGFIELD GARDENS         3.454123e+08\n",
       "HOWARD BEACH                3.344731e+08\n",
       "SOUTH OZONE PARK            3.114146e+08\n",
       "HOLLIS                      2.972953e+08\n",
       "RICHMOND HILL               2.902529e+08\n",
       "DOUGLASTON                  2.727235e+08\n",
       "LITTLE NECK                 2.505815e+08\n",
       "LAURELTON                   2.472694e+08\n",
       "REGO PARK                   2.429241e+08\n",
       "FLORAL PARK                 2.285595e+08\n",
       "ROSEDALE                    2.253296e+08\n",
       "JACKSON HEIGHTS             2.183549e+08\n",
       "SOUTH JAMAICA               2.170615e+08\n",
       "OZONE PARK                  2.088627e+08\n",
       "FRESH MEADOWS               2.058753e+08\n",
       "BELLEROSE                   2.045352e+08\n",
       "JAMAICA ESTATES             1.921494e+08\n",
       "WOODHAVEN                   1.870177e+08\n",
       "GLENDALE                    1.717588e+08\n",
       "COLLEGE POINT               1.707827e+08\n",
       "MASPETH                     1.700764e+08\n",
       "OAKLAND GARDENS             1.698407e+08\n",
       "CAMBRIA HEIGHTS             1.645561e+08\n",
       "FAR ROCKAWAY                1.510499e+08\n",
       "BEECHHURST                  1.476664e+08\n",
       "HOLLISWOOD                  1.202630e+08\n",
       "EAST ELMHURST               1.114369e+08\n",
       "KEW GARDENS                 1.067662e+08\n",
       "HOLLIS HILLS                1.014199e+08\n",
       "BELLE HARBOR                8.904936e+07\n",
       "WOODSIDE                    8.452573e+07\n",
       "ROCKAWAY PARK               8.036536e+07\n",
       "HILLCREST                   8.027788e+07\n",
       "CORONA                      7.549100e+07\n",
       "NEPONSIT                    6.709862e+07\n",
       "BRIARWOOD                   6.553751e+07\n",
       "SUNNYSIDE                   6.394592e+07\n",
       "RIDGEWOOD                   5.996342e+07\n",
       "JAMAICA                     5.769952e+07\n",
       "JAMAICA HILLS               5.388557e+07\n",
       "ARVERNE                     4.505252e+07\n",
       "GLEN OAKS                   4.351537e+07\n",
       "BROAD CHANNEL               3.879199e+07\n",
       "HAMMELS                     3.412182e+07\n",
       "JAMAICA BAY                 8.552618e+06\n",
       "AIRPORT LA GUARDIA          6.514569e+06\n",
       "Name: sale_price, dtype: float64"
      ]
     },
     "execution_count": 21,
     "metadata": {},
     "output_type": "execute_result"
    }
   ],
   "source": [
    "data.groupby(\"neighborhood\").sale_price.sum().sort_values(ascending=False)"
   ]
  },
  {
   "cell_type": "markdown",
   "id": "59807af7",
   "metadata": {},
   "source": [
    "Here, instead of counting the number of records, we compute the total sale value of all residential properties in each neighborhood.  Again, Flushing-North comes to the top, and Elmhurst is a distant second."
   ]
  },
  {
   "cell_type": "code",
   "execution_count": 22,
   "id": "2dd25d9e",
   "metadata": {},
   "outputs": [
    {
     "data": {
      "text/plain": [
       "neighborhood\n",
       "LONG ISLAND CITY            769\n",
       "FLUSHING-NORTH              500\n",
       "FOREST HILLS                258\n",
       "BAYSIDE                     205\n",
       "WHITESTONE                  122\n",
       "ELMHURST                    107\n",
       "DOUGLASTON                  100\n",
       "JAMAICA ESTATES              93\n",
       "ASTORIA                      77\n",
       "FLUSHING-SOUTH               77\n",
       "LITTLE NECK                  67\n",
       "BEECHHURST                   67\n",
       "FRESH MEADOWS                62\n",
       "HOLLISWOOD                   43\n",
       "KEW GARDENS                  38\n",
       "NEPONSIT                     31\n",
       "OAKLAND GARDENS              30\n",
       "REGO PARK                    29\n",
       "BELLE HARBOR                 26\n",
       "JACKSON HEIGHTS              26\n",
       "HOLLIS HILLS                 25\n",
       "SUNNYSIDE                    23\n",
       "HOWARD BEACH                 22\n",
       "FAR ROCKAWAY                 20\n",
       "MIDDLE VILLAGE               18\n",
       "FLORAL PARK                  17\n",
       "ROSEDALE                      9\n",
       "COLLEGE POINT                 9\n",
       "GLEN OAKS                     8\n",
       "SPRINGFIELD GARDENS           8\n",
       "ROCKAWAY PARK                 7\n",
       "JAMAICA                       6\n",
       "MASPETH                       5\n",
       "BELLEROSE                     5\n",
       "HILLCREST                     5\n",
       "EAST ELMHURST                 5\n",
       "RIDGEWOOD                     5\n",
       "SOUTH OZONE PARK              5\n",
       "JAMAICA HILLS                 4\n",
       "SO. JAMAICA-BAISLEY PARK      3\n",
       "ST. ALBANS                    3\n",
       "GLENDALE                      3\n",
       "RICHMOND HILL                 3\n",
       "HOLLIS                        3\n",
       "WOODSIDE                      3\n",
       "SOUTH JAMAICA                 2\n",
       "OZONE PARK                    2\n",
       "LAURELTON                     1\n",
       "HAMMELS                       1\n",
       "BRIARWOOD                     1\n",
       "WOODHAVEN                     1\n",
       "Name: sale_price, dtype: int64"
      ]
     },
     "execution_count": 22,
     "metadata": {},
     "output_type": "execute_result"
    }
   ],
   "source": [
    "data[data.sale_price > 1e6].groupby(\"neighborhood\").sale_price.count().sort_values(ascending=False)"
   ]
  },
  {
   "cell_type": "markdown",
   "id": "7fba5a23",
   "metadata": {},
   "source": [
    "This time, we only focus on sales with prices above 1 million USD (i.e. very expensive homes, or average-cost home in NYC standard). This time, Long Island City comes up on top.\n",
    "\n",
    "Lastly, let's see how does pandemic impact NYC sale records using statistics."
   ]
  },
  {
   "cell_type": "code",
   "execution_count": 23,
   "id": "9d8a10cb",
   "metadata": {},
   "outputs": [
    {
     "data": {
      "text/plain": [
       "sale_date\n",
       "2019    7331\n",
       "2020    6130\n",
       "2021    9132\n",
       "Name: sale_price, dtype: int64"
      ]
     },
     "execution_count": 23,
     "metadata": {},
     "output_type": "execute_result"
    }
   ],
   "source": [
    "data.groupby(data.sale_date.dt.year).sale_price.count()"
   ]
  },
  {
   "cell_type": "markdown",
   "id": "24ca573b",
   "metadata": {},
   "source": [
    "Note the number of property sale records visibly decreased in 2020, but it bounced back in 2021."
   ]
  },
  {
   "cell_type": "code",
   "execution_count": 24,
   "id": "fe89d261",
   "metadata": {},
   "outputs": [
    {
     "data": {
      "text/plain": [
       "sale_date  sale_date\n",
       "2019       1            1610\n",
       "           2            1759\n",
       "           3            1965\n",
       "           4            1997\n",
       "2020       1            1753\n",
       "           2             981\n",
       "           3            1450\n",
       "           4            1946\n",
       "2021       1            1982\n",
       "           2            2322\n",
       "           3            2509\n",
       "           4            2319\n",
       "Name: sale_price, dtype: int64"
      ]
     },
     "execution_count": 24,
     "metadata": {},
     "output_type": "execute_result"
    }
   ],
   "source": [
    "data.groupby([data.sale_date.dt.year, data.sale_date.dt.quarter])\\\n",
    "    .sale_price.count()"
   ]
  },
  {
   "cell_type": "markdown",
   "id": "4a7446db",
   "metadata": {},
   "source": [
    "We can also aggregate sales data by quarter as shown above. It shows the second quarter of 2020 takes the hardest hit as the number of sale records is roughly half of the number in Q2 2019."
   ]
  },
  {
   "cell_type": "markdown",
   "id": "1a766056",
   "metadata": {},
   "source": [
    "## Saving data\n",
    "\n",
    "With everything looking good, let's save the cleaned up data for later usage."
   ]
  },
  {
   "cell_type": "code",
   "execution_count": 25,
   "id": "f4bedb66",
   "metadata": {},
   "outputs": [],
   "source": [
    "data.to_excel(\"queens_residential_property_sale_record.xlsx\")"
   ]
  },
  {
   "cell_type": "markdown",
   "id": "ec1b42d4",
   "metadata": {},
   "source": [
    "## Summary\n",
    "\n",
    "In this exercise, we walked through the process of cleaning up New York property sale record dataset. Here is a summary of the pandas functionality we used and their documentation:\n",
    "\n",
    "* `pd.read_excel` [doc](https://pandas.pydata.org/docs/reference/api/pandas.read_excel.html)\n",
    "* `pd.DataFrame` [doc](https://pandas.pydata.org/docs/reference/frame.html)\n",
    "  * `pd.DataFrame.describe` [doc](https://pandas.pydata.org/docs/reference/api/pandas.DataFrame.describe.html#pandas.DataFrame.describe)\n",
    "  * `pd.DataFrame.info` [doc](https://pandas.pydata.org/docs/reference/api/pandas.DataFrame.info.html#pandas.DataFrame.info)\n",
    "  * `pd.DataFrame.columns` [doc](https://pandas.pydata.org/docs/reference/api/pandas.DataFrame.columns.html#pandas.DataFrame.columns)\n",
    "  * `pd.DataFrame.head` [doc](https://pandas.pydata.org/docs/reference/api/pandas.DataFrame.head.html#pandas.DataFrame.head)\n",
    "  * `pd.DataFrame.dtypes` [doc](https://pandas.pydata.org/docs/reference/api/pandas.DataFrame.dtypes.html#pandas.DataFrame.dtypes)\n",
    "  * `pd.DataFrame.isna` [doc](https://pandas.pydata.org/docs/reference/api/pandas.DataFrame.isna.html?highlight=isna#pandas.DataFrame.isna)\n",
    "  * `pd.DataFrame.dropna` [doc](https://pandas.pydata.org/docs/reference/api/pandas.DataFrame.dropna.html?highlight=dropna#pandas.DataFrame.dropna)\n",
    "  * `pd.DataFrame.gropuby` [doc](https://pandas.pydata.org/docs/reference/api/pandas.DataFrame.groupby.html#pandas.DataFrame.groupby)\n",
    "* `pd.Series` [doc](https://pandas.pydata.org/docs/reference/series.html)\n",
    "  * `pd.Series.str` [doc](https://pandas.pydata.org/docs/reference/api/pandas.Series.str.html)\n",
    "* `pd.concat` [doc](https://pandas.pydata.org/docs/reference/api/pandas.concat.html?highlight=concat#pandas.concat)\n",
    "* `pd.to_datetime` [doc](https://pandas.pydata.org/docs/reference/api/pandas.to_datetime.html?highlight=to_datetime#pandas.to_datetime)"
   ]
  },
  {
   "cell_type": "code",
   "execution_count": null,
   "id": "f282389e",
   "metadata": {},
   "outputs": [],
   "source": []
  }
 ],
 "metadata": {
  "kernelspec": {
   "display_name": "Python 3 (ipykernel)",
   "language": "python",
   "name": "python3"
  },
  "language_info": {
   "codemirror_mode": {
    "name": "ipython",
    "version": 3
   },
   "file_extension": ".py",
   "mimetype": "text/x-python",
   "name": "python",
   "nbconvert_exporter": "python",
   "pygments_lexer": "ipython3",
   "version": "3.10.9"
  }
 },
 "nbformat": 4,
 "nbformat_minor": 5
}
