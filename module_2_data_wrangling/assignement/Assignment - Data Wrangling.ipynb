{
 "cells": [
  {
   "cell_type": "markdown",
   "id": "76760f84",
   "metadata": {},
   "source": [
    "# Assignment: Data Wrangling\n",
    "\n",
    "In this assignment, we will practice data wrangling techniques on real world data.\n",
    "\n",
    "## NYC film permits\n",
    "\n",
    "New York City is a very popular film/tv shooting location. In order to assert the exclusive usage of city properties (e.g. sidewalk, park, etc.) for this purpose, a permit is required. New York Mayor's Office of Media and Entertainment release all granted [film permits data](https://data.cityofnewyork.us/City-Government/Film-Permits/tg4x-b46p) to the public. In this part, we will do some data wrangling on this data.\n",
    "\n",
    "Let us first retrieve the data!"
   ]
  },
  {
   "cell_type": "code",
   "execution_count": 1,
   "id": "2a5b619f",
   "metadata": {},
   "outputs": [],
   "source": [
    "import pandas as pd\n",
    "\n",
    "url = \"https://data.cityofnewyork.us/api/views/tg4x-b46p/rows.csv\"\n",
    "    \n",
    "film_permits = pd.read_csv(url)"
   ]
  },
  {
   "cell_type": "markdown",
   "id": "179a42f5",
   "metadata": {},
   "source": [
    "Your task for this part is to clean up this data. Specifically, the cleaned up dataframe should have the following properties:\n",
    "1. All columns must have the correct data type.  In particular, `StartDateTime`, `EndDateTime`, `EnteredOn` should have `datetime64` as data type.\n",
    "2. The `ZipCode(s)` column may contain multiple zip codes in one cell. In the cleaned up dataframe, we will replace the `ZipCode(s)` column with `ZipCode` column, where each cell in the `ZipCode` column only contains a single zip code. Rows with multiple zip codes in the input data frame should be repeated for each zip code in the output dataframe.\n",
    "3. The output dataframe should not contain any missing data."
   ]
  },
  {
   "cell_type": "code",
   "execution_count": 2,
   "id": "8b3469a1",
   "metadata": {},
   "outputs": [],
   "source": [
    "# Your code here..."
   ]
  },
  {
   "cell_type": "markdown",
   "id": "5e428a39",
   "metadata": {},
   "source": [
    "Once the data frame is clean, please answer the following questions with code:\n",
    "1. Which borough is the most popular location for television, film and theater respectively?\n",
    "2. Which zip code is the most popular location for television, film and theater respectively?"
   ]
  },
  {
   "cell_type": "code",
   "execution_count": null,
   "id": "d6051af6",
   "metadata": {},
   "outputs": [],
   "source": [
    "# Your code here..."
   ]
  }
 ],
 "metadata": {
  "kernelspec": {
   "display_name": "Python 3 (ipykernel)",
   "language": "python",
   "name": "python3"
  },
  "language_info": {
   "codemirror_mode": {
    "name": "ipython",
    "version": 3
   },
   "file_extension": ".py",
   "mimetype": "text/x-python",
   "name": "python",
   "nbconvert_exporter": "python",
   "pygments_lexer": "ipython3",
   "version": "3.10.9"
  }
 },
 "nbformat": 4,
 "nbformat_minor": 5
}
