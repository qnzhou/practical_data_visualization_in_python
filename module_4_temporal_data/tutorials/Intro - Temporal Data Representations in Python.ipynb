{
 "cells": [
  {
   "cell_type": "markdown",
   "id": "94bacbaf",
   "metadata": {},
   "source": [
    "# Intro: Temporal Data Representations in Python\n",
    "\n",
    "In this tutorial, we will learn about 3 related date/time data representations in Python.  Namely, `datetime.datetime`, `numpy.datetime64` and `pandas.Timestamp`.\n",
    "\n",
    "## `datetime.datetime`\n",
    "\n",
    "The standard way of processing temporal data is to use the standard `datetime` package. It supplies a few fundamental data structures to represent temporal data: `datetime.date`, `datetime.time` and `datetime.datetime`.  We will mostly lookat `datetime.datetime` here.  To create a `datetime` object, we can simply construct it by providing the year, month, day, hour, minute and second."
   ]
  },
  {
   "cell_type": "code",
   "execution_count": 1,
   "id": "73bd4924",
   "metadata": {},
   "outputs": [
    {
     "data": {
      "text/plain": [
       "'2023-01-01T01:55:30'"
      ]
     },
     "execution_count": 1,
     "metadata": {},
     "output_type": "execute_result"
    }
   ],
   "source": [
    "import datetime\n",
    "\n",
    "d = datetime.datetime(2023, 1, 1, 1, 55, 30)\n",
    "d.isoformat()"
   ]
  },
  {
   "cell_type": "markdown",
   "id": "44e51b8d",
   "metadata": {},
   "source": [
    "Note that the `isoformat()` method allows us to serialize the datetime object in [iso 8601](https://en.wikipedia.org/wiki/ISO_8601) format.  We can also omit some fields."
   ]
  },
  {
   "cell_type": "code",
   "execution_count": 2,
   "id": "1af04554",
   "metadata": {},
   "outputs": [
    {
     "data": {
      "text/plain": [
       "'2023-01-01T00:00:00'"
      ]
     },
     "execution_count": 2,
     "metadata": {},
     "output_type": "execute_result"
    }
   ],
   "source": [
    "d = datetime.datetime(2023, 1, 1)\n",
    "d.isoformat()"
   ]
  },
  {
   "cell_type": "markdown",
   "id": "213c76a9",
   "metadata": {},
   "source": [
    "We can also convert any string representing date/time in ISO 8601 format into a `datetime` object using the `fromisoformat()` method."
   ]
  },
  {
   "cell_type": "code",
   "execution_count": 3,
   "id": "f87fb41e",
   "metadata": {},
   "outputs": [
    {
     "data": {
      "text/plain": [
       "'2023-01-01T01:55:30'"
      ]
     },
     "execution_count": 3,
     "metadata": {},
     "output_type": "execute_result"
    }
   ],
   "source": [
    "d2 = datetime.datetime.fromisoformat(\"2023-01-01T01:55:30\")\n",
    "d2.isoformat()"
   ]
  },
  {
   "cell_type": "markdown",
   "id": "967b8bbb",
   "metadata": {},
   "source": [
    "Once we have a `datetime` object, we can easily extract different temporal attributes such as `year`, `month`, etc."
   ]
  },
  {
   "cell_type": "code",
   "execution_count": 4,
   "id": "a841cca1",
   "metadata": {},
   "outputs": [
    {
     "name": "stdout",
     "output_type": "stream",
     "text": [
      "year:2023\n",
      "month: 1\n",
      "day: 1\n",
      "hour: 0\n",
      "minute: 0\n",
      "second: 0\n"
     ]
    }
   ],
   "source": [
    "print(f\"\"\"year:{d.year}\n",
    "month: {d.month}\n",
    "day: {d.day}\n",
    "hour: {d.hour}\n",
    "minute: {d.minute}\n",
    "second: {d.second}\"\"\")"
   ]
  },
  {
   "cell_type": "markdown",
   "id": "e6228237",
   "metadata": {},
   "source": [
    "## `numpy.datetime64`\n",
    "\n",
    "Numpy extends the standard `datetime.datetime` representation with its `numpy.datetime64` data structure. It is able to represent a larger range of date/time. To create a `numpy.datetime64` object from a ISO 8601 format, we can simply use its constructor:"
   ]
  },
  {
   "cell_type": "code",
   "execution_count": 5,
   "id": "079d4c59",
   "metadata": {},
   "outputs": [
    {
     "data": {
      "text/plain": [
       "numpy.datetime64('2023-01-01T01:55:30')"
      ]
     },
     "execution_count": 5,
     "metadata": {},
     "output_type": "execute_result"
    }
   ],
   "source": [
    "import numpy as np\n",
    "\n",
    "d = np.datetime64(\"2023-01-01T01:55:30\")\n",
    "d"
   ]
  },
  {
   "cell_type": "markdown",
   "id": "a15150eb",
   "metadata": {},
   "source": [
    "We can also use the `item()` method to convert the `numpy.datetime64` object back to a `datetime.datetime` object. This allows us to access the same set of temporal attributes easily."
   ]
  },
  {
   "cell_type": "code",
   "execution_count": 6,
   "id": "1905aae1",
   "metadata": {},
   "outputs": [
    {
     "name": "stdout",
     "output_type": "stream",
     "text": [
      "isoformat: 2023-01-01T01:55:30\n",
      "year:2023\n",
      "month: 1\n",
      "day: 1\n",
      "hour: 1\n",
      "minute: 55\n",
      "second: 30\n"
     ]
    }
   ],
   "source": [
    "print(f\"\"\"isoformat: {d.item().isoformat()}\n",
    "year:{d.item().year}\n",
    "month: {d.item().month}\n",
    "day: {d.item().day}\n",
    "hour: {d.item().hour}\n",
    "minute: {d.item().minute}\n",
    "second: {d.item().second}\"\"\")"
   ]
  },
  {
   "cell_type": "markdown",
   "id": "3bbe327d",
   "metadata": {},
   "source": [
    "## `pandas.Timestamp`\n",
    "\n",
    "Pandas provides its date/time data structure that wraps around `numpy.datetime64`, namely `pandas.Timestamp`. It also improves the API to make working with temporal data in a data science setting easier.\n",
    "\n",
    "To create a `pandas.Timestamp` object from ISO 8601 string, we can simply use its constructor:"
   ]
  },
  {
   "cell_type": "code",
   "execution_count": 7,
   "id": "aea3a552",
   "metadata": {},
   "outputs": [
    {
     "data": {
      "text/plain": [
       "Timestamp('2023-01-01 01:55:30-0500', tz='pytz.FixedOffset(-300)')"
      ]
     },
     "execution_count": 7,
     "metadata": {},
     "output_type": "execute_result"
    }
   ],
   "source": [
    "import pandas as pd\n",
    "\n",
    "d = pd.to_datetime(\"2023-01-01T01:55:30-0500\")\n",
    "d"
   ]
  },
  {
   "cell_type": "markdown",
   "id": "d519bba4",
   "metadata": {},
   "source": [
    "It supports the same set of temporal attributes as `datetime.datetime`:"
   ]
  },
  {
   "cell_type": "code",
   "execution_count": 8,
   "id": "00536e28",
   "metadata": {},
   "outputs": [
    {
     "name": "stdout",
     "output_type": "stream",
     "text": [
      "2023-01-01T01:55:30-05:00\n",
      "year:2023\n",
      "month: 1\n",
      "day: 1\n",
      "hour: 1\n",
      "minute: 55\n",
      "second: 30\n"
     ]
    }
   ],
   "source": [
    "print(f\"\"\"{d.isoformat()}\n",
    "year:{d.year}\n",
    "month: {d.month}\n",
    "day: {d.day}\n",
    "hour: {d.hour}\n",
    "minute: {d.minute}\n",
    "second: {d.second}\"\"\")"
   ]
  },
  {
   "cell_type": "markdown",
   "id": "a2d5b13d",
   "metadata": {},
   "source": [
    "What makes `pandas` special is that it can easily batch process a series of date/time data. For example, we can use `pandas.to_datetime` to convert a list of ISO 8601 strings to a series of `pandas.Timestamp` objects:"
   ]
  },
  {
   "cell_type": "code",
   "execution_count": 9,
   "id": "e0035e90",
   "metadata": {},
   "outputs": [
    {
     "data": {
      "text/plain": [
       "DatetimeIndex(['2023-01-01 01:55:30-05:00', '2023-01-03 12:51:00-05:00',\n",
       "               '2023-01-11 15:25:09-05:00'],\n",
       "              dtype='datetime64[ns, pytz.FixedOffset(-300)]', freq=None)"
      ]
     },
     "execution_count": 9,
     "metadata": {},
     "output_type": "execute_result"
    }
   ],
   "source": [
    "dates = pd.to_datetime([\"2023-01-01T01:55:30-0500\", \"2023-01-03T12:51:00-0500\", \"2023-01-11T15:25:09-0500\"])\n",
    "dates"
   ]
  },
  {
   "cell_type": "markdown",
   "id": "22fb126c",
   "metadata": {},
   "source": [
    "We can also batch extract different temporal attributes from this series easily just like working with a single `pandas.Timestamp` object."
   ]
  },
  {
   "cell_type": "code",
   "execution_count": 10,
   "id": "faf25ee1",
   "metadata": {},
   "outputs": [
    {
     "name": "stdout",
     "output_type": "stream",
     "text": [
      "Int64Index([2023, 2023, 2023], dtype='int64')\n",
      "Int64Index([1, 1, 1], dtype='int64')\n",
      "Int64Index([1, 3, 11], dtype='int64')\n",
      "Int64Index([1, 12, 15], dtype='int64')\n",
      "Int64Index([55, 51, 25], dtype='int64')\n",
      "Int64Index([30, 0, 9], dtype='int64')\n"
     ]
    }
   ],
   "source": [
    "print(dates.year)\n",
    "print(dates.month)\n",
    "print(dates.day)\n",
    "print(dates.hour)\n",
    "print(dates.minute)\n",
    "print(dates.second)"
   ]
  },
  {
   "cell_type": "markdown",
   "id": "fe6e06ae",
   "metadata": {},
   "source": [
    "This capability is super convenient! This means we can very easily extract different properties of a column of temporal data and store the result as new columns.  Let's walk through this process using a very simple dataset."
   ]
  },
  {
   "cell_type": "code",
   "execution_count": 11,
   "id": "0e044494",
   "metadata": {},
   "outputs": [
    {
     "data": {
      "text/html": [
       "<div>\n",
       "<style scoped>\n",
       "    .dataframe tbody tr th:only-of-type {\n",
       "        vertical-align: middle;\n",
       "    }\n",
       "\n",
       "    .dataframe tbody tr th {\n",
       "        vertical-align: top;\n",
       "    }\n",
       "\n",
       "    .dataframe thead th {\n",
       "        text-align: right;\n",
       "    }\n",
       "</style>\n",
       "<table border=\"1\" class=\"dataframe\">\n",
       "  <thead>\n",
       "    <tr style=\"text-align: right;\">\n",
       "      <th></th>\n",
       "      <th>date</th>\n",
       "      <th>sale</th>\n",
       "    </tr>\n",
       "  </thead>\n",
       "  <tbody>\n",
       "    <tr>\n",
       "      <th>0</th>\n",
       "      <td>2023-01-01T8:00:00</td>\n",
       "      <td>24</td>\n",
       "    </tr>\n",
       "    <tr>\n",
       "      <th>1</th>\n",
       "      <td>2023-01-03T9:00:00</td>\n",
       "      <td>25</td>\n",
       "    </tr>\n",
       "    <tr>\n",
       "      <th>2</th>\n",
       "      <td>2023-01-05T10:00:00</td>\n",
       "      <td>26</td>\n",
       "    </tr>\n",
       "  </tbody>\n",
       "</table>\n",
       "</div>"
      ],
      "text/plain": [
       "                  date  sale\n",
       "0   2023-01-01T8:00:00    24\n",
       "1   2023-01-03T9:00:00    25\n",
       "2  2023-01-05T10:00:00    26"
      ]
     },
     "execution_count": 11,
     "metadata": {},
     "output_type": "execute_result"
    }
   ],
   "source": [
    "data = pd.DataFrame({\n",
    "    \"date\": [\"2023-01-01T8:00:00\", \"2023-01-03T9:00:00\", \"2023-01-05T10:00:00\"],\n",
    "    \"sale\": [24, 25, 26]\n",
    "})\n",
    "data"
   ]
  },
  {
   "cell_type": "markdown",
   "id": "adff1705",
   "metadata": {},
   "source": [
    "Here we have a table of 3 rows and 2 columns. The column \"date\" contains temporal data that include date and time information. To extract the day, hour and day name information from the \"date\" column into their own columns, we can using the following:"
   ]
  },
  {
   "cell_type": "code",
   "execution_count": 12,
   "id": "f892e87b",
   "metadata": {},
   "outputs": [
    {
     "data": {
      "text/html": [
       "<div>\n",
       "<style scoped>\n",
       "    .dataframe tbody tr th:only-of-type {\n",
       "        vertical-align: middle;\n",
       "    }\n",
       "\n",
       "    .dataframe tbody tr th {\n",
       "        vertical-align: top;\n",
       "    }\n",
       "\n",
       "    .dataframe thead th {\n",
       "        text-align: right;\n",
       "    }\n",
       "</style>\n",
       "<table border=\"1\" class=\"dataframe\">\n",
       "  <thead>\n",
       "    <tr style=\"text-align: right;\">\n",
       "      <th></th>\n",
       "      <th>date</th>\n",
       "      <th>sale</th>\n",
       "      <th>day</th>\n",
       "      <th>hour</th>\n",
       "      <th>day_name</th>\n",
       "    </tr>\n",
       "  </thead>\n",
       "  <tbody>\n",
       "    <tr>\n",
       "      <th>0</th>\n",
       "      <td>2023-01-01 08:00:00</td>\n",
       "      <td>24</td>\n",
       "      <td>1</td>\n",
       "      <td>8</td>\n",
       "      <td>Sunday</td>\n",
       "    </tr>\n",
       "    <tr>\n",
       "      <th>1</th>\n",
       "      <td>2023-01-03 09:00:00</td>\n",
       "      <td>25</td>\n",
       "      <td>3</td>\n",
       "      <td>9</td>\n",
       "      <td>Tuesday</td>\n",
       "    </tr>\n",
       "    <tr>\n",
       "      <th>2</th>\n",
       "      <td>2023-01-05 10:00:00</td>\n",
       "      <td>26</td>\n",
       "      <td>5</td>\n",
       "      <td>10</td>\n",
       "      <td>Thursday</td>\n",
       "    </tr>\n",
       "  </tbody>\n",
       "</table>\n",
       "</div>"
      ],
      "text/plain": [
       "                 date  sale  day  hour  day_name\n",
       "0 2023-01-01 08:00:00    24    1     8    Sunday\n",
       "1 2023-01-03 09:00:00    25    3     9   Tuesday\n",
       "2 2023-01-05 10:00:00    26    5    10  Thursday"
      ]
     },
     "execution_count": 12,
     "metadata": {},
     "output_type": "execute_result"
    }
   ],
   "source": [
    "data.date = pd.to_datetime(data.date)\n",
    "data[\"day\"] = data.date.dt.day\n",
    "data[\"hour\"] = data.date.dt.hour\n",
    "data[\"day_name\"] = data.date.dt.day_name()\n",
    "data"
   ]
  },
  {
   "cell_type": "markdown",
   "id": "90ab57d7",
   "metadata": {},
   "source": [
    "## Summary:\n",
    "\n",
    "Python provides multiple connected ways of representing date/time information. Among them, processing temporal data with `pandas` is perhaps the most convenient in data science settings. To learn more about each representation, here are the list to their documentation:\n",
    "* [`datetime.datetime` doc](https://docs.python.org/3/library/datetime.html)\n",
    "* [`numpy.datetime64` doc](https://numpy.org/doc/stable/reference/arrays.datetime.html)\n",
    "* [`pandas.Timestamp` doc](https://pandas.pydata.org/docs/user_guide/timeseries.html)"
   ]
  },
  {
   "cell_type": "code",
   "execution_count": null,
   "id": "6c1b15d1",
   "metadata": {},
   "outputs": [],
   "source": []
  }
 ],
 "metadata": {
  "kernelspec": {
   "display_name": "Python 3 (ipykernel)",
   "language": "python",
   "name": "python3"
  },
  "language_info": {
   "codemirror_mode": {
    "name": "ipython",
    "version": 3
   },
   "file_extension": ".py",
   "mimetype": "text/x-python",
   "name": "python",
   "nbconvert_exporter": "python",
   "pygments_lexer": "ipython3",
   "version": "3.10.9"
  }
 },
 "nbformat": 4,
 "nbformat_minor": 5
}
